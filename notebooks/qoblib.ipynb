{
 "cells": [
  {
   "cell_type": "markdown",
   "id": "39a93537",
   "metadata": {},
   "source": [
    "# OmmxQuantumBenchmark - QOBLIB"
   ]
  },
  {
   "cell_type": "code",
   "execution_count": null,
   "id": "36e57e90",
   "metadata": {},
   "outputs": [],
   "source": [
    "%load_ext autoreload\n",
    "%autoreload 2"
   ]
  },
  {
   "cell_type": "code",
   "execution_count": null,
   "id": "5119e86d",
   "metadata": {},
   "outputs": [],
   "source": [
    "import sys\n",
    "import os\n",
    "\n",
    "root_path = os.path.abspath(\"./../ommx_quantum_benchmarks\")\n",
    "if root_path not in sys.path:\n",
    "    sys.path.insert(0, root_path)\n",
    "\n",
    "project_root = os.path.abspath(\"..\")\n",
    "if project_root not in sys.path:\n",
    "    sys.path.insert(0, project_root)"
   ]
  },
  {
   "cell_type": "code",
   "execution_count": null,
   "id": "9bc5d682",
   "metadata": {},
   "outputs": [],
   "source": [
    "from pathlib import Path\n",
    "\n",
    "from qoblib import qoblib\n",
    "from qoblib.uploader import Uploader\n",
    "from qoblib.definitions import get_instance_tag"
   ]
  },
  {
   "cell_type": "markdown",
   "id": "440bfce3",
   "metadata": {},
   "source": [
    "## Uploader"
   ]
  },
  {
   "cell_type": "code",
   "execution_count": null,
   "id": "7c1ab773",
   "metadata": {},
   "outputs": [],
   "source": [
    "# DEFINE THE PATH TO THE DIRECTORY CONTAINING THE MODELS, CHANGE IT BY YOURSELF.\n",
    "models_dir_path = \"./../ommx_quantum_benchmarks/qoblib/09_routing/models\""
   ]
  },
  {
   "cell_type": "code",
   "execution_count": null,
   "id": "a2c9277e",
   "metadata": {},
   "outputs": [],
   "source": [
    "uploader = Uploader()\n",
    "uploader"
   ]
  },
  {
   "cell_type": "code",
   "execution_count": null,
   "id": "fdc369c9",
   "metadata": {},
   "outputs": [],
   "source": [
    "# Get all directories right under models_dir_path containing a directory named ommx_output.\n",
    "directory_paths = [item for item in Path(models_dir_path).iterdir() if item.is_dir() and (item / \"ommx_output\").is_dir()]\n",
    "directory_paths"
   ]
  },
  {
   "cell_type": "code",
   "execution_count": null,
   "id": "3b9b71ff",
   "metadata": {},
   "outputs": [],
   "source": [
    "for directory_path in directory_paths:\n",
    "    # Get all ommx files in the ommx_output_directory.\n",
    "    ommx_filepaths = list((directory_path / \"ommx_output\").glob(\"*.ommx\"))\n",
    "\n",
    "    for ommx_filepath in ommx_filepaths:\n",
    "        # Print the current tag.\n",
    "        instance_tag = get_instance_tag(\n",
    "            dataset_name=Path(models_dir_path).parent.name,\n",
    "            model_name=directory_path.name,\n",
    "            instance_name=ommx_filepath.stem\n",
    "        )\n",
    "        print(instance_tag)\n",
    "\n",
    "        # Push the OMMX archive file to the Github Packages.\n",
    "        try:\n",
    "            uploader.push_ommx(\n",
    "                dataset_name=Path(models_dir_path).parent.name,\n",
    "                model_name=directory_path.name,\n",
    "                instance_name=ommx_filepath.stem,\n",
    "                ommx_filepath=ommx_filepath,\n",
    "                verification=True\n",
    "            )\n",
    "        except RuntimeError as e:\n",
    "            print(f\"\\tError occurred for {instance_tag}: {e}\")\n",
    "            continue"
   ]
  },
  {
   "cell_type": "markdown",
   "id": "a5924961",
   "metadata": {},
   "source": [
    "## Downloader"
   ]
  },
  {
   "cell_type": "code",
   "execution_count": null,
   "id": "42ee6bac",
   "metadata": {},
   "outputs": [],
   "source": [
    "labs = qoblib.Labs()\n",
    "labs"
   ]
  },
  {
   "cell_type": "code",
   "execution_count": null,
   "id": "b1b717fd",
   "metadata": {},
   "outputs": [],
   "source": [
    "(instance, solution) = labs(\"integer_linear\", \"stp_s020_l3_t3_h2_rs24098\")"
   ]
  },
  {
   "cell_type": "code",
   "execution_count": null,
   "id": "585546ef",
   "metadata": {},
   "outputs": [],
   "source": [
    "print(instance.title)\n",
    "print(instance.license)\n",
    "print(instance.dataset)\n",
    "print(instance.authors)\n",
    "print(instance.num_variables)\n",
    "print(instance.num_constraints)\n",
    "print(instance.created)"
   ]
  },
  {
   "cell_type": "code",
   "execution_count": null,
   "id": "e128598f",
   "metadata": {},
   "outputs": [],
   "source": [
    "print(\"Objective value:\", solution.objective)\n",
    "print(\"Is solution feasible?\", solution.feasible)\n",
    "print(\"Constraint violations:\", solution.state)\n",
    "solution"
   ]
  },
  {
   "cell_type": "code",
   "execution_count": null,
   "id": "833cd119",
   "metadata": {},
   "outputs": [],
   "source": [
    "print(solution.instance)\n",
    "print(solution.solver)\n",
    "print(solution.parameters)\n",
    "print(solution.start)\n",
    "print(solution.end)"
   ]
  },
  {
   "cell_type": "code",
   "execution_count": null,
   "id": "06e7de3f",
   "metadata": {},
   "outputs": [],
   "source": [
    "evaluated_solution = instance.evaluate(solution.state)  \n",
    "print(\"Objective value:\", evaluated_solution.objective)\n",
    "print(\"Is solution feasible?\", evaluated_solution.feasible)\n",
    "print(\"Constraint violations:\", evaluated_solution.state)\n",
    "evaluated_solution"
   ]
  },
  {
   "cell_type": "code",
   "execution_count": null,
   "id": "77baa241",
   "metadata": {},
   "outputs": [],
   "source": [
    "# Error must be raised due to non-existing instance name: hogehoge.\n",
    "labs(\"integer\", \"hogehoge\")"
   ]
  },
  {
   "cell_type": "code",
   "execution_count": null,
   "id": "acc659d6",
   "metadata": {},
   "outputs": [],
   "source": [
    "# Error must be raised due to non-existing model name: hogehoge.\n",
    "labs(\"hogehoge\", \"labs002\")"
   ]
  },
  {
   "cell_type": "code",
   "execution_count": null,
   "id": "89f8f670",
   "metadata": {},
   "outputs": [],
   "source": []
  }
 ],
 "metadata": {
  "kernelspec": {
   "display_name": "ommx-oblib",
   "language": "python",
   "name": "python3"
  },
  "language_info": {
   "codemirror_mode": {
    "name": "ipython",
    "version": 3
   },
   "file_extension": ".py",
   "mimetype": "text/x-python",
   "name": "python",
   "nbconvert_exporter": "python",
   "pygments_lexer": "ipython3",
   "version": "3.10.18"
  }
 },
 "nbformat": 4,
 "nbformat_minor": 5
}
