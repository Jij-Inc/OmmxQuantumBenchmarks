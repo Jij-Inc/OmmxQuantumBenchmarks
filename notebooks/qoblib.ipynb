{
 "cells": [
  {
   "cell_type": "markdown",
   "id": "39a93537",
   "metadata": {},
   "source": [
    "# OmmxQuantumBenchmark - QOBLIB"
   ]
  },
  {
   "cell_type": "code",
   "execution_count": 1,
   "id": "36e57e90",
   "metadata": {},
   "outputs": [],
   "source": [
    "%load_ext autoreload\n",
    "%autoreload 2"
   ]
  },
  {
   "cell_type": "code",
   "execution_count": 2,
   "id": "5119e86d",
   "metadata": {},
   "outputs": [],
   "source": [
    "import sys\n",
    "import os\n",
    "\n",
    "root_path = os.path.abspath(\"./../ommx_quantum_benchmarks\")\n",
    "if root_path not in sys.path:\n",
    "    sys.path.insert(0, root_path)\n",
    "\n",
    "project_root = os.path.abspath(\"..\")\n",
    "if project_root not in sys.path:\n",
    "    sys.path.insert(0, project_root)"
   ]
  },
  {
   "cell_type": "code",
   "execution_count": 3,
   "id": "9bc5d682",
   "metadata": {},
   "outputs": [],
   "source": [
    "from pathlib import Path\n",
    "\n",
    "from uploader import Uploader as BaseUploader\n",
    "from qoblib import qoblib\n",
    "from qoblib.uploader import Uploader"
   ]
  },
  {
   "cell_type": "markdown",
   "id": "440bfce3",
   "metadata": {},
   "source": [
    "## Uploader"
   ]
  },
  {
   "cell_type": "code",
   "execution_count": null,
   "id": "a2c9277e",
   "metadata": {},
   "outputs": [],
   "source": [
    "uploader = Uploader()\n",
    "uploader"
   ]
  },
  {
   "cell_type": "code",
   "execution_count": null,
   "id": "fdc369c9",
   "metadata": {},
   "outputs": [],
   "source": [
    "models_dir_path = \"./../02_labs/models\"  # Define by yourself\n",
    "\n",
    "# Get all directories right under models_dir_path containing a directory named ommx_output.\n",
    "directory_paths = [item for item in Path(models_dir_path).iterdir() if item.is_dir() and (item / \"ommx_output\").is_dir()]\n",
    "directory_paths"
   ]
  },
  {
   "cell_type": "code",
   "execution_count": null,
   "id": "3b9b71ff",
   "metadata": {},
   "outputs": [],
   "source": [
    "for directory_path in directory_paths:\n",
    "    # Get all ommx files in the ommx_output_directory.\n",
    "    ommx_filepaths = list((directory_path / \"ommx_output\").glob(\"*.ommx\"))\n",
    "\n",
    "    for ommx_filepath in ommx_filepaths:\n",
    "        image_tag = f\"{Path(models_dir_path).parent.name}-{directory_path.name}-{ommx_filepath.stem}\"\n",
    "        print(image_tag)\n",
    "        try:\n",
    "            uploader.push_ommx(image_tag=image_tag, ommx_filepath=ommx_filepath, verification=True)\n",
    "        except RuntimeError as e:\n",
    "            print(f\"\\tError occurred for {image_tag}: {e}\")\n",
    "            continue"
   ]
  },
  {
   "cell_type": "markdown",
   "id": "a5924961",
   "metadata": {},
   "source": [
    "## Downloader"
   ]
  },
  {
   "cell_type": "code",
   "execution_count": 4,
   "id": "42ee6bac",
   "metadata": {},
   "outputs": [
    {
     "data": {
      "text/plain": [
       "Labs(name='02_labs', description='Labs dataset in ommx format, originally provided by https://git.zib.de/qopt/qoblib-quantum-optimization-benchmarking-library/-/tree/main/02-labs?ref_type=heads.', model_names=['integer', 'quadratic_unconstrained'], base_url='ghcr.io/jij-inc/ommx-oblib/qoblib', available_instances={'integer': ['labs002', 'labs003', 'labs004', 'labs005', 'labs006', 'labs007', 'labs008', 'labs009', 'labs010', 'labs011', 'labs012', 'labs013', 'labs014', 'labs015', 'labs016', 'labs017', 'labs018', 'labs019', 'labs020', 'labs021', 'labs022', 'labs023', 'labs024', 'labs025', 'labs026', 'labs027', 'labs028', 'labs029', 'labs030', 'labs031', 'labs032', 'labs033', 'labs034', 'labs035', 'labs036', 'labs037', 'labs038', 'labs039', 'labs040', 'labs041', 'labs042', 'labs043', 'labs044', 'labs045', 'labs046', 'labs047', 'labs048', 'labs049', 'labs050', 'labs051', 'labs052', 'labs053', 'labs054', 'labs055', 'labs056', 'labs057', 'labs058', 'labs059', 'labs060', 'labs061', 'labs062', 'labs063', 'labs064', 'labs065', 'labs066', 'labs067', 'labs068', 'labs069', 'labs070', 'labs071', 'labs072', 'labs073', 'labs074', 'labs075', 'labs076', 'labs077', 'labs078', 'labs079', 'labs080', 'labs081', 'labs082', 'labs083', 'labs084', 'labs085', 'labs086', 'labs087', 'labs088', 'labs089', 'labs090', 'labs091', 'labs092', 'labs093', 'labs094', 'labs095', 'labs096', 'labs097', 'labs098', 'labs099', 'labs100'], 'quadratic_unconstrained': ['labs002', 'labs003', 'labs004', 'labs005', 'labs006', 'labs007', 'labs008', 'labs009', 'labs010', 'labs011', 'labs012', 'labs013', 'labs014', 'labs015', 'labs016', 'labs017', 'labs018', 'labs019', 'labs020', 'labs021', 'labs022', 'labs023', 'labs024', 'labs025', 'labs026', 'labs027', 'labs028', 'labs029', 'labs030', 'labs031', 'labs032', 'labs033', 'labs034', 'labs035', 'labs036', 'labs037', 'labs038', 'labs039', 'labs040', 'labs041', 'labs042', 'labs043', 'labs044', 'labs045', 'labs046', 'labs047', 'labs048', 'labs049', 'labs050', 'labs051', 'labs052', 'labs053', 'labs054', 'labs055', 'labs056', 'labs057', 'labs058', 'labs059', 'labs060', 'labs061', 'labs062', 'labs063', 'labs064', 'labs065', 'labs066', 'labs067', 'labs068', 'labs069', 'labs070', 'labs071', 'labs072', 'labs073', 'labs074', 'labs075', 'labs076', 'labs077', 'labs078', 'labs079', 'labs080', 'labs081', 'labs082', 'labs083', 'labs084', 'labs085', 'labs086', 'labs087', 'labs088', 'labs089', 'labs090', 'labs091', 'labs092', 'labs093', 'labs094', 'labs095', 'labs096', 'labs097', 'labs098', 'labs099', 'labs100']}, model_url={'integer': 'ghcr.io/jij-inc/ommx-oblib/qoblib:02_labs-integer', 'quadratic_unconstrained': 'ghcr.io/jij-inc/ommx-oblib/qoblib:02_labs-quadratic_unconstrained'})"
      ]
     },
     "execution_count": 4,
     "metadata": {},
     "output_type": "execute_result"
    }
   ],
   "source": [
    "labs = qoblib.Labs()\n",
    "labs"
   ]
  },
  {
   "cell_type": "code",
   "execution_count": 5,
   "id": "b1b717fd",
   "metadata": {},
   "outputs": [],
   "source": [
    "(instance, solution) = labs(\"integer\", \"labs002\")"
   ]
  },
  {
   "cell_type": "code",
   "execution_count": 6,
   "id": "32355b29",
   "metadata": {},
   "outputs": [
    {
     "data": {
      "text/plain": [
       "Instance(raw=<builtins.Instance object at 0x122bc0630>, annotations={'org.minto.storage': 'instances', 'org.minto.space': 'experiment', 'org.minto.name': 'labs002'})"
      ]
     },
     "execution_count": 6,
     "metadata": {},
     "output_type": "execute_result"
    }
   ],
   "source": [
    "instance"
   ]
  },
  {
   "cell_type": "code",
   "execution_count": 7,
   "id": "e128598f",
   "metadata": {},
   "outputs": [
    {
     "name": "stdout",
     "output_type": "stream",
     "text": [
      "Objective value: 1.0\n",
      "Is solution feasible? True\n",
      "Constraint violations: State(entries={1: 1.0, 2: 1.0, 0: 1.0})\n"
     ]
    },
    {
     "data": {
      "text/plain": [
       "Solution(raw=<builtins.Solution object at 0x1231e8450>, annotations={'org.minto.storage': 'solutions', 'org.minto.space': 'experiment', 'org.minto.name': 'labs002'})"
      ]
     },
     "execution_count": 7,
     "metadata": {},
     "output_type": "execute_result"
    }
   ],
   "source": [
    "print(\"Objective value:\", solution.objective)\n",
    "print(\"Is solution feasible?\", solution.feasible)\n",
    "print(\"Constraint violations:\", solution.state)\n",
    "solution"
   ]
  },
  {
   "cell_type": "code",
   "execution_count": 8,
   "id": "06e7de3f",
   "metadata": {},
   "outputs": [
    {
     "name": "stdout",
     "output_type": "stream",
     "text": [
      "Objective value: 1.0\n",
      "Is solution feasible? True\n",
      "Constraint violations: State(entries={2: 1.0, 0: 1.0, 1: 1.0})\n"
     ]
    },
    {
     "data": {
      "text/plain": [
       "Solution(raw=<builtins.Solution object at 0x107d57930>, annotations={})"
      ]
     },
     "execution_count": 8,
     "metadata": {},
     "output_type": "execute_result"
    }
   ],
   "source": [
    "evaluated_solution = instance.evaluate(solution.state)  \n",
    "print(\"Objective value:\", evaluated_solution.objective)\n",
    "print(\"Is solution feasible?\", evaluated_solution.feasible)\n",
    "print(\"Constraint violations:\", evaluated_solution.state)\n",
    "evaluated_solution"
   ]
  },
  {
   "cell_type": "code",
   "execution_count": 25,
   "id": "77baa241",
   "metadata": {},
   "outputs": [
    {
     "ename": "FileNotFoundError",
     "evalue": "Invalid dataset name: ghcr.io/jij-inc/ommx-oblib/qoblib:02_labs-integer-hogehoge. Choose from the available datasets:\n- Model: integer, Instances: labs002, labs003, labs004, labs005, labs006, labs007, labs008, labs009, labs010, labs011, labs012, labs013, labs014, labs015, labs016, labs017, labs018, labs019, labs020, labs021, labs022, labs023, labs024, labs025, labs026, labs027, labs028, labs029, labs030, labs031, labs032, labs033, labs034, labs035, labs036, labs037, labs038, labs039, labs040, labs041, labs042, labs043, labs044, labs045, labs046, labs047, labs048, labs049, labs050, labs051, labs052, labs053, labs054, labs055, labs056, labs057, labs058, labs059, labs060, labs061, labs062, labs063, labs064, labs065, labs066, labs067, labs068, labs069, labs070, labs071, labs072, labs073, labs074, labs075, labs076, labs077, labs078, labs079, labs080, labs081, labs082, labs083, labs084, labs085, labs086, labs087, labs088, labs089, labs090, labs091, labs092, labs093, labs094, labs095, labs096, labs097, labs098, labs099, labs100\n- Model: quadratic_unconstrained, Instances: labs002, labs003, labs004, labs005, labs006, labs007, labs008, labs009, labs010, labs011, labs012, labs013, labs014, labs015, labs016, labs017, labs018, labs019, labs020, labs021, labs022, labs023, labs024, labs025, labs026, labs027, labs028, labs029, labs030, labs031, labs032, labs033, labs034, labs035, labs036, labs037, labs038, labs039, labs040, labs041, labs042, labs043, labs044, labs045, labs046, labs047, labs048, labs049, labs050, labs051, labs052, labs053, labs054, labs055, labs056, labs057, labs058, labs059, labs060, labs061, labs062, labs063, labs064, labs065, labs066, labs067, labs068, labs069, labs070, labs071, labs072, labs073, labs074, labs075, labs076, labs077, labs078, labs079, labs080, labs081, labs082, labs083, labs084, labs085, labs086, labs087, labs088, labs089, labs090, labs091, labs092, labs093, labs094, labs095, labs096, labs097, labs098, labs099, labs100\nOr please have a look at the Package: https://github.com/Jij-Inc/OMMX-OBLIB/pkgs/container/ommx-oblib%2Fqoblib",
     "output_type": "error",
     "traceback": [
      "\u001b[0;31m---------------------------------------------------------------------------\u001b[0m",
      "\u001b[0;31mRuntimeError\u001b[0m                              Traceback (most recent call last)",
      "File \u001b[0;32m~/dev/git/OMMX-OBLIB/ommx_quantum_benchmarks/qoblib/qoblib.py:77\u001b[0m, in \u001b[0;36mBaseDataset.get_experiment\u001b[0;34m(self, model_name, instance_name)\u001b[0m\n\u001b[1;32m     76\u001b[0m \u001b[38;5;28;01mtry\u001b[39;00m:\n\u001b[0;32m---> 77\u001b[0m     experiment \u001b[38;5;241m=\u001b[39m \u001b[43mminto\u001b[49m\u001b[38;5;241;43m.\u001b[39;49m\u001b[43mExperiment\u001b[49m\u001b[38;5;241;43m.\u001b[39;49m\u001b[43mload_from_registry\u001b[49m\u001b[43m(\u001b[49m\u001b[43minstance_url\u001b[49m\u001b[43m)\u001b[49m\n\u001b[1;32m     78\u001b[0m \u001b[38;5;28;01mexcept\u001b[39;00m \u001b[38;5;167;01mRuntimeError\u001b[39;00m \u001b[38;5;28;01mas\u001b[39;00m e:\n",
      "File \u001b[0;32m~/dev/git/OMMX-OBLIB/.venv/lib/python3.10/site-packages/minto/experiment.py:599\u001b[0m, in \u001b[0;36mExperiment.load_from_registry\u001b[0;34m(cls, imagename)\u001b[0m\n\u001b[1;32m    591\u001b[0m \u001b[38;5;250m\u001b[39m\u001b[38;5;124;03m\"\"\"Load an experiment from a Docker registry.\u001b[39;00m\n\u001b[1;32m    592\u001b[0m \n\u001b[1;32m    593\u001b[0m \u001b[38;5;124;03mArgs:\u001b[39;00m\n\u001b[0;32m   (...)\u001b[0m\n\u001b[1;32m    597\u001b[0m \u001b[38;5;124;03m    Experiment: Instance of the loaded experiment.\u001b[39;00m\n\u001b[1;32m    598\u001b[0m \u001b[38;5;124;03m\"\"\"\u001b[39;00m\n\u001b[0;32m--> 599\u001b[0m artifact \u001b[38;5;241m=\u001b[39m \u001b[43mox_artifact\u001b[49m\u001b[38;5;241;43m.\u001b[39;49m\u001b[43mArtifact\u001b[49m\u001b[38;5;241;43m.\u001b[39;49m\u001b[43mload\u001b[49m\u001b[43m(\u001b[49m\u001b[43mimagename\u001b[49m\u001b[43m)\u001b[49m\n\u001b[1;32m    600\u001b[0m dataspace \u001b[38;5;241m=\u001b[39m ExperimentDataSpace\u001b[38;5;241m.\u001b[39mload_from_ommx_artifact(artifact)\n",
      "File \u001b[0;32m~/dev/git/OMMX-OBLIB/.venv/lib/python3.10/site-packages/ommx/artifact.py:151\u001b[0m, in \u001b[0;36mArtifact.load\u001b[0;34m(image_name)\u001b[0m\n\u001b[1;32m    138\u001b[0m \u001b[38;5;250m\u001b[39m\u001b[38;5;124;03m\"\"\"\u001b[39;00m\n\u001b[1;32m    139\u001b[0m \u001b[38;5;124;03mLoad an artifact stored as container image in local or remote registry\u001b[39;00m\n\u001b[1;32m    140\u001b[0m \n\u001b[0;32m   (...)\u001b[0m\n\u001b[1;32m    149\u001b[0m \n\u001b[1;32m    150\u001b[0m \u001b[38;5;124;03m\"\"\"\u001b[39;00m\n\u001b[0;32m--> 151\u001b[0m base \u001b[38;5;241m=\u001b[39m \u001b[43mArtifactDir\u001b[49m\u001b[38;5;241;43m.\u001b[39;49m\u001b[43mfrom_image_name\u001b[49m\u001b[43m(\u001b[49m\u001b[43mimage_name\u001b[49m\u001b[43m)\u001b[49m\n\u001b[1;32m    152\u001b[0m \u001b[38;5;28;01mreturn\u001b[39;00m Artifact(base)\n",
      "File \u001b[0;32m~/dev/git/OMMX-OBLIB/.venv/lib/python3.10/site-packages/ommx/artifact.py:82\u001b[0m, in \u001b[0;36mArtifactDir.from_image_name\u001b[0;34m(image_name)\u001b[0m\n\u001b[1;32m     80\u001b[0m \u001b[38;5;129m@staticmethod\u001b[39m\n\u001b[1;32m     81\u001b[0m \u001b[38;5;28;01mdef\u001b[39;00m\u001b[38;5;250m \u001b[39m\u001b[38;5;21mfrom_image_name\u001b[39m(image_name: \u001b[38;5;28mstr\u001b[39m) \u001b[38;5;241m-\u001b[39m\u001b[38;5;241m>\u001b[39m ArtifactDir:\n\u001b[0;32m---> 82\u001b[0m     \u001b[38;5;28;01mreturn\u001b[39;00m ArtifactDir(\u001b[43m_ArtifactDir\u001b[49m\u001b[38;5;241;43m.\u001b[39;49m\u001b[43mfrom_image_name\u001b[49m\u001b[43m(\u001b[49m\u001b[43mimage_name\u001b[49m\u001b[43m)\u001b[49m)\n",
      "\u001b[0;31mRuntimeError\u001b[0m: https://ghcr.io/v2/jij-inc/ommx-oblib/qoblib/manifests/02_labs-integer-hogehoge: status code 404",
      "\nThe above exception was the direct cause of the following exception:\n",
      "\u001b[0;31mFileNotFoundError\u001b[0m                         Traceback (most recent call last)",
      "Cell \u001b[0;32mIn[25], line 1\u001b[0m\n\u001b[0;32m----> 1\u001b[0m \u001b[43mlabs\u001b[49m\u001b[43m(\u001b[49m\u001b[38;5;124;43m\"\u001b[39;49m\u001b[38;5;124;43minteger\u001b[39;49m\u001b[38;5;124;43m\"\u001b[39;49m\u001b[43m,\u001b[49m\u001b[43m \u001b[49m\u001b[38;5;124;43m\"\u001b[39;49m\u001b[38;5;124;43mhogehoge\u001b[39;49m\u001b[38;5;124;43m\"\u001b[39;49m\u001b[43m)\u001b[49m\n",
      "File \u001b[0;32m~/dev/git/OMMX-OBLIB/ommx_quantum_benchmarks/qoblib/qoblib.py:109\u001b[0m, in \u001b[0;36mBaseDataset.__call__\u001b[0;34m(self, model_name, instance_name)\u001b[0m\n\u001b[1;32m     97\u001b[0m \u001b[38;5;28;01mdef\u001b[39;00m\u001b[38;5;250m \u001b[39m\u001b[38;5;21m__call__\u001b[39m(\n\u001b[1;32m     98\u001b[0m     \u001b[38;5;28mself\u001b[39m, model_name: \u001b[38;5;28mstr\u001b[39m, instance_name: \u001b[38;5;28mstr\u001b[39m\n\u001b[1;32m     99\u001b[0m ) \u001b[38;5;241m-\u001b[39m\u001b[38;5;241m>\u001b[39m \u001b[38;5;28mtuple\u001b[39m[ommx\u001b[38;5;241m.\u001b[39mv1\u001b[38;5;241m.\u001b[39mInstance, ommx\u001b[38;5;241m.\u001b[39mv1\u001b[38;5;241m.\u001b[39mSolution]:\n\u001b[1;32m    100\u001b[0m \u001b[38;5;250m    \u001b[39m\u001b[38;5;124;03m\"\"\"Get the OMMX instance and solution for a specific Labs dataset.\u001b[39;00m\n\u001b[1;32m    101\u001b[0m \n\u001b[1;32m    102\u001b[0m \u001b[38;5;124;03m    Args:\u001b[39;00m\n\u001b[0;32m   (...)\u001b[0m\n\u001b[1;32m    107\u001b[0m \u001b[38;5;124;03m        tuple[ommx.v1.Instance, ommx.v1.Solution]: The OMMX instance and solution.\u001b[39;00m\n\u001b[1;32m    108\u001b[0m \u001b[38;5;124;03m    \"\"\"\u001b[39;00m\n\u001b[0;32m--> 109\u001b[0m     experiment \u001b[38;5;241m=\u001b[39m \u001b[38;5;28;43mself\u001b[39;49m\u001b[38;5;241;43m.\u001b[39;49m\u001b[43mget_experiment\u001b[49m\u001b[43m(\u001b[49m\n\u001b[1;32m    110\u001b[0m \u001b[43m        \u001b[49m\u001b[43mmodel_name\u001b[49m\u001b[38;5;241;43m=\u001b[39;49m\u001b[43mmodel_name\u001b[49m\u001b[43m,\u001b[49m\u001b[43m \u001b[49m\u001b[43minstance_name\u001b[49m\u001b[38;5;241;43m=\u001b[39;49m\u001b[43minstance_name\u001b[49m\n\u001b[1;32m    111\u001b[0m \u001b[43m    \u001b[49m\u001b[43m)\u001b[49m\n\u001b[1;32m    112\u001b[0m     \u001b[38;5;66;03m# Load the only instance in the experiment.\u001b[39;00m\n\u001b[1;32m    113\u001b[0m     instances \u001b[38;5;241m=\u001b[39m experiment\u001b[38;5;241m.\u001b[39mget_current_datastore()\u001b[38;5;241m.\u001b[39minstances\n",
      "File \u001b[0;32m~/dev/git/OMMX-OBLIB/ommx_quantum_benchmarks/qoblib/qoblib.py:88\u001b[0m, in \u001b[0;36mBaseDataset.get_experiment\u001b[0;34m(self, model_name, instance_name)\u001b[0m\n\u001b[1;32m     86\u001b[0m \u001b[38;5;66;03m# If the error is 404 not found, raise FileNotFoundError with a user-friendly message.\u001b[39;00m\n\u001b[1;32m     87\u001b[0m \u001b[38;5;28;01mif\u001b[39;00m \u001b[38;5;124m\"\u001b[39m\u001b[38;5;124mstatus code 404\u001b[39m\u001b[38;5;124m\"\u001b[39m \u001b[38;5;129;01min\u001b[39;00m \u001b[38;5;28mstr\u001b[39m(e):\n\u001b[0;32m---> 88\u001b[0m     \u001b[38;5;28;01mraise\u001b[39;00m \u001b[38;5;167;01mFileNotFoundError\u001b[39;00m(error_message) \u001b[38;5;28;01mfrom\u001b[39;00m\u001b[38;5;250m \u001b[39m\u001b[38;5;21;01me\u001b[39;00m\n\u001b[1;32m     89\u001b[0m \u001b[38;5;28;01melif\u001b[39;00m \u001b[38;5;124m\"\u001b[39m\u001b[38;5;124mInvalid name\u001b[39m\u001b[38;5;124m\"\u001b[39m \u001b[38;5;129;01min\u001b[39;00m \u001b[38;5;28mstr\u001b[39m(e):\n\u001b[1;32m     90\u001b[0m     \u001b[38;5;28;01mraise\u001b[39;00m \u001b[38;5;167;01mFileNotFoundError\u001b[39;00m(error_message) \u001b[38;5;28;01mfrom\u001b[39;00m\u001b[38;5;250m \u001b[39m\u001b[38;5;21;01me\u001b[39;00m\n",
      "\u001b[0;31mFileNotFoundError\u001b[0m: Invalid dataset name: ghcr.io/jij-inc/ommx-oblib/qoblib:02_labs-integer-hogehoge. Choose from the available datasets:\n- Model: integer, Instances: labs002, labs003, labs004, labs005, labs006, labs007, labs008, labs009, labs010, labs011, labs012, labs013, labs014, labs015, labs016, labs017, labs018, labs019, labs020, labs021, labs022, labs023, labs024, labs025, labs026, labs027, labs028, labs029, labs030, labs031, labs032, labs033, labs034, labs035, labs036, labs037, labs038, labs039, labs040, labs041, labs042, labs043, labs044, labs045, labs046, labs047, labs048, labs049, labs050, labs051, labs052, labs053, labs054, labs055, labs056, labs057, labs058, labs059, labs060, labs061, labs062, labs063, labs064, labs065, labs066, labs067, labs068, labs069, labs070, labs071, labs072, labs073, labs074, labs075, labs076, labs077, labs078, labs079, labs080, labs081, labs082, labs083, labs084, labs085, labs086, labs087, labs088, labs089, labs090, labs091, labs092, labs093, labs094, labs095, labs096, labs097, labs098, labs099, labs100\n- Model: quadratic_unconstrained, Instances: labs002, labs003, labs004, labs005, labs006, labs007, labs008, labs009, labs010, labs011, labs012, labs013, labs014, labs015, labs016, labs017, labs018, labs019, labs020, labs021, labs022, labs023, labs024, labs025, labs026, labs027, labs028, labs029, labs030, labs031, labs032, labs033, labs034, labs035, labs036, labs037, labs038, labs039, labs040, labs041, labs042, labs043, labs044, labs045, labs046, labs047, labs048, labs049, labs050, labs051, labs052, labs053, labs054, labs055, labs056, labs057, labs058, labs059, labs060, labs061, labs062, labs063, labs064, labs065, labs066, labs067, labs068, labs069, labs070, labs071, labs072, labs073, labs074, labs075, labs076, labs077, labs078, labs079, labs080, labs081, labs082, labs083, labs084, labs085, labs086, labs087, labs088, labs089, labs090, labs091, labs092, labs093, labs094, labs095, labs096, labs097, labs098, labs099, labs100\nOr please have a look at the Package: https://github.com/Jij-Inc/OMMX-OBLIB/pkgs/container/ommx-oblib%2Fqoblib"
     ]
    }
   ],
   "source": [
    "labs(\"integer\", \"hogehoge\")"
   ]
  },
  {
   "cell_type": "code",
   "execution_count": 26,
   "id": "acc659d6",
   "metadata": {},
   "outputs": [
    {
     "ename": "FileNotFoundError",
     "evalue": "Invalid dataset name: None-labs002. Choose from the available datasets:\n- Model: integer, Instances: labs002, labs003, labs004, labs005, labs006, labs007, labs008, labs009, labs010, labs011, labs012, labs013, labs014, labs015, labs016, labs017, labs018, labs019, labs020, labs021, labs022, labs023, labs024, labs025, labs026, labs027, labs028, labs029, labs030, labs031, labs032, labs033, labs034, labs035, labs036, labs037, labs038, labs039, labs040, labs041, labs042, labs043, labs044, labs045, labs046, labs047, labs048, labs049, labs050, labs051, labs052, labs053, labs054, labs055, labs056, labs057, labs058, labs059, labs060, labs061, labs062, labs063, labs064, labs065, labs066, labs067, labs068, labs069, labs070, labs071, labs072, labs073, labs074, labs075, labs076, labs077, labs078, labs079, labs080, labs081, labs082, labs083, labs084, labs085, labs086, labs087, labs088, labs089, labs090, labs091, labs092, labs093, labs094, labs095, labs096, labs097, labs098, labs099, labs100\n- Model: quadratic_unconstrained, Instances: labs002, labs003, labs004, labs005, labs006, labs007, labs008, labs009, labs010, labs011, labs012, labs013, labs014, labs015, labs016, labs017, labs018, labs019, labs020, labs021, labs022, labs023, labs024, labs025, labs026, labs027, labs028, labs029, labs030, labs031, labs032, labs033, labs034, labs035, labs036, labs037, labs038, labs039, labs040, labs041, labs042, labs043, labs044, labs045, labs046, labs047, labs048, labs049, labs050, labs051, labs052, labs053, labs054, labs055, labs056, labs057, labs058, labs059, labs060, labs061, labs062, labs063, labs064, labs065, labs066, labs067, labs068, labs069, labs070, labs071, labs072, labs073, labs074, labs075, labs076, labs077, labs078, labs079, labs080, labs081, labs082, labs083, labs084, labs085, labs086, labs087, labs088, labs089, labs090, labs091, labs092, labs093, labs094, labs095, labs096, labs097, labs098, labs099, labs100\nOr please have a look at the Package: https://github.com/Jij-Inc/OMMX-OBLIB/pkgs/container/ommx-oblib%2Fqoblib",
     "output_type": "error",
     "traceback": [
      "\u001b[0;31m---------------------------------------------------------------------------\u001b[0m",
      "\u001b[0;31mRuntimeError\u001b[0m                              Traceback (most recent call last)",
      "File \u001b[0;32m~/dev/git/OMMX-OBLIB/ommx_quantum_benchmarks/qoblib/qoblib.py:77\u001b[0m, in \u001b[0;36mBaseDataset.get_experiment\u001b[0;34m(self, model_name, instance_name)\u001b[0m\n\u001b[1;32m     76\u001b[0m \u001b[38;5;28;01mtry\u001b[39;00m:\n\u001b[0;32m---> 77\u001b[0m     experiment \u001b[38;5;241m=\u001b[39m \u001b[43mminto\u001b[49m\u001b[38;5;241;43m.\u001b[39;49m\u001b[43mExperiment\u001b[49m\u001b[38;5;241;43m.\u001b[39;49m\u001b[43mload_from_registry\u001b[49m\u001b[43m(\u001b[49m\u001b[43minstance_url\u001b[49m\u001b[43m)\u001b[49m\n\u001b[1;32m     78\u001b[0m \u001b[38;5;28;01mexcept\u001b[39;00m \u001b[38;5;167;01mRuntimeError\u001b[39;00m \u001b[38;5;28;01mas\u001b[39;00m e:\n",
      "File \u001b[0;32m~/dev/git/OMMX-OBLIB/.venv/lib/python3.10/site-packages/minto/experiment.py:599\u001b[0m, in \u001b[0;36mExperiment.load_from_registry\u001b[0;34m(cls, imagename)\u001b[0m\n\u001b[1;32m    591\u001b[0m \u001b[38;5;250m\u001b[39m\u001b[38;5;124;03m\"\"\"Load an experiment from a Docker registry.\u001b[39;00m\n\u001b[1;32m    592\u001b[0m \n\u001b[1;32m    593\u001b[0m \u001b[38;5;124;03mArgs:\u001b[39;00m\n\u001b[0;32m   (...)\u001b[0m\n\u001b[1;32m    597\u001b[0m \u001b[38;5;124;03m    Experiment: Instance of the loaded experiment.\u001b[39;00m\n\u001b[1;32m    598\u001b[0m \u001b[38;5;124;03m\"\"\"\u001b[39;00m\n\u001b[0;32m--> 599\u001b[0m artifact \u001b[38;5;241m=\u001b[39m \u001b[43mox_artifact\u001b[49m\u001b[38;5;241;43m.\u001b[39;49m\u001b[43mArtifact\u001b[49m\u001b[38;5;241;43m.\u001b[39;49m\u001b[43mload\u001b[49m\u001b[43m(\u001b[49m\u001b[43mimagename\u001b[49m\u001b[43m)\u001b[49m\n\u001b[1;32m    600\u001b[0m dataspace \u001b[38;5;241m=\u001b[39m ExperimentDataSpace\u001b[38;5;241m.\u001b[39mload_from_ommx_artifact(artifact)\n",
      "File \u001b[0;32m~/dev/git/OMMX-OBLIB/.venv/lib/python3.10/site-packages/ommx/artifact.py:151\u001b[0m, in \u001b[0;36mArtifact.load\u001b[0;34m(image_name)\u001b[0m\n\u001b[1;32m    138\u001b[0m \u001b[38;5;250m\u001b[39m\u001b[38;5;124;03m\"\"\"\u001b[39;00m\n\u001b[1;32m    139\u001b[0m \u001b[38;5;124;03mLoad an artifact stored as container image in local or remote registry\u001b[39;00m\n\u001b[1;32m    140\u001b[0m \n\u001b[0;32m   (...)\u001b[0m\n\u001b[1;32m    149\u001b[0m \n\u001b[1;32m    150\u001b[0m \u001b[38;5;124;03m\"\"\"\u001b[39;00m\n\u001b[0;32m--> 151\u001b[0m base \u001b[38;5;241m=\u001b[39m \u001b[43mArtifactDir\u001b[49m\u001b[38;5;241;43m.\u001b[39;49m\u001b[43mfrom_image_name\u001b[49m\u001b[43m(\u001b[49m\u001b[43mimage_name\u001b[49m\u001b[43m)\u001b[49m\n\u001b[1;32m    152\u001b[0m \u001b[38;5;28;01mreturn\u001b[39;00m Artifact(base)\n",
      "File \u001b[0;32m~/dev/git/OMMX-OBLIB/.venv/lib/python3.10/site-packages/ommx/artifact.py:82\u001b[0m, in \u001b[0;36mArtifactDir.from_image_name\u001b[0;34m(image_name)\u001b[0m\n\u001b[1;32m     80\u001b[0m \u001b[38;5;129m@staticmethod\u001b[39m\n\u001b[1;32m     81\u001b[0m \u001b[38;5;28;01mdef\u001b[39;00m\u001b[38;5;250m \u001b[39m\u001b[38;5;21mfrom_image_name\u001b[39m(image_name: \u001b[38;5;28mstr\u001b[39m) \u001b[38;5;241m-\u001b[39m\u001b[38;5;241m>\u001b[39m ArtifactDir:\n\u001b[0;32m---> 82\u001b[0m     \u001b[38;5;28;01mreturn\u001b[39;00m ArtifactDir(\u001b[43m_ArtifactDir\u001b[49m\u001b[38;5;241;43m.\u001b[39;49m\u001b[43mfrom_image_name\u001b[49m\u001b[43m(\u001b[49m\u001b[43mimage_name\u001b[49m\u001b[43m)\u001b[49m)\n",
      "\u001b[0;31mRuntimeError\u001b[0m: Invalid name: None-labs002",
      "\nThe above exception was the direct cause of the following exception:\n",
      "\u001b[0;31mFileNotFoundError\u001b[0m                         Traceback (most recent call last)",
      "Cell \u001b[0;32mIn[26], line 1\u001b[0m\n\u001b[0;32m----> 1\u001b[0m \u001b[43mlabs\u001b[49m\u001b[43m(\u001b[49m\u001b[38;5;124;43m\"\u001b[39;49m\u001b[38;5;124;43mhogehoge\u001b[39;49m\u001b[38;5;124;43m\"\u001b[39;49m\u001b[43m,\u001b[49m\u001b[43m \u001b[49m\u001b[38;5;124;43m\"\u001b[39;49m\u001b[38;5;124;43mlabs002\u001b[39;49m\u001b[38;5;124;43m\"\u001b[39;49m\u001b[43m)\u001b[49m\n",
      "File \u001b[0;32m~/dev/git/OMMX-OBLIB/ommx_quantum_benchmarks/qoblib/qoblib.py:109\u001b[0m, in \u001b[0;36mBaseDataset.__call__\u001b[0;34m(self, model_name, instance_name)\u001b[0m\n\u001b[1;32m     97\u001b[0m \u001b[38;5;28;01mdef\u001b[39;00m\u001b[38;5;250m \u001b[39m\u001b[38;5;21m__call__\u001b[39m(\n\u001b[1;32m     98\u001b[0m     \u001b[38;5;28mself\u001b[39m, model_name: \u001b[38;5;28mstr\u001b[39m, instance_name: \u001b[38;5;28mstr\u001b[39m\n\u001b[1;32m     99\u001b[0m ) \u001b[38;5;241m-\u001b[39m\u001b[38;5;241m>\u001b[39m \u001b[38;5;28mtuple\u001b[39m[ommx\u001b[38;5;241m.\u001b[39mv1\u001b[38;5;241m.\u001b[39mInstance, ommx\u001b[38;5;241m.\u001b[39mv1\u001b[38;5;241m.\u001b[39mSolution]:\n\u001b[1;32m    100\u001b[0m \u001b[38;5;250m    \u001b[39m\u001b[38;5;124;03m\"\"\"Get the OMMX instance and solution for a specific Labs dataset.\u001b[39;00m\n\u001b[1;32m    101\u001b[0m \n\u001b[1;32m    102\u001b[0m \u001b[38;5;124;03m    Args:\u001b[39;00m\n\u001b[0;32m   (...)\u001b[0m\n\u001b[1;32m    107\u001b[0m \u001b[38;5;124;03m        tuple[ommx.v1.Instance, ommx.v1.Solution]: The OMMX instance and solution.\u001b[39;00m\n\u001b[1;32m    108\u001b[0m \u001b[38;5;124;03m    \"\"\"\u001b[39;00m\n\u001b[0;32m--> 109\u001b[0m     experiment \u001b[38;5;241m=\u001b[39m \u001b[38;5;28;43mself\u001b[39;49m\u001b[38;5;241;43m.\u001b[39;49m\u001b[43mget_experiment\u001b[49m\u001b[43m(\u001b[49m\n\u001b[1;32m    110\u001b[0m \u001b[43m        \u001b[49m\u001b[43mmodel_name\u001b[49m\u001b[38;5;241;43m=\u001b[39;49m\u001b[43mmodel_name\u001b[49m\u001b[43m,\u001b[49m\u001b[43m \u001b[49m\u001b[43minstance_name\u001b[49m\u001b[38;5;241;43m=\u001b[39;49m\u001b[43minstance_name\u001b[49m\n\u001b[1;32m    111\u001b[0m \u001b[43m    \u001b[49m\u001b[43m)\u001b[49m\n\u001b[1;32m    112\u001b[0m     \u001b[38;5;66;03m# Load the only instance in the experiment.\u001b[39;00m\n\u001b[1;32m    113\u001b[0m     instances \u001b[38;5;241m=\u001b[39m experiment\u001b[38;5;241m.\u001b[39mget_current_datastore()\u001b[38;5;241m.\u001b[39minstances\n",
      "File \u001b[0;32m~/dev/git/OMMX-OBLIB/ommx_quantum_benchmarks/qoblib/qoblib.py:90\u001b[0m, in \u001b[0;36mBaseDataset.get_experiment\u001b[0;34m(self, model_name, instance_name)\u001b[0m\n\u001b[1;32m     88\u001b[0m     \u001b[38;5;28;01mraise\u001b[39;00m \u001b[38;5;167;01mFileNotFoundError\u001b[39;00m(error_message) \u001b[38;5;28;01mfrom\u001b[39;00m\u001b[38;5;250m \u001b[39m\u001b[38;5;21;01me\u001b[39;00m\n\u001b[1;32m     89\u001b[0m \u001b[38;5;28;01melif\u001b[39;00m \u001b[38;5;124m\"\u001b[39m\u001b[38;5;124mInvalid name\u001b[39m\u001b[38;5;124m\"\u001b[39m \u001b[38;5;129;01min\u001b[39;00m \u001b[38;5;28mstr\u001b[39m(e):\n\u001b[0;32m---> 90\u001b[0m     \u001b[38;5;28;01mraise\u001b[39;00m \u001b[38;5;167;01mFileNotFoundError\u001b[39;00m(error_message) \u001b[38;5;28;01mfrom\u001b[39;00m\u001b[38;5;250m \u001b[39m\u001b[38;5;21;01me\u001b[39;00m\n\u001b[1;32m     91\u001b[0m \u001b[38;5;28;01melse\u001b[39;00m:\n\u001b[1;32m     92\u001b[0m     \u001b[38;5;66;03m# Raise the original error for other cases.\u001b[39;00m\n\u001b[1;32m     93\u001b[0m     \u001b[38;5;28;01mraise\u001b[39;00m\n",
      "\u001b[0;31mFileNotFoundError\u001b[0m: Invalid dataset name: None-labs002. Choose from the available datasets:\n- Model: integer, Instances: labs002, labs003, labs004, labs005, labs006, labs007, labs008, labs009, labs010, labs011, labs012, labs013, labs014, labs015, labs016, labs017, labs018, labs019, labs020, labs021, labs022, labs023, labs024, labs025, labs026, labs027, labs028, labs029, labs030, labs031, labs032, labs033, labs034, labs035, labs036, labs037, labs038, labs039, labs040, labs041, labs042, labs043, labs044, labs045, labs046, labs047, labs048, labs049, labs050, labs051, labs052, labs053, labs054, labs055, labs056, labs057, labs058, labs059, labs060, labs061, labs062, labs063, labs064, labs065, labs066, labs067, labs068, labs069, labs070, labs071, labs072, labs073, labs074, labs075, labs076, labs077, labs078, labs079, labs080, labs081, labs082, labs083, labs084, labs085, labs086, labs087, labs088, labs089, labs090, labs091, labs092, labs093, labs094, labs095, labs096, labs097, labs098, labs099, labs100\n- Model: quadratic_unconstrained, Instances: labs002, labs003, labs004, labs005, labs006, labs007, labs008, labs009, labs010, labs011, labs012, labs013, labs014, labs015, labs016, labs017, labs018, labs019, labs020, labs021, labs022, labs023, labs024, labs025, labs026, labs027, labs028, labs029, labs030, labs031, labs032, labs033, labs034, labs035, labs036, labs037, labs038, labs039, labs040, labs041, labs042, labs043, labs044, labs045, labs046, labs047, labs048, labs049, labs050, labs051, labs052, labs053, labs054, labs055, labs056, labs057, labs058, labs059, labs060, labs061, labs062, labs063, labs064, labs065, labs066, labs067, labs068, labs069, labs070, labs071, labs072, labs073, labs074, labs075, labs076, labs077, labs078, labs079, labs080, labs081, labs082, labs083, labs084, labs085, labs086, labs087, labs088, labs089, labs090, labs091, labs092, labs093, labs094, labs095, labs096, labs097, labs098, labs099, labs100\nOr please have a look at the Package: https://github.com/Jij-Inc/OMMX-OBLIB/pkgs/container/ommx-oblib%2Fqoblib"
     ]
    }
   ],
   "source": [
    "labs(\"hogehoge\", \"labs002\")\n"
   ]
  },
  {
   "cell_type": "code",
   "execution_count": null,
   "id": "bfd97546",
   "metadata": {},
   "outputs": [],
   "source": []
  }
 ],
 "metadata": {
  "kernelspec": {
   "display_name": "ommx-oblib",
   "language": "python",
   "name": "python3"
  },
  "language_info": {
   "codemirror_mode": {
    "name": "ipython",
    "version": 3
   },
   "file_extension": ".py",
   "mimetype": "text/x-python",
   "name": "python",
   "nbconvert_exporter": "python",
   "pygments_lexer": "ipython3",
   "version": "3.10.18"
  }
 },
 "nbformat": 4,
 "nbformat_minor": 5
}
