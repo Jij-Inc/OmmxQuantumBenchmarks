{
 "cells": [
  {
   "cell_type": "markdown",
   "id": "39a93537",
   "metadata": {},
   "source": [
    "# OmmxQuantumBenchmark - QOBLIB"
   ]
  },
  {
   "cell_type": "code",
   "execution_count": null,
   "id": "36e57e90",
   "metadata": {},
   "outputs": [],
   "source": [
    "%load_ext autoreload\n",
    "%autoreload 2"
   ]
  },
  {
   "cell_type": "code",
   "execution_count": null,
   "id": "5119e86d",
   "metadata": {},
   "outputs": [],
   "source": [
    "import sys\n",
    "import os\n",
    "\n",
    "root_path = os.path.abspath(\"./../ommx_quantum_benchmarks\")\n",
    "if root_path not in sys.path:\n",
    "    sys.path.insert(0, root_path)\n",
    "\n",
    "project_root = os.path.abspath(\"..\")\n",
    "if project_root not in sys.path:\n",
    "    sys.path.insert(0, project_root)"
   ]
  },
  {
   "cell_type": "code",
   "execution_count": null,
   "id": "9bc5d682",
   "metadata": {},
   "outputs": [],
   "source": [
    "from pathlib import Path\n",
    "\n",
    "from uploader import Uploader as BaseUploader\n",
    "from qoblib import qoblib\n",
    "from qoblib.uploader import Uploader"
   ]
  },
  {
   "cell_type": "markdown",
   "id": "440bfce3",
   "metadata": {},
   "source": [
    "## Uploader"
   ]
  },
  {
   "cell_type": "code",
   "execution_count": null,
   "id": "a2c9277e",
   "metadata": {},
   "outputs": [],
   "source": [
    "uploader = Uploader()\n",
    "uploader"
   ]
  },
  {
   "cell_type": "code",
   "execution_count": null,
   "id": "fdc369c9",
   "metadata": {},
   "outputs": [],
   "source": [
    "models_dir_path = \"./../02_labs/models\"  # Define by yourself\n",
    "\n",
    "# Get all directories right under models_dir_path containing a directory named ommx_output.\n",
    "directory_paths = [item for item in Path(models_dir_path).iterdir() if item.is_dir() and (item / \"ommx_output\").is_dir()]\n",
    "directory_paths"
   ]
  },
  {
   "cell_type": "code",
   "execution_count": null,
   "id": "3b9b71ff",
   "metadata": {},
   "outputs": [],
   "source": [
    "for directory_path in directory_paths:\n",
    "    # Get all ommx files in the ommx_output_directory.\n",
    "    ommx_filepaths = list((directory_path / \"ommx_output\").glob(\"*.ommx\"))\n",
    "\n",
    "    for ommx_filepath in ommx_filepaths:\n",
    "        image_tag = f\"{Path(models_dir_path).parent.name}-{directory_path.name}-{ommx_filepath.stem}\"\n",
    "        print(image_tag)\n",
    "        try:\n",
    "            uploader.push_ommx(image_tag=image_tag, ommx_filepath=ommx_filepath, verification=True)\n",
    "        except RuntimeError as e:\n",
    "            print(f\"\\tError occurred for {image_tag}: {e}\")\n",
    "            continue"
   ]
  },
  {
   "cell_type": "markdown",
   "id": "a5924961",
   "metadata": {},
   "source": [
    "## Downloader"
   ]
  },
  {
   "cell_type": "code",
   "execution_count": null,
   "id": "42ee6bac",
   "metadata": {},
   "outputs": [],
   "source": [
    "labs = qoblib.Labs()\n",
    "labs"
   ]
  },
  {
   "cell_type": "code",
   "execution_count": null,
   "id": "b1b717fd",
   "metadata": {},
   "outputs": [],
   "source": [
    "(instance, solution) = labs(\"integer\", \"labs002\")"
   ]
  },
  {
   "cell_type": "code",
   "execution_count": null,
   "id": "32355b29",
   "metadata": {},
   "outputs": [],
   "source": [
    "instance"
   ]
  },
  {
   "cell_type": "code",
   "execution_count": null,
   "id": "e128598f",
   "metadata": {},
   "outputs": [],
   "source": [
    "print(\"Objective value:\", solution.objective)\n",
    "print(\"Is solution feasible?\", solution.feasible)\n",
    "print(\"Constraint violations:\", solution.state)\n",
    "solution"
   ]
  },
  {
   "cell_type": "code",
   "execution_count": null,
   "id": "06e7de3f",
   "metadata": {},
   "outputs": [],
   "source": [
    "evaluated_solution = instance.evaluate(solution.state)  \n",
    "print(\"Objective value:\", evaluated_solution.objective)\n",
    "print(\"Is solution feasible?\", evaluated_solution.feasible)\n",
    "print(\"Constraint violations:\", evaluated_solution.state)\n",
    "evaluated_solution"
   ]
  },
  {
   "cell_type": "code",
   "execution_count": null,
   "id": "77baa241",
   "metadata": {},
   "outputs": [],
   "source": [
    "labs(\"integer\", \"hogehoge\")"
   ]
  },
  {
   "cell_type": "code",
   "execution_count": null,
   "id": "acc659d6",
   "metadata": {},
   "outputs": [],
   "source": [
    "labs(\"hogehoge\", \"labs002\")\n"
   ]
  },
  {
   "cell_type": "code",
   "execution_count": null,
   "id": "bfd97546",
   "metadata": {},
   "outputs": [],
   "source": []
  }
 ],
 "metadata": {
  "kernelspec": {
   "display_name": "ommx-oblib",
   "language": "python",
   "name": "python3"
  },
  "language_info": {
   "codemirror_mode": {
    "name": "ipython",
    "version": 3
   },
   "file_extension": ".py",
   "mimetype": "text/x-python",
   "name": "python",
   "nbconvert_exporter": "python",
   "pygments_lexer": "ipython3",
   "version": "3.10.18"
  }
 },
 "nbformat": 4,
 "nbformat_minor": 5
}
