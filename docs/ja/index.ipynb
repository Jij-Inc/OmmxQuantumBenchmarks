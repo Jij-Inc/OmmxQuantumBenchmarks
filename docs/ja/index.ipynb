{
 "cells": [
  {
   "cell_type": "markdown",
   "id": "39b4f064",
   "metadata": {},
   "source": [
    "# OMMX Quantum Benchmarksへようこそ\n",
    "\n",
    "OMMX Quantum Benchmarksは、量子・古典最適化ワークフローとの統合を容易にするため、[OMMX](https://jij-inc.github.io/ommx/en/introduction.html)形式の量子最適化ベンチマークデータセットへのアクセスを提供します。\n",
    "\n",
    "## このプロジェクトについて\n",
    "\n",
    "本リポジトリは、最適化ベンチマークデータセットを収集し、OMMX（Open Mathematical prograMming eXchange）形式に変換します。現在、[QOBLIB (Quantum Optimization Benchmarking Library)](https://git.zib.de/qopt/qoblib-quantum-optimization-benchmarking-library)から選択されたデータセットを含んでおり、将来的には追加のベンチマークソースへの拡張を予定しています。\n",
    "\n",
    "**現在の状況**: 初回リリースはQOBLIBからのデータセット変換に焦点を当てています。追加のベンチマークコレクションは将来のリリースで追加される可能性があります。\n",
    "\n",
    "## 含まれるもの\n",
    "\n",
    "- **ベンチマークコレクション**: OMMX形式に変換された量子最適化データセット\n",
    "- **Python API**: ベンチマークインスタンスにアクセスするためのシンプルなインターフェース\n",
    "- **GitHub Container Registry**: 簡単にアクセスできる分散ストレージ"
   ]
  },
  {
   "cell_type": "markdown",
   "id": "4e55c668",
   "metadata": {},
   "source": [
    "## 現在利用可能なデータセット"
   ]
  },
  {
   "cell_type": "markdown",
   "id": "fd1418d9",
   "metadata": {},
   "source": [
    "### QOBLIBコレクション\n",
    "\n",
    "**インスタンスが利用可能**:\n",
    "- **Marketsplit** (`01_marketsplit`) - バイナリ線形とバイナリ制約なしモデル用にモデルごとに120インスタンス\n",
    "- **Labs** (`02_labs`) - 整数と二次制約なしモデル用にモデルごとに99インスタンス\n",
    "- **Birkhoff** (`03_birkhoff`) - 整数線形モデル用に800インスタンス\n",
    "- **Steiner** (`04_steiner`) - 整数線形モデル用に31インスタンス\n",
    "- **Independent Set** (`07_independentset`) - バイナリ線形とバイナリ制約なしモデル用にモデルごとに42インスタンス\n",
    "- **Network** (`08_network`) - 整数LPモデル用に20インスタンス\n",
    "- **Routing** (`09_routing`) - 整数線形モデル用に55インスタンス\n",
    "- **Topology** (`10_topology`) - Flow MIP、Seidel線形、Seidel二次モデル用にモデルごとに16インスタンス\n",
    "\n",
    "**将来の拡張のためにフレームワークが定義済み**:\n",
    "- **Sports** (`05_sports`) - 混合整数線形スポーツスケジューリング問題\n",
    "- **Portfolio** (`06_portfolio`) - バイナリ二次およびバイナリ制約なしポートフォリオ最適化\n",
    "\n",
    "**注意**: `available_instances`プロパティを使用して、任意のデータセットの現在のインスタンス利用可能性を確認できます。\n",
    "\n",
    "#### 帰属表示\n",
    "\n",
    "このプロジェクトには、[QOBLIB - Quantum Optimization Benchmarking Library](https://git.zib.de/qopt/qoblib-quantum-optimization-benchmarking-library)から派生したデータが含まれています:\n",
    "- **原著者**: Thorsten Koch, David E. Bernal Neira, Ying Chen, Giorgio Cortiana, Daniel J. Egger, Raoul Heese, Narendra N. Hegade, Alejandro Gomez Cadavid, Rhea Huang, Toshinari Itoko, Thomas Kleinert, Pedro Maciel Xavier, Naeimeh Mohseni, Jhon A. Montanez-Barrera, Koji Nakano, Giacomo Nannicini, Corey O'Meara, Justin Pauckert, Manuel Proissl, Anurag Ramesh, Maximilian Schicker, Noriaki Shimada, Mitsuharu Takeori, Victor Valls, David Van Bulck, Stefan Woerner, and Christa Zoufal.\n",
    "- **ライセンス**: CC BY 4.0\n",
    "\n",
    "インスタンスデータは、必要に応じて追加の修正を加えてOMMX形式に変換されています。\n",
    "\n",
    "#### サポート\n",
    "\n",
    "ベンチマークデータセットまたはOMMX Quantum Benchmarksライブラリに関する問題については、[GitHubリポジトリ](https://github.com/Jij-Inc/OMMX-OBLIB)で問題を報告してください。\n",
    "\n",
    "元のデータセットや問題定式化に関する質問は、それぞれのソースリポジトリ（例: QOBLIBから派生したデータセットの場合は[元のQOBLIBリポジトリ](https://git.zib.de/qopt/qoblib-quantum-optimization-benchmarking-library)）を参照してください。"
   ]
  },
  {
   "cell_type": "markdown",
   "id": "a70d1ea6",
   "metadata": {},
   "source": [
    "## クイックスタート\n",
    "\n",
    "OMMX Quantum Benchmarksを始めるには、インストール手順と基本的な使用例について[クイックスタートガイド](quickstart.ipynb)を参照してください。\n",
    "\n",
    "## インストール\n",
    "\n",
    "pipを通じてこのパッケージをインストールしてください！\n",
    "\n",
    "```bash\n",
    "# uvを使用\n",
    "uv pip install git+https://github.com/Jij-Inc/OmmxQuantumBenchmarks.git\n",
    "\n",
    "# pipを使用\n",
    "pip install ommx_quantum_benchmarks\n",
    "```\n",
    "\n",
    "または、GitHubから直接インストールすることもでき、こちらが最新版となります:\n",
    "\n",
    "```bash\n",
    "# uvを使用\n",
    "uv pip install git+https://github.com/Jij-Inc/OmmxQuantumBenchmarks.git\n",
    "\n",
    "# pipを使用\n",
    "pip install git+https://github.com/Jij-Inc/OmmxQuantumBenchmarks.git\n",
    "```\n",
    "\n",
    "## 詳細情報\n",
    "\n",
    "ベンチマークコレクション機能の詳細については、以下のドキュメントをご覧ください:\n",
    "\n",
    "- [クイックスタートガイド](quickstart.ipynb): インストールと基本的な使用例\n",
    "- [使用ガイド](tutorial/usage/index_usage.ipynb): データセットとインスタンスの操作に関する詳細情報\n",
    "- [サンプル](tutorial/examples/index_examples.ipynb): さまざまな問題タイプの実用的な例\n",
    "- [APIリファレンス](autoapi/index): Python APIの完全なドキュメント"
   ]
  },
  {
   "cell_type": "markdown",
   "id": "2b550407",
   "metadata": {},
   "source": []
  }
 ],
 "metadata": {
  "jupytext": {
   "cell_metadata_filter": "-all",
   "main_language": "bash",
   "notebook_metadata_filter": "-all"
  },
  "kernelspec": {
   "display_name": "ommx-oblib",
   "language": "python",
   "name": "python3"
  },
  "language_info": {
   "codemirror_mode": {
    "name": "ipython",
    "version": 3
   },
   "file_extension": ".py",
   "mimetype": "text/x-python",
   "name": "python",
   "nbconvert_exporter": "python",
   "pygments_lexer": "ipython3",
   "version": "3.10.18"
  }
 },
 "nbformat": 4,
 "nbformat_minor": 5
}
