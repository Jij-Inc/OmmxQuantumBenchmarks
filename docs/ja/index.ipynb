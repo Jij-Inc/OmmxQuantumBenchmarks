{
 "cells": [
  {
   "cell_type": "markdown",
   "id": "39b4f064",
   "metadata": {},
   "source": "# OMMX Quantum Benchmarks へようこそ\n\nOMMX Quantum Benchmarks は、量子・古典最適化ワークフローとの統合を容易にするため、[OMMX](https://jij-inc.github.io/ommx/en/introduction.html) 形式の量子最適化ベンチマークデータセットへのアクセスを提供します。\n\n## このプロジェクトについて\n\nこのリポジトリは最適化ベンチマークデータセットを収集し、OMMX（Open Mathematical prograMming eXchange）形式に変換します。現在、[QOBLIB（Quantum Optimization Benchmarking Library）](https://git.zib.de/qopt/qoblib-quantum-optimization-benchmarking-library)から選択されたデータセットが含まれており、将来的に追加のベンチマークソースに拡張する予定です。\n\n**現在の状況**: 初回リリースはQOBLIBからのデータセット変換に焦点を当てています。追加のベンチマークコレクションは将来のリリースで追加される可能性があります。\n\n## 含まれているもの\n\n- **ベンチマークコレクション**: OMMX形式に変換された量子最適化データセット\n- **Python API**: ベンチマークインスタンスにアクセスするためのシンプルなインターフェース\n- **GitHub Container Registry**: 簡単なアクセスのための分散ストレージ\n\n## 現在利用可能なデータセット\n\n### QOBLIB コレクションから\n\n**インスタンス付きで利用可能**:\n- **Market Split** (`01_marketsplit`) - バイナリ線形および制約なしモデルで160以上のインスタンス\n- **Labs** (`02_labs`) - 整数および二次制約なしモデルで99のインスタンス\n\n**将来の拡張のためのフレームワーク定義済み**:\n- Birkhoff、Steiner、Sports、Portfolio、Independent Set、Network、Routing、Topologyカテゴリは実装されていますが、まだインスタンスを含んでいません\n\n**注**: `available_instances` プロパティを使用して、任意のデータセットの現在のインスタンス可用性を確認できます。\n\n### 将来のベンチマークソース\n\nフレームワークは、QOBLIB を超えて追加のベンチマークコレクションが利用可能になった時に対応できるよう設計されています。\n\n## クイックスタート\n\nOMMX Quantum Benchmarks を始めるには、インストール手順と基本的な使用例について [クイックスタートガイド](quickstart.ipynb) を参照してください。\n\n## 詳細を学ぶ\n\nベンチマークコレクション機能について詳しく学ぶには、ドキュメントを探索してください：\n\n- [クイックスタートガイド](quickstart.ipynb): インストールと基本的な使用例\n- [使用ガイド](tutorial/usage/index_usage.ipynb): データセットとインスタンスの操作に関する詳細情報\n- [例](tutorial/examples/index_examples.ipynb): 異なる問題タイプの実践的な例\n- [API リファレンス](autoapi/index): Python API の完全なドキュメント\n\n## インストール\n\nこのパッケージは現在開発中でまだPyPIに公開されていないため、GitHubリポジトリから直接インストールしてください：\n\n```bash\n# リポジトリをクローン\ngit clone https://github.com/Jij-Inc/OMMX-OBLIB.git\ncd OMMX-OBLIB\n\n# pip で開発モードでインストール\npip install -e .\n\n# または uv で開発モードでインストール\nuv pip install -e .\n```\n\n別の方法として、クローンせずにGitHubから直接インストールすることもできます：\n\n```bash\n# pip を使用\npip install git+https://github.com/Jij-Inc/OMMX-OBLIB.git\n\n# uv を使用\nuv pip install git+https://github.com/Jij-Inc/OMMX-OBLIB.git\n```"
  },
  {
   "cell_type": "markdown",
   "id": "7aeae262",
   "metadata": {},
   "source": "## 基本的な使用方法"
  },
  {
   "cell_type": "code",
   "execution_count": null,
   "id": "1c30ac64",
   "metadata": {},
   "outputs": [],
   "source": "from ommx_quantum_benchmarks.qoblib import Marketsplit\n\n# Load a dataset\ndataset = Marketsplit()\n\n# Get an instance and solution\nmodel_name = \"binary_linear\"\ninstance_name = \"ms_03_050_002\"\ninstance, solution = dataset(model_name, instance_name)\n\n# Evaluate the solution\nevaluated_solution = instance.evaluate(solution.state)\nprint(f\"Objective value: {evaluated_solution.objective}\")\nprint(f\"Feasible: {evaluated_solution.feasible}\")"
  },
  {
   "cell_type": "markdown",
   "id": "4237c03a",
   "metadata": {},
   "source": [
    "## 帰属\n",
    "\n",
    "このプロジェクトは [QOBLIB - Quantum Optimization Benchmarking Library](https://git.zib.de/qopt/qoblib-quantum-optimization-benchmarking-library) から派生したデータを含んでいます：\n",
    "- **元の著者**: Thorsten Koch, David E. Bernal Neira, Ying Chen, Giorgio Cortiana, Daniel J. Egger, Raoul Heese, Narendra N. Hegade, Alejandro Gomez Cadavid, Rhea Huang, Toshinari Itoko, Thomas Kleinert, Pedro Maciel Xavier, Naeimeh Mohseni, Jhon A. Montanez-Barrera, Koji Nakano, Giacomo Nannicini, Corey O'Meara, Justin Pauckert, Manuel Proissl, Anurag Ramesh, Maximilian Schicker, Noriaki Shimada, Mitsuharu Takeori, Victor Valls, David Van Bulck, Stefan Woerner, and Christa Zoufal.\n",
    "- **ライセンス**: CC BY 4.0\n",
    "\n",
    "インスタンスデータは必要に応じて追加の修正を加えてOMMX形式に変換されています。\n",
    "\n",
    "## サポート\n",
    "\n",
    "ベンチマークデータセットやOMMX Quantum Benchmarksライブラリに関する問題については、[GitHub リポジトリ](https://github.com/Jij-Inc/OMMX-OBLIB)に Issue を作成してください。\n",
    "\n",
    "元のデータセットや問題定式化に関する質問については、それぞれのソースリポジトリを参照してください（例：QOBLIB由来のデータセットの場合は[元のQOBLIBリポジトリ](https://git.zib.de/qopt/qoblib-quantum-optimization-benchmarking-library)）。"
   ]
  }
 ],
 "metadata": {
  "kernelspec": {
   "display_name": "Python 3 (ipykernel)",
   "language": "python",
   "name": "python3"
  },
  "language_info": {
   "codemirror_mode": {
    "name": "ipython",
    "version": 3
   },
   "file_extension": ".py",
   "mimetype": "text/x-python",
   "name": "python",
   "nbconvert_exporter": "python",
   "pygments_lexer": "ipython3",
   "version": "3.9.7"
  }
 },
 "nbformat": 4,
 "nbformat_minor": 5
}