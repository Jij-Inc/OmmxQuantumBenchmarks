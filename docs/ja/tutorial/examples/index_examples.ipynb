{
 "cells": [
  {
   "cell_type": "markdown",
   "id": "86e8fccf",
   "metadata": {},
   "source": [
    "# 例\n",
    "\n",
    "このセクションでは、OMMX Quantum Benchmarks データセットの操作に関する実践的な例を提供します。\n",
    "\n",
    "**注**: QOBLIB コレクションのすべてのデータセットは同じAPI パターンに従います。Marketsplit を使用してここで示される例は、他の QOBLIB データセット（Labs、Portfolio、Topology など）にも適用できます。クラス名と利用可能なインスタンスのみが異なります。\n",
    "\n",
    "## 代表的な例\n",
    "\n",
    "- [Marketsplit の例](marketsplit_example.ipynb) - すべての一般的なパターンを示す完全な使用例\n",
    "\n",
    "## QOBLIB データセットの共通使用パターン\n",
    "\n",
    "すべての QOBLIB データセットは、この一貫したインターフェースに従います：\n",
    "\n",
    "```python\n",
    "from ommx_quantum_benchmarks.qoblib import DatasetName\n",
    "\n",
    "# 任意のデータセットをインスタンス化\n",
    "dataset = DatasetName()\n",
    "\n",
    "# プロパティを確認\n",
    "print(f\"名前: {dataset.name}\")\n",
    "print(f\"モデル: {dataset.model_names}\")\n",
    "print(f\"利用可能なインスタンス: {dataset.available_instances}\")\n",
    "\n",
    "# インスタンスとソリューションを読み込み（利用可能な場合）\n",
    "if dataset.available_instances[model_name]:\n",
    "    instance, solution = dataset(model_name, instance_name)\n",
    "```"
   ]
  }
 ],
 "metadata": {
  "kernelspec": {
   "display_name": "ommx-oblib",
   "language": "python",
   "name": "python3"
  },
  "language_info": {
   "codemirror_mode": {
    "name": "ipython",
    "version": 3
   },
   "file_extension": ".py",
   "mimetype": "text/x-python",
   "name": "python",
   "nbconvert_exporter": "python",
   "pygments_lexer": "ipython3",
   "version": "3.10.18"
  }
 },
 "nbformat": 4,
 "nbformat_minor": 5
}
