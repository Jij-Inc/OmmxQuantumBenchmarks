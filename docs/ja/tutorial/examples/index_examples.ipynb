{
 "cells": [
  {
   "cell_type": "markdown",
   "id": "86e8fccf",
   "metadata": {},
   "source": "# サンプル\n\nこのセクションでは、このパッケージを使用するサンプルを提供します。\n**注意**：現在、QOBLIBコレクションの一部のみがありますが、より多くのデータセットを追加する予定です。\n\n- [QOBLIBとSCIP](qoblib_scip.ipynb) - SCIPを使用してQOBLIBインスタンスデータを解く"
  }
 ],
 "metadata": {
  "jupytext": {
   "cell_metadata_filter": "-all",
   "main_language": "python",
   "notebook_metadata_filter": "-all"
  },
  "kernelspec": {
   "display_name": "ommx-oblib",
   "language": "python",
   "name": "python3"
  },
  "language_info": {
   "codemirror_mode": {
    "name": "ipython",
    "version": 3
   },
   "file_extension": ".py",
   "mimetype": "text/x-python",
   "name": "python",
   "nbconvert_exporter": "python",
   "pygments_lexer": "ipython3",
   "version": "3.10.18"
  }
 },
 "nbformat": 4,
 "nbformat_minor": 5
}