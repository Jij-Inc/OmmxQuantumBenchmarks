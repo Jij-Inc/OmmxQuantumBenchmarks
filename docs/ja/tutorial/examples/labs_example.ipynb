{
 "cells": [
  {
   "cell_type": "markdown",
   "id": "d4e5097a",
   "metadata": {},
   "source": [
    "# データセット使用例（Labs を使用）\n",
    "\n",
    "この例では、Labsを代表的なケースとして、OMMX Quantum Benchmarks のデータセットの操作方法を実演します。\n",
    "\n",
    "**重要**: ここで示されるパターンは、コレクション内のすべてのデータセット（Labs、Portfolio、Topology など）に適用されます。単に `Labs` を他のデータセットクラス名に置き換えるだけです - API はすべてのデータセット間で同一です。\n",
    "\n",
    "## データセット概要"
   ]
  },
  {
   "cell_type": "code",
   "execution_count": 1,
   "id": "28d76b55",
   "metadata": {},
   "outputs": [
    {
     "name": "stdout",
     "output_type": "stream",
     "text": [
      "データセット: 02_labs\n",
      "説明: Labs dataset in ommx format, originally provided by https://git.zib.de/qopt/qoblib-quantum-optimization-benchmarking-library/-/tree/main/02-labs?ref_type=heads.\n",
      "利用可能なモデル: ['integer', 'quadratic_unconstrained']\n",
      "integer: 99 インスタンス\n",
      "quadratic_unconstrained: 99 インスタンス\n"
     ]
    }
   ],
   "source": [
    "from ommx_quantum_benchmarks.qoblib import Labs\n",
    "\n",
    "# データセットを初期化\n",
    "dataset = Labs()\n",
    "\n",
    "print(f\"データセット: {dataset.name}\")\n",
    "print(f\"説明: {dataset.description}\")\n",
    "print(f\"利用可能なモデル: {dataset.model_names}\")\n",
    "\n",
    "# 利用可能なインスタンスを確認\n",
    "for model, instances in dataset.available_instances.items():\n",
    "    print(f\"{model}: {len(instances)} インスタンス\")"
   ]
  },
  {
   "cell_type": "markdown",
   "id": "261b8bf9",
   "metadata": {},
   "source": [
    "## バイナリ線形モデルの操作"
   ]
  },
  {
   "cell_type": "code",
   "execution_count": 2,
   "id": "3fcb40d1",
   "metadata": {},
   "outputs": [
    {
     "name": "stdout",
     "output_type": "stream",
     "text": [
      "読み込まれたインスタンス: labs002\n",
      "インスタンスタイプ: <class 'ommx.v1.Instance'>\n",
      "ソリューション利用可能: True\n",
      "目的値: 1.0\n",
      "実行可能: True\n",
      "変数数: 3\n"
     ]
    }
   ],
   "source": [
    "# 特定のインスタンスを読み込み\n",
    "model_name = \"integer\"\n",
    "instance_name = \"labs002\"\n",
    "\n",
    "instance, solution = dataset(model_name, instance_name)\n",
    "\n",
    "print(f\"読み込まれたインスタンス: {instance_name}\")\n",
    "print(f\"インスタンスタイプ: {type(instance)}\")\n",
    "print(f\"ソリューション利用可能: {solution is not None}\")\n",
    "\n",
    "if solution:\n",
    "    print(f\"目的値: {solution.objective}\")\n",
    "    print(f\"実行可能: {solution.feasible}\")\n",
    "    print(f\"変数数: {len(solution.state.entries)}\")"
   ]
  },
  {
   "cell_type": "markdown",
   "id": "8ced351c",
   "metadata": {},
   "source": [
    "## ソリューション検証"
   ]
  },
  {
   "cell_type": "code",
   "execution_count": 3,
   "id": "349a1393",
   "metadata": {},
   "outputs": [
    {
     "name": "stdout",
     "output_type": "stream",
     "text": [
      "ソリューション検証:\n",
      "元の目的値: 1.0\n",
      "評価された目的値: 1.0\n",
      "目的値が一致: True\n",
      "元の実行可能性: True\n",
      "評価された実行可能性: True\n",
      "実行可能性が一致: True\n",
      "状態が一致: True\n"
     ]
    }
   ],
   "source": [
    "if solution is not None:\n",
    "    # インスタンスを使用してソリューションを評価\n",
    "    evaluated = instance.evaluate(solution.state)\n",
    "    \n",
    "    print(\"ソリューション検証:\")\n",
    "    print(f\"元の目的値: {solution.objective}\")\n",
    "    print(f\"評価された目的値: {evaluated.objective}\")\n",
    "    print(f\"目的値が一致: {solution.objective == evaluated.objective}\")\n",
    "    \n",
    "    print(f\"元の実行可能性: {solution.feasible}\")\n",
    "    print(f\"評価された実行可能性: {evaluated.feasible}\")\n",
    "    print(f\"実行可能性が一致: {solution.feasible == evaluated.feasible}\")\n",
    "    \n",
    "    # 状態の一貫性をチェック\n",
    "    state_match = solution.state.entries == evaluated.state.entries\n",
    "    print(f\"状態が一致: {state_match}\")"
   ]
  }
 ],
 "metadata": {
  "kernelspec": {
   "display_name": "ommx-oblib",
   "language": "python",
   "name": "python3"
  },
  "language_info": {
   "codemirror_mode": {
    "name": "ipython",
    "version": 3
   },
   "file_extension": ".py",
   "mimetype": "text/x-python",
   "name": "python",
   "nbconvert_exporter": "python",
   "pygments_lexer": "ipython3",
   "version": "3.10.18"
  }
 },
 "nbformat": 4,
 "nbformat_minor": 5
}
