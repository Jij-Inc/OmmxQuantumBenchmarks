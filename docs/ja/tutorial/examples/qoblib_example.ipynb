{
 "cells": [
  {
   "cell_type": "markdown",
   "id": "d4e5097a",
   "metadata": {},
   "source": "# QOBLIB使用例\n\nこの例では、このパッケージでqoblibデータセットを操作する方法を示します。"
  },
  {
   "cell_type": "markdown",
   "id": "e2d75b41",
   "metadata": {},
   "source": "## QOBLIBデータセットの一般的な使用パターン"
  },
  {
   "cell_type": "markdown",
   "id": "04f1f351",
   "metadata": {},
   "source": "すべてのQOBLIBデータセットは、この一貫したインターフェースに従います:\n\n```python\nfrom ommx_quantum_benchmarks.qoblib import DatasetName\n\n# 任意のデータセットをインスタンス化\ndataset = DatasetName()\n\n# プロパティを確認\nprint(f\"Name: {dataset.name}\")\nprint(f\"Models: {dataset.model_names}\")\nprint(f\"Available instances: {dataset.available_instances}\")\n\n# インスタンスとソリューション（利用可能な場合）をロード\nif dataset.available_instances[model_name]:\n    instance, solution = dataset(model_name, instance_name)\n```"
  },
  {
   "cell_type": "markdown",
   "id": "776b9b63",
   "metadata": {},
   "source": "## Marketsplitの例（代表的なケース）\nここでは、代表的なケースとして`Marketsplit`データセットを使用します。利用可能なデータセットの中から試したいデータセットを選択できます（[データセット概要](./../usage/dataset_overview.ipynb)を参照）。"
  },
  {
   "cell_type": "code",
   "execution_count": null,
   "id": "28d76b55",
   "metadata": {},
   "outputs": [],
   "source": "# OMMX Quantum BenchmarksライブラリからMarketsplitデータセットをインポート。\n# LabsやTopologyなど、他のデータセットも同様に追加できます。\nfrom ommx_quantum_benchmarks.qoblib import Marketsplit\n\n# データセットを初期化。\ndataset = Marketsplit()\n\n# データセットの概要を表示。\nprint(f\"Dataset: {dataset.name}\")\nprint(f\"Description: {dataset.description}\")\nprint(f\"Available models: {dataset.model_names}\")\n\n# 利用可能なインスタンスを確認。\nfor model, instances in dataset.available_instances.items():\n    print(f\"{model}: {len(instances)} instances\")"
  },
  {
   "cell_type": "code",
   "execution_count": null,
   "id": "3fcb40d1",
   "metadata": {},
   "outputs": [],
   "source": "# 特定のインスタンスをロード。\nmodel_name = \"binary_linear\"\ninstance_name = \"ms_03_050_002\"\ninstance, solution = dataset(model_name, instance_name)\n\n# ロードされたインスタンスの詳細を表示。\nprint(f\"Loaded instance: {instance_name}\")\nprint(f\"Instance type: {type(instance)}\")\nprint(f\"Solution available: {solution is not None}\")\n\n# ソリューションが利用可能な場合、その詳細を表示。\nif solution:\n    print(f\"Objective value: {solution.objective}\")\n    print(f\"Feasible: {solution.feasible}\")\n    print(f\"Number of variables: {len(solution.state.entries)}\")"
  },
  {
   "cell_type": "markdown",
   "id": "8ced351c",
   "metadata": {},
   "source": "## ソリューションの検証"
  },
  {
   "cell_type": "code",
   "execution_count": null,
   "id": "349a1393",
   "metadata": {},
   "outputs": [],
   "source": "# ソリューションを再評価して妥当性を確認。\nif solution is not None:\n    # インスタンスを使用してソリューションを評価\n    evaluated = instance.evaluate(solution.state)\n    \n    print(\"ソリューション検証:\")\n    print(f\"元の目的関数値: {solution.objective}\")\n    print(f\"評価された目的関数値: {evaluated.objective}\")\n    print(f\"目的関数値が一致: {solution.objective == evaluated.objective}\")\n    \n    print(f\"元の実行可能性: {solution.feasible}\")  \n    print(f\"評価された実行可能性: {evaluated.feasible}\")\n    print(f\"実行可能性が一致: {solution.feasible == evaluated.feasible}\")\n    \n    # 状態の一貫性を確認\n    state_match = solution.state.entries == evaluated.state.entries\n    print(f\"状態が一致: {state_match}\")"
  }
 ],
 "metadata": {
  "jupytext": {
   "cell_metadata_filter": "-all",
   "main_language": "python",
   "notebook_metadata_filter": "-all"
  },
  "kernelspec": {
   "display_name": "ommx-oblib",
   "language": "python",
   "name": "python3"
  },
  "language_info": {
   "codemirror_mode": {
    "name": "ipython",
    "version": 3
   },
   "file_extension": ".py",
   "mimetype": "text/x-python",
   "name": "python",
   "nbconvert_exporter": "python",
   "pygments_lexer": "ipython3",
   "version": "3.10.18"
  }
 },
 "nbformat": 4,
 "nbformat_minor": 5
}