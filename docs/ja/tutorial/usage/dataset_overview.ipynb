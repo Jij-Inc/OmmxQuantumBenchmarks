{
 "cells": [
  {
   "cell_type": "markdown",
   "id": "54e94352",
   "metadata": {},
   "source": [
    "# データセット概要\n",
    "\n",
    "OMMX Quantum Benchmarksは、OMMX形式に変換された最適化ベンチマークデータセットへのアクセスを提供します。このページでは、利用可能なデータセットカテゴリの現在の状況について説明します。\n",
    "\n",
    "**現在のソース**: 初回リリースではQOBLIBからのデータセットを含んでおり、将来的には追加のベンチマークソースへの拡張を想定した設計となっています。\n",
    "\n",
    "## Marketsplit (`01_marketsplit`)\n",
    "\n",
    "**問題タイプ**: マーケット分割最適化問題  \n",
    "**モデル**: バイナリ線形、バイナリ制約なし  \n",
    "**インスタンス数**: モデルごとに120インスタンス (ms_03_050_002 - ms_15_200_003)"
   ]
  },
  {
   "cell_type": "code",
   "execution_count": 1,
   "id": "5d4ra9e9t5i",
   "metadata": {},
   "outputs": [
    {
     "name": "stdout",
     "output_type": "stream",
     "text": [
      "Available models: ['binary_linear', 'binary_unconstrained']\n",
      "binary_linear: 156 instances\n",
      "binary_unconstrained: 156 instances\n"
     ]
    }
   ],
   "source": [
    "from ommx_quantum_benchmarks.qoblib import Marketsplit\n",
    "\n",
    "dataset = Marketsplit()\n",
    "print(f\"Available models: {dataset.model_names}\")\n",
    "for model in dataset.model_names:\n",
    "    instances = dataset.available_instances[model]\n",
    "    print(f\"{model}: {len(instances)} instances\")"
   ]
  },
  {
   "cell_type": "markdown",
   "id": "fd073584",
   "metadata": {},
   "source": [
    "## Labs (`02_labs`)\n",
    "\n",
    "**問題タイプ**: 低自己相関バイナリ列  \n",
    "**モデル**: 整数、二次制約なし  \n",
    "**インスタンス数**: 99インスタンス (labs002 - labs100)"
   ]
  },
  {
   "cell_type": "code",
   "execution_count": 2,
   "id": "647dec14",
   "metadata": {},
   "outputs": [
    {
     "name": "stdout",
     "output_type": "stream",
     "text": [
      "Available models: ['integer', 'quadratic_unconstrained']\n",
      "integer: 99 instances\n",
      "quadratic_unconstrained: 99 instances\n"
     ]
    }
   ],
   "source": [
    "from ommx_quantum_benchmarks.qoblib import Labs\n",
    "\n",
    "dataset = Labs()\n",
    "print(f\"Available models: {dataset.model_names}\")\n",
    "for model in dataset.model_names:\n",
    "    instances = dataset.available_instances[model]\n",
    "    print(f\"{model}: {len(instances)} instances\")"
   ]
  },
  {
   "cell_type": "markdown",
   "id": "704f1da4",
   "metadata": {},
   "source": [
    "## Birkhoff (`03_birkhoff`)\n",
    "\n",
    "**問題タイプ**: 最小Birkhoff分解  \n",
    "**モデル**: 整数線形  \n",
    "**インスタンス数**: 800インスタンス (bhD-3-001 - bhS-6-100)"
   ]
  },
  {
   "cell_type": "code",
   "execution_count": 3,
   "id": "yt34ivrq2v",
   "metadata": {},
   "outputs": [
    {
     "name": "stdout",
     "output_type": "stream",
     "text": [
      "Available models: ['integer_linear']\n",
      "integer_linear: 800 instances\n"
     ]
    }
   ],
   "source": [
    "from ommx_quantum_benchmarks.qoblib import Birkhoff\n",
    "\n",
    "dataset = Birkhoff()\n",
    "print(f\"Available models: {dataset.model_names}\")\n",
    "for model in dataset.model_names:\n",
    "    instances = dataset.available_instances[model]\n",
    "    print(f\"{model}: {len(instances)} instances\")"
   ]
  },
  {
   "cell_type": "markdown",
   "id": "srqvnex133",
   "metadata": {},
   "source": [
    "## Steiner (`04_steiner`)\n",
    "\n",
    "**問題タイプ**: Steiner木パッキング問題  \n",
    "**モデル**: 整数線形  \n",
    "**インスタンス数**: 31インスタンス (stp_s020_l2_t3_h2_rs24098 - stp_s040_l2_t4_h3_rs123)"
   ]
  },
  {
   "cell_type": "code",
   "execution_count": 4,
   "id": "2rs94wyke07",
   "metadata": {},
   "outputs": [
    {
     "name": "stdout",
     "output_type": "stream",
     "text": [
      "Available models: ['integer_linear']\n",
      "integer_linear: 31 instances\n"
     ]
    }
   ],
   "source": [
    "from ommx_quantum_benchmarks.qoblib import Steiner\n",
    "\n",
    "dataset = Steiner()\n",
    "print(f\"Available models: {dataset.model_names}\")\n",
    "for model in dataset.model_names:\n",
    "    instances = dataset.available_instances[model]\n",
    "    print(f\"{model}: {len(instances)} instances\")"
   ]
  },
  {
   "cell_type": "markdown",
   "id": "n0vhnnrkmla",
   "metadata": {},
   "source": [
    "## Independent Set (`07_independentset`)\n",
    "\n",
    "**問題タイプ**: 最大独立集合問題  \n",
    "**モデル**: バイナリ線形、バイナリ制約なし  \n",
    "**インスタンス数**: モデルごとに42インスタンス (各種グラフインスタンス)"
   ]
  },
  {
   "cell_type": "code",
   "execution_count": 5,
   "id": "xeptziz9bhb",
   "metadata": {},
   "outputs": [
    {
     "name": "stdout",
     "output_type": "stream",
     "text": [
      "Available models: ['binary_linear', 'binary_unconstrained']\n",
      "binary_linear: 42 instances\n",
      "binary_unconstrained: 42 instances\n"
     ]
    }
   ],
   "source": [
    "from ommx_quantum_benchmarks.qoblib import IndependentSet\n",
    "\n",
    "dataset = IndependentSet()\n",
    "print(f\"Available models: {dataset.model_names}\")\n",
    "for model in dataset.model_names:\n",
    "    instances = dataset.available_instances[model]\n",
    "    print(f\"{model}: {len(instances)} instances\")"
   ]
  },
  {
   "cell_type": "markdown",
   "id": "yxby698ncy",
   "metadata": {},
   "source": [
    "## Network (`08_network`)\n",
    "\n",
    "**問題タイプ**: ネットワーク設計  \n",
    "**モデル**: 整数LP  \n",
    "**インスタンス数**: 20インスタンス (network05 - network24)"
   ]
  },
  {
   "cell_type": "code",
   "execution_count": 6,
   "id": "dbrrgdj7y6q",
   "metadata": {},
   "outputs": [
    {
     "name": "stdout",
     "output_type": "stream",
     "text": [
      "Available models: ['integer_lp']\n",
      "integer_lp: 20 instances\n"
     ]
    }
   ],
   "source": [
    "from ommx_quantum_benchmarks.qoblib import Network\n",
    "\n",
    "dataset = Network()\n",
    "print(f\"Available models: {dataset.model_names}\")\n",
    "for model in dataset.model_names:\n",
    "    instances = dataset.available_instances[model]\n",
    "    print(f\"{model}: {len(instances)} instances\")"
   ]
  },
  {
   "cell_type": "markdown",
   "id": "lvuk9ohbl4",
   "metadata": {},
   "source": [
    "## Routing (`09_routing`)\n",
    "\n",
    "**問題タイプ**: 配送計画  \n",
    "**モデル**: 整数線形  \n",
    "**インスタンス数**: 55インスタンス (XSH-n20-k4-01 - XSH-n20-k4-55)"
   ]
  },
  {
   "cell_type": "code",
   "execution_count": 7,
   "id": "courpzrv8hd",
   "metadata": {},
   "outputs": [
    {
     "name": "stdout",
     "output_type": "stream",
     "text": [
      "Available models: ['integer_linear']\n",
      "integer_linear: 55 instances\n"
     ]
    }
   ],
   "source": [
    "from ommx_quantum_benchmarks.qoblib import Routing\n",
    "\n",
    "dataset = Routing()\n",
    "print(f\"Available models: {dataset.model_names}\")\n",
    "for model in dataset.model_names:\n",
    "    instances = dataset.available_instances[model]\n",
    "    print(f\"{model}: {len(instances)} instances\")"
   ]
  },
  {
   "cell_type": "markdown",
   "id": "mynxdaz9bc7",
   "metadata": {},
   "source": [
    "## Topology (`10_topology`)\n",
    "\n",
    "**問題タイプ**: トポロジー設計  \n",
    "**モデル**: Flow MIP、Seidel線形、Seidel二次  \n",
    "**インスタンス数**: モデルごとに16インスタンス (topology_15_3 - topology_50_4)"
   ]
  },
  {
   "cell_type": "code",
   "execution_count": 8,
   "id": "gngmnigjefn",
   "metadata": {},
   "outputs": [
    {
     "name": "stdout",
     "output_type": "stream",
     "text": [
      "Available models: ['flow_mip', 'seidel_linear', 'seidel_quadratic']\n",
      "flow_mip: 16 instances\n",
      "seidel_linear: 16 instances\n",
      "seidel_quadratic: 16 instances\n"
     ]
    }
   ],
   "source": [
    "from ommx_quantum_benchmarks.qoblib import Topology\n",
    "\n",
    "dataset = Topology()\n",
    "print(f\"Available models: {dataset.model_names}\")\n",
    "for model in dataset.model_names:\n",
    "    instances = dataset.available_instances[model]\n",
    "    print(f\"{model}: {len(instances)} instances\")"
   ]
  },
  {
   "cell_type": "markdown",
   "id": "d6fce736",
   "metadata": {},
   "source": [
    "## その他のデータセットカテゴリ\n",
    "\n",
    "以下のデータセットカテゴリはフレームワーク内で定義されていますが、現在インスタンスは含まれていません。これらは将来のリリースで拡張される可能性のある問題タイプを表しています:\n",
    "\n",
    "- **Sports** (`05_sports`) - 混合整数線形スポーツスケジューリング問題\n",
    "- **Portfolio** (`06_portfolio`) - バイナリ二次およびバイナリ制約なしポートフォリオ最適化\n",
    "\n",
    "**注意**: これらのデータセットはインスタンス化できますが、空のインスタンスリストを返します。現在の利用可能性を確認するには、`available_instances`プロパティを確認してください。\n",
    "\n",
    "## 現在のステータスまとめ\n",
    "\n",
    "| データセット | モデル数 | インスタンス数 | ステータス |\n",
    "|---------|--------|----------------|---------|\n",
    "| Marketsplit | 2 | モデルごとに120 | ✅ 利用可能 |\n",
    "| Labs | 2 | モデルごとに99 | ✅ 利用可能 |\n",
    "| Birkhoff | 1 | 800 | ✅ 利用可能 |\n",
    "| Steiner | 1 | 31 | ✅ 利用可能 |\n",
    "| Sports | 1 | 0 | 🚧 定義済み、インスタンスなし |\n",
    "| Portfolio | 2 | 0 | 🚧 定義済み、インスタンスなし |\n",
    "| IndependentSet | 2 | モデルごとに42 | ✅ 利用可能 |\n",
    "| Network | 1 | 20 | ✅ 利用可能 |\n",
    "| Routing | 1 | 55 | ✅ 利用可能 |\n",
    "| Topology | 3 | モデルごとに16 | ✅ 利用可能 |\n",
    "\n",
    "**凡例**: \n",
    "- ✅ 利用可能: インスタンスが変換済みでアクセス可能\n",
    "- 🚧 定義済み、インスタンスなし: データセットクラスは存在するが、現在インスタンスは利用不可"
   ]
  }
 ],
 "metadata": {
  "jupytext": {
   "cell_metadata_filter": "-all",
   "main_language": "python",
   "notebook_metadata_filter": "-all"
  },
  "kernelspec": {
   "display_name": "ommx-oblib",
   "language": "python",
   "name": "python3"
  },
  "language_info": {
   "codemirror_mode": {
    "name": "ipython",
    "version": 3
   },
   "file_extension": ".py",
   "mimetype": "text/x-python",
   "name": "python",
   "nbconvert_exporter": "python",
   "pygments_lexer": "ipython3",
   "version": "3.10.18"
  }
 },
 "nbformat": 4,
 "nbformat_minor": 5
}
