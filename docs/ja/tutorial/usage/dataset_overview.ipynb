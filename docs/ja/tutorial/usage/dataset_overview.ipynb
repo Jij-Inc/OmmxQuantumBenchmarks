{
 "cells": [
  {
   "cell_type": "markdown",
   "id": "54e94352",
   "metadata": {},
   "source": [
    "# データセット概要\n",
    "\n",
    "OMMX Quantum Benchmarksは、OMMX形式に変換された最適化ベンチマークデータセットへのアクセスを提供します。このページでは、利用可能なデータセットカテゴリの現在の状態について説明します。\n",
    "\n",
    "**現在のソース**: 初回リリースにはQOBLIBから選択されたデータセットが含まれており、将来的に追加のベンチマークソースに拡張できるようにフレームワークが設計されています。"
   ]
  },
  {
   "cell_type": "markdown",
   "id": "fd073584",
   "metadata": {},
   "source": [
    "## Labs (`02_labs`)\n",
    "\n",
    "**問題タイプ**: ラボ割り当て問題  \n",
    "**モデル**: 整数、二次制約なし  \n",
    "**インスタンス**: 99インスタンス (labs002 - labs100)"
   ]
  },
  {
   "cell_type": "code",
   "execution_count": 1,
   "id": "647dec14",
   "metadata": {},
   "outputs": [
    {
     "name": "stdout",
     "output_type": "stream",
     "text": [
      "Available models: ['integer', 'quadratic_unconstrained']\n",
      "integer: 99 instances\n",
      "quadratic_unconstrained: 99 instances\n"
     ]
    }
   ],
   "source": [
    "from ommx_quantum_benchmarks.qoblib import Labs\n",
    "\n",
    "dataset = Labs()\n",
    "print(f\"Available models: {dataset.model_names}\")\n",
    "for model in dataset.model_names:\n",
    "    instances = dataset.available_instances[model]\n",
    "    print(f\"{model}: {len(instances)} instances\")"
   ]
  },
  {
   "cell_type": "markdown",
   "id": "704f1da4",
   "metadata": {},
   "source": [
    "## Birkhoff (`03_birkhoff`)\n",
    "\n",
    "**問題タイプ**: Birkhoff多面体問題  \n",
    "**モデル**: 整数線形  \n",
    "**インスタンス**: 800インスタンス (bhD-3-001 - bhS-6-100)"
   ]
  },
  {
   "cell_type": "code",
   "execution_count": 2,
   "id": "yt34ivrq2v",
   "metadata": {},
   "outputs": [
    {
     "name": "stdout",
     "output_type": "stream",
     "text": [
      "Available models: ['integer_linear']\n",
      "integer_linear: 800 instances\n"
     ]
    }
   ],
   "source": [
    "from ommx_quantum_benchmarks.qoblib import Birkhoff\n",
    "\n",
    "dataset = Birkhoff()\n",
    "print(f\"Available models: {dataset.model_names}\")\n",
    "for model in dataset.model_names:\n",
    "    instances = dataset.available_instances[model]\n",
    "    print(f\"{model}: {len(instances)} instances\")"
   ]
  },
  {
   "cell_type": "markdown",
   "id": "srqvnex133",
   "metadata": {},
   "source": [
    "## Steiner (`04_steiner`)\n",
    "\n",
    "**問題タイプ**: Steiner木問題  \n",
    "**モデル**: 整数線形  \n",
    "**インスタンス**: 31インスタンス (stp_s020_l2_t3_h2_rs24098 - stp_s040_l2_t4_h3_rs123)"
   ]
  },
  {
   "cell_type": "code",
   "execution_count": 3,
   "id": "2rs94wyke07",
   "metadata": {},
   "outputs": [
    {
     "name": "stdout",
     "output_type": "stream",
     "text": [
      "Available models: ['integer_linear']\n",
      "integer_linear: 31 instances\n"
     ]
    }
   ],
   "source": [
    "from ommx_quantum_benchmarks.qoblib import Steiner\n",
    "\n",
    "dataset = Steiner()\n",
    "print(f\"Available models: {dataset.model_names}\")\n",
    "for model in dataset.model_names:\n",
    "    instances = dataset.available_instances[model]\n",
    "    print(f\"{model}: {len(instances)} instances\")"
   ]
  },
  {
   "cell_type": "markdown",
   "id": "mynxdaz9bc7",
   "metadata": {},
   "source": [
    "## Topology (`10_topology`)\n",
    "\n",
    "**問題タイプ**: ネットワークトポロジー最適化  \n",
    "**モデル**: フローMIP、Seidel線形、Seidel二次  \n",
    "**インスタンス**: モデルごとに16インスタンス (topology_15_3 - topology_50_4)"
   ]
  },
  {
   "cell_type": "code",
   "execution_count": 4,
   "id": "gngmnigjefn",
   "metadata": {},
   "outputs": [
    {
     "name": "stdout",
     "output_type": "stream",
     "text": [
      "Available models: ['flow_mip', 'seidel_linear', 'seidel_quadratic']\n",
      "flow_mip: 16 instances\n",
      "seidel_linear: 16 instances\n",
      "seidel_quadratic: 16 instances\n"
     ]
    }
   ],
   "source": [
    "from ommx_quantum_benchmarks.qoblib import Topology\n",
    "\n",
    "dataset = Topology()\n",
    "print(f\"Available models: {dataset.model_names}\")\n",
    "for model in dataset.model_names:\n",
    "    instances = dataset.available_instances[model]\n",
    "    print(f\"{model}: {len(instances)} instances\")"
   ]
  },
  {
   "cell_type": "markdown",
   "id": "n0vhnnrkmla",
   "metadata": {},
   "source": [
    "## その他のデータセットカテゴリ\n",
    "\n",
    "以下のデータセットカテゴリはフレームワークで定義されていますが、現在インスタンスは含まれていません。これらは将来のリリースで拡張される可能性のある問題タイプを表しています：\n",
    "\n",
    "- **Market Split** (`01_marketsplit`) - バイナリ線形およびバイナリ制約なし市場分割問題\n",
    "- **Sports** (`05_sports`) - 混合整数線形スポーツスケジューリング問題\n",
    "- **Portfolio** (`06_portfolio`) - バイナリ二次および二次制約なしポートフォリオ最適化\n",
    "- **Independent Set** (`07_independent_set`) - バイナリ線形および制約なしグラフ問題\n",
    "- **Network** (`08_network`) - 整数線形ネットワーク最適化\n",
    "- **Routing** (`09_routing`) - 整数線形配送計画問題\n",
    "\n",
    "**注意**: これらのデータセットはインスタンス化できますが、空のインスタンスリストを返します。現在の利用可能性を確認するには、`available_instances`プロパティをチェックしてください。\n",
    "\n",
    "## 現在のステータスサマリー\n",
    "\n",
    "| データセット | モデル数 | インスタンス数 | ステータス |\n",
    "|---------|--------|----------------|----------|\n",
    "| Marketsplit | 2 | 0 | 🚧 定義済み、インスタンスなし |\n",
    "| Labs | 2 | 99 | ✅ 利用可能 |\n",
    "| Birkhoff | 1 | 800 | ✅ 利用可能 |\n",
    "| Steiner | 1 | 31 | ✅ 利用可能 |\n",
    "| Sports | 1 | 0 | 🚧 定義済み、インスタンスなし |\n",
    "| Portfolio | 2 | 0 | 🚧 定義済み、インスタンスなし |\n",
    "| IndependentSet | 2 | 0 | 🚧 定義済み、インスタンスなし |\n",
    "| Network | 1 | 0 | 🚧 定義済み、インスタンスなし |\n",
    "| Routing | 1 | 0 | 🚧 定義済み、インスタンスなし |\n",
    "| Topology | 3 | 16 | ✅ 利用可能 |\n",
    "\n",
    "**凡例**: \n",
    "- ✅ 利用可能: インスタンスが変換され、アクセス可能です\n",
    "- 🚧 定義済み、インスタンスなし: データセットクラスは存在しますが、現在インスタンスは利用できません"
   ]
  },
  {
   "cell_type": "markdown",
   "id": "d6fce736",
   "metadata": {},
   "source": []
  }
 ],
 "metadata": {
  "kernelspec": {
   "display_name": "Python 3",
   "language": "python",
   "name": "python3"
  },
  "language_info": {
   "name": "python",
   "version": "3.10.0"
  }
 },
 "nbformat": 4,
 "nbformat_minor": 5
}
