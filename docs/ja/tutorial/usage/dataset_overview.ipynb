{
 "cells": [
  {
   "cell_type": "markdown",
   "id": "42cd215b",
   "metadata": {},
   "source": [
    "# データセット概要\n",
    "\n",
    "OMMX Quantum Benchmarksは、OMMX形式に変換された最適化ベンチマークデータセットへのアクセスを提供します。このページでは、利用可能なデータセットカテゴリの現在の状況について説明します。\n",
    "\n",
    "**現在のソース**: 初回リリースには、QOBLIBから選択されたデータセットが含まれており、将来的に追加のベンチマークソースに拡張するためのフレームワークが設計されています。"
   ]
  },
  {
   "cell_type": "markdown",
   "id": "fd073584",
   "metadata": {},
   "source": [
    "## Labs (`02_labs`)\n",
    "\n",
    "**問題タイプ**: 実験室割り当て問題  \n",
    "**モデル**: 整数、二次制約なし  \n",
    "**インスタンス**: 99インスタンス（labs002 - labs100）\n",
    "\n",
    "実験室問題は通常、実験室環境でのリソース配分とスケジューリングを含みます。"
   ]
  },
  {
   "cell_type": "code",
   "execution_count": 1,
   "id": "647dec14",
   "metadata": {},
   "outputs": [
    {
     "name": "stdout",
     "output_type": "stream",
     "text": [
      "Available models: ['integer', 'quadratic_unconstrained']\n",
      "integer: 99 instances\n",
      "quadratic_unconstrained: 99 instances\n"
     ]
    }
   ],
   "source": [
    "from ommx_quantum_benchmarks.qoblib import Labs\n",
    "\n",
    "dataset = Labs()\n",
    "print(f\"Available models: {dataset.model_names}\")\n",
    "for model in dataset.model_names:\n",
    "    instances = dataset.available_instances[model]\n",
    "    print(f\"{model}: {len(instances)} instances\")"
   ]
  },
  {
   "cell_type": "markdown",
   "id": "704f1da4",
   "metadata": {},
   "source": [
    "## その他のデータセットカテゴリ\n",
    "\n",
    "以下のデータセットカテゴリは、フレームワークで定義されていますが、現在はインスタンスを含んでいません。これらは、将来のリリースで拡張される可能性のある問題タイプを表しています：\n",
    "\n",
    "- **MarketSplit** (`01_marketsplit`) - バイナリ線形と非制約マーケットスプリット問題\n",
    "- **Birkhoff** (`03_birkhoff`) - 二重確率行列に関連する整数線形問題\n",
    "- **Steiner** (`04_steiner`) - 整数線形Steiner木問題\n",
    "- **Sports** (`05_sports`) - 混合整数線形スポーツスケジューリング問題\n",
    "- **Portfolio** (`06_portfolio`) - バイナリ二次および二次制約なしポートフォリオ最適化\n",
    "- **Independent Set** (`07_independent_set`) - バイナリ線形および制約なしグラフ問題\n",
    "- **Network** (`08_network`) - 整数線形ネットワーク最適化\n",
    "- **Routing** (`09_routing`) - 整数線形車両ルーティング問題  \n",
    "- **Topology** (`10_topology`) - 複数の定式化を持つネットワークトポロジー問題\n",
    "\n",
    "**注意**: これらのデータセットはインスタンス化できますが、空のインスタンスリストを返します。現在の利用可能性を確認するには、`available_instances`プロパティをチェックしてください。\n",
    "\n",
    "## 現在の状況サマリー\n",
    "\n",
    "| データセット | モデル | インスタンス数 | 状況 |\n",
    "|---------|--------|----------------|---------|\n",
    "| Marketsplit | 2 | 0 | 🚧 定義済み、インスタンスなし |\n",
    "| Labs | 2 | 99 | ✅ 利用可能 |\n",
    "| Birkhoff | 1 | 0 | 🚧 定義済み、インスタンスなし |\n",
    "| Steiner | 1 | 0 | 🚧 定義済み、インスタンスなし |\n",
    "| Sports | 1 | 0 | 🚧 定義済み、インスタンスなし |\n",
    "| Portfolio | 2 | 0 | 🚧 定義済み、インスタンスなし |\n",
    "| IndependentSet | 2 | 0 | 🚧 定義済み、インスタンスなし |\n",
    "| Network | 1 | 0 | 🚧 定義済み、インスタンスなし |\n",
    "| Routing | 1 | 0 | 🚧 定義済み、インスタンスなし |\n",
    "| Topology | 3 | 0 | 🚧 定義済み、インスタンスなし |\n",
    "\n",
    "**凡例**: \n",
    "- ✅ 利用可能: インスタンスが変換され、アクセス可能\n",
    "- 🚧 定義済み、インスタンスなし: データセットクラスは存在するが、現在利用可能なインスタンスはない"
   ]
  },
  {
   "cell_type": "markdown",
   "id": "f0dc72ca",
   "metadata": {},
   "source": []
  }
 ],
 "metadata": {
  "kernelspec": {
   "display_name": "ommx-oblib",
   "language": "python",
   "name": "python3"
  },
  "language_info": {
   "codemirror_mode": {
    "name": "ipython",
    "version": 3
   },
   "file_extension": ".py",
   "mimetype": "text/x-python",
   "name": "python",
   "nbconvert_exporter": "python",
   "pygments_lexer": "ipython3",
   "version": "3.10.18"
  }
 },
 "nbformat": 4,
 "nbformat_minor": 5
}
