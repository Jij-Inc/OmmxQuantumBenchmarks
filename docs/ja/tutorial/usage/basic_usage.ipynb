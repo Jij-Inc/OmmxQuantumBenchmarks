{
 "cells": [
  {
   "cell_type": "markdown",
   "id": "e4207927",
   "metadata": {},
   "source": [
    "# 基本的な使用方法\n",
    "\n",
    "このページでは、OMMX形式でQOBLIBを操作する際の一般的な使用パターンとベストプラクティスを説明します。[OMMXドキュメント](https://jij-inc.github.io/ommx/en/introduction.html)も合わせて参照してください。"
   ]
  },
  {
   "cell_type": "code",
   "execution_count": 1,
   "id": "1107e1c3",
   "metadata": {},
   "outputs": [],
   "source": [
    "from ommx_quantum_benchmarks.qoblib import Labs\n",
    "\n",
    "# Create dataset instance\n",
    "marketsplit = Labs()"
   ]
  },
  {
   "cell_type": "markdown",
   "id": "91526d1b",
   "metadata": {},
   "source": [
    "## データセットのインスタンス化\n",
    "\n",
    "すべてのデータセットクラスは同じパターンに従います："
   ]
  },
  {
   "cell_type": "markdown",
   "id": "17qnyua6f6o",
   "metadata": {},
   "source": [
    "## インスタンス管理\n",
    "\n",
    "### 利用可能なインスタンスのリスト表示"
   ]
  },
  {
   "cell_type": "code",
   "execution_count": 2,
   "id": "l5g21cubsoc",
   "metadata": {},
   "outputs": [
    {
     "name": "stdout",
     "output_type": "stream",
     "text": [
      "Model 'integer': 99 instances\n",
      "Model 'quadratic_unconstrained': 99 instances\n",
      "Binary linear instances: ['labs002', 'labs003', 'labs004', 'labs005', 'labs006']\n"
     ]
    }
   ],
   "source": [
    "dataset = Labs()\n",
    "\n",
    "# Get all instances for all models\n",
    "for model_name, instances in dataset.available_instances.items():\n",
    "    print(f\"Model '{model_name}': {len(instances)} instances\")\n",
    "    \n",
    "# Get instances for specific model\n",
    "binary_linear_instances = dataset.available_instances[\"integer\"]\n",
    "print(f\"Binary linear instances: {binary_linear_instances[:5]}\")  # First 5"
   ]
  },
  {
   "cell_type": "markdown",
   "id": "nd4nbbq4ava",
   "metadata": {},
   "source": [
    "### 特定インスタンスの読み込み"
   ]
  },
  {
   "cell_type": "code",
   "execution_count": 3,
   "id": "0f9f551c",
   "metadata": {},
   "outputs": [
    {
     "name": "stdout",
     "output_type": "stream",
     "text": [
      "Dataset ID: 02_labs\n",
      "Description: Labs dataset in ommx format, originally provided by https://git.zib.de/qopt/qoblib-quantum-optimization-benchmarking-library/-/tree/main/02-labs?ref_type=heads.\n",
      "Available models: ['integer', 'quadratic_unconstrained']\n",
      "Base URL: ghcr.io/jij-inc/ommxquantumbenchmarks/qoblib\n"
     ]
    }
   ],
   "source": [
    "dataset = Labs()\n",
    "\n",
    "# Basic information\n",
    "print(f\"Dataset ID: {dataset.name}\")\n",
    "print(f\"Description: {dataset.description}\")\n",
    "print(f\"Available models: {dataset.model_names}\")\n",
    "\n",
    "# Container registry information\n",
    "print(f\"Base URL: {dataset.base_url}\")"
   ]
  },
  {
   "cell_type": "markdown",
   "id": "eb9cef30",
   "metadata": {},
   "source": [
    "## データセットプロパティのアクセス"
   ]
  },
  {
   "cell_type": "code",
   "execution_count": 4,
   "id": "e0d01754",
   "metadata": {},
   "outputs": [
    {
     "name": "stdout",
     "output_type": "stream",
     "text": [
      "Successfully loaded instance and solution\n"
     ]
    }
   ],
   "source": [
    "# Load instance and solution\n",
    "model_name = \"integer\"\n",
    "instance_name = \"labs002\"\n",
    "\n",
    "instance, solution = dataset(model_name, instance_name)\n",
    "print(\"Successfully loaded instance and solution\")"
   ]
  },
  {
   "cell_type": "markdown",
   "id": "j302lfm6pfg",
   "metadata": {},
   "source": [
    "## ソリューションの操作\n",
    "\n",
    "### ソリューション検証"
   ]
  },
  {
   "cell_type": "code",
   "execution_count": 5,
   "id": "5zv504oepdb",
   "metadata": {},
   "outputs": [
    {
     "name": "stdout",
     "output_type": "stream",
     "text": [
      "Objective values match: True\n",
      "Feasibility matches: True\n",
      "State entries match: True\n"
     ]
    }
   ],
   "source": [
    "if solution is not None:\n",
    "    # Evaluate solution using the instance\n",
    "    evaluated = instance.evaluate(solution.state)\n",
    "    \n",
    "    # Compare original and evaluated solutions\n",
    "    obj_match = solution.objective == evaluated.objective\n",
    "    feas_match = solution.feasible == evaluated.feasible\n",
    "    state_match = solution.state.entries == evaluated.state.entries\n",
    "    \n",
    "    print(f\"Objective values match: {obj_match}\")\n",
    "    print(f\"Feasibility matches: {feas_match}\")\n",
    "    print(f\"State entries match: {state_match}\")"
   ]
  },
  {
   "cell_type": "markdown",
   "id": "73428c02",
   "metadata": {},
   "source": [
    "### ソリューションデータのアクセス"
   ]
  },
  {
   "cell_type": "code",
   "execution_count": 6,
   "id": "77041d5f",
   "metadata": {},
   "outputs": [
    {
     "name": "stdout",
     "output_type": "stream",
     "text": [
      "Objective value: 1.0\n",
      "Is feasible: True\n",
      "Number of variables: 3\n",
      "Variable 0: 1.0\n",
      "Variable 1: 1.0\n",
      "Variable 2: 1.0\n"
     ]
    }
   ],
   "source": [
    "if solution is not None:\n",
    "    print(f\"Objective value: {solution.objective}\")\n",
    "    print(f\"Is feasible: {solution.feasible}\")\n",
    "    print(f\"Number of variables: {len(solution.state.entries)}\")\n",
    "    \n",
    "    # Access variable assignments\n",
    "    for id, entry in solution.state.entries.items():\n",
    "        print(f\"Variable {id}: {entry}\")"
   ]
  },
  {
   "cell_type": "markdown",
   "id": "36xmg5nwpc5",
   "metadata": {},
   "source": [
    "## 注釈について\n",
    "ダウンロードされたインスタンスには、`annotations`プロパティを介してアクセス可能なさまざまな注釈が含まれています。\n",
    "\n",
    "| 注釈 | プロパティ | 説明 |\n",
    "| --- | --- | --- |\n",
    "| `org.ommx.v1.instance.title` | `title` | インスタンスの名前 |\n",
    "| `org.ommx.v1.instance.license` | `license` | データセットのライセンス |\n",
    "| `org.ommx.v1.instance.dataset` | `dataset` | このインスタンスが属するデータセットの名前 |\n",
    "| `org.ommx.v1.instance.authors` | `authors` | インスタンスの作成者 |\n",
    "| `org.ommx.v1.instance.variables` | `num_variables` | インスタンス内の決定変数の総数 |\n",
    "| `org.ommx.v1.instance.constraints` | `num_constraints` | インスタンス内の制約条件の総数 |\n",
    "\n",
    "ソリューションも同様です。\n",
    "\n",
    "| 注釈 | プロパティ | 説明 |\n",
    "| --- | --- | --- |\n",
    "| `org.ommx.v1.solution.instance` | `instance` | このソリューションが適用されるインスタンスのダイジェスト |"
   ]
  }
 ],
 "metadata": {
  "kernelspec": {
   "display_name": "ommx-oblib",
   "language": "python",
   "name": "python3"
  },
  "language_info": {
   "codemirror_mode": {
    "name": "ipython",
    "version": 3
   },
   "file_extension": ".py",
   "mimetype": "text/x-python",
   "name": "python",
   "nbconvert_exporter": "python",
   "pygments_lexer": "ipython3",
   "version": "3.10.18"
  }
 },
 "nbformat": 4,
 "nbformat_minor": 5
}
