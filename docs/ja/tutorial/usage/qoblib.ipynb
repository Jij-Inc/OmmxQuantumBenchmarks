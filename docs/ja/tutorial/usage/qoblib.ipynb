{
 "cells": [
  {
   "cell_type": "markdown",
   "id": "d4e5097a",
   "metadata": {},
   "source": "# QOBLIB概要\n\nこの例では、このパッケージのqoblibデータセットの操作方法を示します。"
  },
  {
   "cell_type": "markdown",
   "id": "470ef640",
   "metadata": {},
   "source": "## 現在の状況サマリー\n\n| データセット | モデル数 | インスタンス数 | 状態 |\n|---------|--------|----------------|---------|\n| Marketsplit | 2 | モデルごとに120 | ✅ 利用可能 |\n| Labs | 2 | モデルごとに99 | ✅ 利用可能 |\n| Birkhoff | 1 | 800 | ✅ 利用可能 |\n| Steiner | 1 | 31 | ✅ 利用可能 |\n| Sports | 1 | 0 | 🚧 定義済み、インスタンスなし |\n| Portfolio | 2 | 0 | 🚧 定義済み、インスタンスなし |\n| IndependentSet | 2 | モデルごとに42 | ✅ 利用可能 |\n| Network | 1 | 20 | ✅ 利用可能 |\n| Routing | 1 | 55 | ✅ 利用可能 |\n| Topology | 3 | モデルごとに16 | ✅ 利用可能 |\n\n**凡例**: \n- ✅ 利用可能：インスタンスが変換されアクセス可能\n- 🚧 定義済み、インスタンスなし：データセットクラスは存在するが、現在利用可能なインスタンスがない"
  },
  {
   "cell_type": "markdown",
   "id": "04f1f351",
   "metadata": {},
   "source": "## QOBLIBデータセットの共通使用パターン\n\n全てのQOBLIBデータセットは、この一貫したインターフェースに従います：\n\n```python\nfrom ommx_quantum_benchmarks.qoblib import DatasetName\n\n# 任意のデータセットをインスタンス化\ndataset = DatasetName()\n\n# プロパティを確認\nprint(f\"Name: {dataset.name}\")\nprint(f\"Models: {dataset.model_names}\")\nprint(f\"Available instances: {dataset.available_instances}\")\n\n# インスタンスと解を読み込む（利用可能な場合）\nif dataset.available_instances[model_name]:\n    instance, solution = dataset(model_name, instance_name)\n```"
  },
  {
   "cell_type": "markdown",
   "id": "57b6dda2",
   "metadata": {},
   "source": "## 個別のデータセット"
  },
  {
   "cell_type": "markdown",
   "id": "03a7ca6d",
   "metadata": {},
   "source": "### Marketsplit (`01_marketsplit`)\n\n**問題タイプ**：市場分割最適化問題  \n**モデル**：バイナリ線形、バイナリ制約なし  \n**インスタンス**：モデルごとに120インスタンス（ms_03_050_002 - ms_15_200_003）"
  },
  {
   "cell_type": "code",
   "execution_count": 23,
   "id": "c00ca97c",
   "metadata": {},
   "outputs": [
    {
     "name": "stdout",
     "output_type": "stream",
     "text": [
      "Available models: ['binary_linear', 'binary_unconstrained']\n",
      "binary_linear: 156 instances\n",
      "binary_unconstrained: 156 instances\n",
      "Instance type: <class 'ommx.v1.Instance'>\n",
      "The number of variables: 23\n",
      "The number of constraints: 3\n",
      "Solution available: True\n",
      "Objective value: 0.0\n",
      "Feasible: True\n",
      "Number of variables: 23\n"
     ]
    }
   ],
   "source": [
    "from ommx_quantum_benchmarks.qoblib import Marketsplit\n",
    "\n",
    "dataset = Marketsplit()\n",
    "print(f\"Available models: {dataset.model_names}\")\n",
    "for model in dataset.model_names:\n",
    "    instances = dataset.available_instances[model]\n",
    "    print(f\"{model}: {len(instances)} instances\")\n",
    "\n",
    "(instance, solution) = dataset(\"binary_linear\", \"ms_03_050_002\")\n",
    "# Show the info.\n",
    "print(f\"Instance type: {type(instance)}\")\n",
    "print(f\"The number of variables: {instance.num_variables}\")\n",
    "print(f\"The number of constraints: {instance.num_constraints}\")\n",
    "print(f\"Solution available: {solution is not None}\")\n",
    "# If a solution is available, show its details.\n",
    "if solution:\n",
    "    print(f\"Objective value: {solution.objective}\")\n",
    "    print(f\"Feasible: {solution.feasible}\")\n",
    "    print(f\"Number of variables: {len(solution.state.entries)}\")"
   ]
  },
  {
   "cell_type": "markdown",
   "id": "539bd0e3",
   "metadata": {},
   "source": "### Labs (`02_labs`)\n\n**問題タイプ**：低自己相関バイナリシーケンス  \n**モデル**：整数、二次制約なし  \n**インスタンス**：99インスタンス（labs002 - labs100）"
  },
  {
   "cell_type": "code",
   "execution_count": 32,
   "id": "ad9813c0",
   "metadata": {},
   "outputs": [
    {
     "name": "stdout",
     "output_type": "stream",
     "text": [
      "Available models: ['integer', 'quadratic_unconstrained']\n",
      "integer: 99 instances\n",
      "quadratic_unconstrained: 99 instances\n",
      "Instance type: <class 'ommx.v1.Instance'>\n",
      "The number of variables: 3\n",
      "The number of constraints: 1\n",
      "Solution available: True\n",
      "Objective value: 1.0\n",
      "Feasible: True\n",
      "Number of variables: 3\n"
     ]
    }
   ],
   "source": [
    "from ommx_quantum_benchmarks.qoblib import Labs\n",
    "\n",
    "dataset = Labs()\n",
    "print(f\"Available models: {dataset.model_names}\")\n",
    "for model in dataset.model_names:\n",
    "    instances = dataset.available_instances[model]\n",
    "    print(f\"{model}: {len(instances)} instances\")\n",
    "\n",
    "(instance, solution) = dataset(\"integer\", \"labs002\")\n",
    "# Show the info.\n",
    "print(f\"Instance type: {type(instance)}\")\n",
    "print(f\"The number of variables: {instance.num_variables}\")\n",
    "print(f\"The number of constraints: {instance.num_constraints}\")\n",
    "print(f\"Solution available: {solution is not None}\")\n",
    "# If a solution is available, show its details.\n",
    "if solution:\n",
    "    print(f\"Objective value: {solution.objective}\")\n",
    "    print(f\"Feasible: {solution.feasible}\")\n",
    "    print(f\"Number of variables: {len(solution.state.entries)}\")"
   ]
  },
  {
   "cell_type": "markdown",
   "id": "bbf6ea00",
   "metadata": {},
   "source": "### Birkhoff (`03_birkhoff`)\n\n**問題タイプ**：最小バーコフ分解  \n**モデル**：整数線形  \n**インスタンス**：800インスタンス（bhD-3-001 - bhS-6-100）"
  },
  {
   "cell_type": "code",
   "execution_count": 25,
   "id": "76b48cf1",
   "metadata": {},
   "outputs": [
    {
     "name": "stdout",
     "output_type": "stream",
     "text": [
      "Available models: ['integer_linear']\n",
      "integer_linear: 800 instances\n",
      "Instance type: <class 'ommx.v1.Instance'>\n",
      "The number of variables: 12\n",
      "The number of constraints: 16\n",
      "Solution available: True\n",
      "Objective value: 5.0\n",
      "Feasible: True\n",
      "Number of variables: 12\n"
     ]
    }
   ],
   "source": [
    "from ommx_quantum_benchmarks.qoblib import Birkhoff\n",
    "\n",
    "dataset = Birkhoff()\n",
    "print(f\"Available models: {dataset.model_names}\")\n",
    "for model in dataset.model_names:\n",
    "    instances = dataset.available_instances[model]\n",
    "    print(f\"{model}: {len(instances)} instances\")\n",
    "\n",
    "(instance, solution) = dataset(\"integer_linear\", \"bhD-3-001\")\n",
    "# Show the info.\n",
    "print(f\"Instance type: {type(instance)}\")\n",
    "print(f\"The number of variables: {instance.num_variables}\")\n",
    "print(f\"The number of constraints: {instance.num_constraints}\")\n",
    "print(f\"Solution available: {solution is not None}\")\n",
    "# If a solution is available, show its details.\n",
    "if solution:\n",
    "    print(f\"Objective value: {solution.objective}\")\n",
    "    print(f\"Feasible: {solution.feasible}\")\n",
    "    print(f\"Number of variables: {len(solution.state.entries)}\")"
   ]
  },
  {
   "cell_type": "markdown",
   "id": "922c1cd1",
   "metadata": {},
   "source": "### Steiner (`04_steiner`)\n\n**問題タイプ**：シュタイナー木パッキング問題  \n**モデル**：整数線形  \n**インスタンス**：31インスタンス（stp_s020_l2_t3_h2_rs24098 - stp_s040_l2_t4_h3_rs123）"
  },
  {
   "cell_type": "code",
   "execution_count": 26,
   "id": "46eaa1d3",
   "metadata": {},
   "outputs": [
    {
     "name": "stdout",
     "output_type": "stream",
     "text": [
      "Available models: ['integer_linear']\n",
      "integer_linear: 31 instances\n",
      "Instance type: <class 'ommx.v1.Instance'>\n",
      "The number of variables: 78476\n",
      "The number of constraints: 41381\n",
      "Solution available: True\n",
      "Objective value: 228.0\n",
      "Feasible: True\n",
      "Number of variables: 78476\n"
     ]
    }
   ],
   "source": [
    "from ommx_quantum_benchmarks.qoblib import Steiner\n",
    "\n",
    "dataset = Steiner()\n",
    "print(f\"Available models: {dataset.model_names}\")\n",
    "for model in dataset.model_names:\n",
    "    instances = dataset.available_instances[model]\n",
    "    print(f\"{model}: {len(instances)} instances\")\n",
    "\n",
    "(instance, solution) = dataset(\"integer_linear\", \"stp_s020_l2_t3_h2_rs24098\")\n",
    "# Show the info.\n",
    "print(f\"Instance type: {type(instance)}\")\n",
    "print(f\"The number of variables: {instance.num_variables}\")\n",
    "print(f\"The number of constraints: {instance.num_constraints}\")\n",
    "print(f\"Solution available: {solution is not None}\")\n",
    "# If a solution is available, show its details.\n",
    "if solution:\n",
    "    print(f\"Objective value: {solution.objective}\")\n",
    "    print(f\"Feasible: {solution.feasible}\")\n",
    "    print(f\"Number of variables: {len(solution.state.entries)}\")"
   ]
  },
  {
   "cell_type": "markdown",
   "id": "01571d05",
   "metadata": {},
   "source": "### Sports (`05_sports`)\n\n**問題タイプ**：スポーツスケジューリング問題  \n**モデル**：混合整数線形  \n**インスタンス**：現在0インスタンス"
  },
  {
   "cell_type": "markdown",
   "id": "39729a42",
   "metadata": {},
   "source": "### Portfolio (`06_portfolio`)\n\n**問題タイプ**：ポートフォリオ最適化  \n**モデル**：バイナリ二次および二次制約なし  \n**インスタンス**：現在0インスタンス"
  },
  {
   "cell_type": "markdown",
   "id": "ce767ba5",
   "metadata": {},
   "source": "### Independent Set (`07_independentset`)\n\n**問題タイプ**：最大独立集合問題  \n**モデル**：バイナリ線形、バイナリ制約なし  \n**インスタンス**：モデルごとに42インスタンス"
  },
  {
   "cell_type": "code",
   "execution_count": 27,
   "id": "2317c35b",
   "metadata": {},
   "outputs": [
    {
     "name": "stdout",
     "output_type": "stream",
     "text": [
      "Available models: ['binary_linear', 'binary_unconstrained']\n",
      "binary_linear: 42 instances\n",
      "binary_unconstrained: 42 instances\n",
      "Instance type: <class 'ommx.v1.Instance'>\n",
      "The number of variables: 52\n",
      "The number of constraints: 454\n",
      "Solution available: True\n",
      "Objective value: 13.0\n",
      "Feasible: True\n",
      "Number of variables: 52\n"
     ]
    }
   ],
   "source": [
    "from ommx_quantum_benchmarks.qoblib import IndependentSet\n",
    "\n",
    "dataset = IndependentSet()\n",
    "print(f\"Available models: {dataset.model_names}\")\n",
    "for model in dataset.model_names:\n",
    "    instances = dataset.available_instances[model]\n",
    "    print(f\"{model}: {len(instances)} instances\")\n",
    "\n",
    "(instance, solution) = dataset(\"binary_linear\", \"aves-sparrow-social\")\n",
    "# Show the info.\n",
    "print(f\"Instance type: {type(instance)}\")\n",
    "print(f\"The number of variables: {instance.num_variables}\")\n",
    "print(f\"The number of constraints: {instance.num_constraints}\")\n",
    "print(f\"Solution available: {solution is not None}\")\n",
    "# If a solution is available, show its details.\n",
    "if solution:\n",
    "    print(f\"Objective value: {solution.objective}\")\n",
    "    print(f\"Feasible: {solution.feasible}\")\n",
    "    print(f\"Number of variables: {len(solution.state.entries)}\")"
   ]
  },
  {
   "cell_type": "markdown",
   "id": "b9477b9e",
   "metadata": {},
   "source": "### Network (`08_network`)\n\n**問題タイプ**：ネットワーク設計  \n**モデル**：整数LP  \n**インスタンス**：20インスタンス"
  },
  {
   "cell_type": "code",
   "execution_count": 28,
   "id": "cd904859",
   "metadata": {},
   "outputs": [
    {
     "name": "stdout",
     "output_type": "stream",
     "text": [
      "Available models: ['integer_lp']\n",
      "integer_lp: 20 instances\n",
      "Instance type: <class 'ommx.v1.Instance'>\n",
      "The number of variables: 151\n",
      "The number of constraints: 130\n",
      "Solution available: True\n",
      "Objective value: 65500.0\n",
      "Feasible: True\n",
      "Number of variables: 151\n"
     ]
    }
   ],
   "source": [
    "from ommx_quantum_benchmarks.qoblib import Network\n",
    "\n",
    "dataset = Network()\n",
    "print(f\"Available models: {dataset.model_names}\")\n",
    "for model in dataset.model_names:\n",
    "    instances = dataset.available_instances[model]\n",
    "    print(f\"{model}: {len(instances)} instances\")\n",
    "\n",
    "(instance, solution) = dataset(\"integer_lp\", \"network05\")\n",
    "# Show the info.\n",
    "print(f\"Instance type: {type(instance)}\")\n",
    "print(f\"The number of variables: {instance.num_variables}\")\n",
    "print(f\"The number of constraints: {instance.num_constraints}\")\n",
    "print(f\"Solution available: {solution is not None}\")\n",
    "# If a solution is available, show its details.\n",
    "if solution:\n",
    "    print(f\"Objective value: {solution.objective}\")\n",
    "    print(f\"Feasible: {solution.feasible}\")\n",
    "    print(f\"Number of variables: {len(solution.state.entries)}\")"
   ]
  },
  {
   "cell_type": "markdown",
   "id": "f79fa203",
   "metadata": {},
   "source": "### Routing (`09_routing`)\n\n**問題タイプ**：車両ルーティング  \n**モデル**：整数線形  \n**インスタンス**：55インスタンス"
  },
  {
   "cell_type": "code",
   "execution_count": 29,
   "id": "b4051709",
   "metadata": {},
   "outputs": [
    {
     "name": "stdout",
     "output_type": "stream",
     "text": [
      "Available models: ['integer_linear']\n",
      "integer_linear: 55 instances\n",
      "Instance type: <class 'ommx.v1.Instance'>\n",
      "The number of variables: 462\n",
      "The number of constraints: 483\n",
      "Solution available: True\n",
      "Objective value: 646.0\n",
      "Feasible: True\n",
      "Number of variables: 462\n"
     ]
    }
   ],
   "source": [
    "from ommx_quantum_benchmarks.qoblib import Routing\n",
    "\n",
    "dataset = Routing()\n",
    "print(f\"Available models: {dataset.model_names}\")\n",
    "for model in dataset.model_names:\n",
    "    instances = dataset.available_instances[model]\n",
    "    print(f\"{model}: {len(instances)} instances\")\n",
    "\n",
    "(instance, solution) = dataset(\"integer_linear\", \"XSH-n20-k4-01\")\n",
    "# Show the info.\n",
    "print(f\"Instance type: {type(instance)}\")\n",
    "print(f\"The number of variables: {instance.num_variables}\")\n",
    "print(f\"The number of constraints: {instance.num_constraints}\")\n",
    "print(f\"Solution available: {solution is not None}\")\n",
    "# If a solution is available, show its details.\n",
    "if solution:\n",
    "    print(f\"Objective value: {solution.objective}\")\n",
    "    print(f\"Feasible: {solution.feasible}\")\n",
    "    print(f\"Number of variables: {len(solution.state.entries)}\")"
   ]
  },
  {
   "cell_type": "markdown",
   "id": "05e24140",
   "metadata": {},
   "source": "### Topology (`10_topology`)\n\n**問題タイプ**：トポロジー設計  \n**モデル**：フローMIP、Seidel線形、Seidel二次  \n**インスタンス**：モデルごとに16インスタンス"
  },
  {
   "cell_type": "code",
   "execution_count": 30,
   "id": "650461c0",
   "metadata": {},
   "outputs": [
    {
     "name": "stdout",
     "output_type": "stream",
     "text": [
      "Available models: ['flow_mip', 'seidel_linear', 'seidel_quadratic']\n",
      "flow_mip: 16 instances\n",
      "seidel_linear: 16 instances\n",
      "seidel_quadratic: 16 instances\n",
      "Instance type: <class 'ommx.v1.Instance'>\n",
      "The number of variables: 51076\n",
      "The number of constraints: 23850\n",
      "Solution available: True\n",
      "Objective value: 3.0\n",
      "Feasible: True\n",
      "Number of variables: 51076\n"
     ]
    }
   ],
   "source": [
    "from ommx_quantum_benchmarks.qoblib import Topology\n",
    "\n",
    "dataset = Topology()\n",
    "print(f\"Available models: {dataset.model_names}\")\n",
    "for model in dataset.model_names:\n",
    "    instances = dataset.available_instances[model]\n",
    "    print(f\"{model}: {len(instances)} instances\")\n",
    "\n",
    "(instance, solution) = dataset(\"flow_mip\", \"topology_15_3\")\n",
    "# Show the info.\n",
    "print(f\"Instance type: {type(instance)}\")\n",
    "print(f\"The number of variables: {instance.num_variables}\")\n",
    "print(f\"The number of constraints: {instance.num_constraints}\")\n",
    "print(f\"Solution available: {solution is not None}\")\n",
    "# If a solution is available, show its details.\n",
    "if solution:\n",
    "    print(f\"Objective value: {solution.objective}\")\n",
    "    print(f\"Feasible: {solution.feasible}\")\n",
    "    print(f\"Number of variables: {len(solution.state.entries)}\")"
   ]
  },
  {
   "cell_type": "markdown",
   "id": "c024ddc6",
   "metadata": {},
   "source": "## アノテーションについての注記\nダウンロードされたインスタンスには、`annotations`プロパティを通じてアクセス可能なさまざまなアノテーションが含まれています。\n\n| アノテーション | プロパティ | 説明 |\n| --- | --- | --- |\n| `org.ommx.v1.instance.title` | `title` | インスタンスの名前 |\n| `org.ommx.v1.instance.license` | `license` | データセットのライセンス |\n| `org.ommx.v1.instance.dataset` | `dataset` | このインスタンスが属するデータセットの名前 |\n| `org.ommx.v1.instance.authors` | `authors` | インスタンスの著者 |\n| `org.ommx.v1.instance.variables` | `num_variables` | インスタンス内の決定変数の総数 |\n| `org.ommx.v1.instance.constraints` | `num_constraints` | インスタンス内の制約条件の総数 |\n\n解も同様です。\n\n| アノテーション | プロパティ | 説明 |\n| --- | --- | --- |\n| `org.ommx.v1.solution.instance` | `instance` | この解が適用されるインスタンスのダイジェスト |"
  }
 ],
 "metadata": {
  "jupytext": {
   "cell_metadata_filter": "-all",
   "main_language": "python",
   "notebook_metadata_filter": "-all"
  },
  "kernelspec": {
   "display_name": "ommx-oblib",
   "language": "python",
   "name": "python3"
  },
  "language_info": {
   "codemirror_mode": {
    "name": "ipython",
    "version": 3
   },
   "file_extension": ".py",
   "mimetype": "text/x-python",
   "name": "python",
   "nbconvert_exporter": "python",
   "pygments_lexer": "ipython3",
   "version": "3.10.18"
  }
 },
 "nbformat": 4,
 "nbformat_minor": 5
}