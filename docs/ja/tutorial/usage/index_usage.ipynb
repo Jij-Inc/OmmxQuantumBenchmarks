{
 "cells": [
  {
   "cell_type": "markdown",
   "id": "81772941",
   "metadata": {},
   "source": [
    "# 使用ガイド\n",
    "\n",
    "このセクションでは、OMMX Quantum Benchmarks を通じて利用可能な量子最適化ベンチマークデータセットの操作に関する詳細情報を提供します。\n",
    "\n",
    "## 概要\n",
    "\n",
    "OMMX Quantum Benchmarks は OMMX 形式に変換された最適化ベンチマークデータセットへのアクセスを提供します。現在、QOBLIB リポジトリから選択されたデータセットが含まれており、追加のベンチマークソースに拡張する予定です。利用可能なデータセットは一貫したインターフェースパターンに従います：\n",
    "\n",
    "1. **データセットクラス**: 各問題カテゴリには独自のクラスがあります（例：`Marketsplit`、`Labs`、`Portfolio`）\n",
    "2. **モデルタイプ**: 各データセットは異なるモデル定式化をサポートします（例：バイナリ線形、二次制約なし）\n",
    "3. **インスタンス読み込み**: データセット呼び出しインターフェースを使用して特定の問題インスタンスにアクセス\n",
    "4. **ソリューション評価**: 提供された最適解または最良解の検証と操作\n",
    "\n",
    "## 主要概念\n",
    "\n",
    "### データセット\n",
    "データセットは関連する最適化問題のコレクションを表します。各データセットには以下があります：\n",
    "- 固有の名前と説明\n",
    "- 複数のモデル定式化\n",
    "- 各モデルの利用可能なインスタンス\n",
    "- 標準化されたアクセス方法\n",
    "\n",
    "### モデル\n",
    "同じ問題タイプの異なる数学的定式化：\n",
    "- **バイナリ線形**: 線形制約を持つバイナリ変数\n",
    "- **バイナリ制約なし**: 制約のないバイナリ変数\n",
    "- **整数線形**: 線形制約を持つ整数変数\n",
    "- **二次制約なし**: 制約のない二次目的\n",
    "- **混合整数線形**: 連続変数と整数変数の混合\n",
    "\n",
    "### インスタンス\n",
    "データセット内の特定の問題インスタンス、それぞれに以下があります：\n",
    "- 固有の識別子（インスタンス名）\n",
    "- OMMX形式の問題データ\n",
    "- オプションの最適解または最良既知解\n",
    "\n",
    "## データセットの操作\n",
    "\n",
    "### 基本的なデータセット情報"
   ]
  },
  {
   "cell_type": "code",
   "execution_count": null,
   "id": "0f05af79",
   "metadata": {},
   "outputs": [],
   "source": [
    "from ommx_quantum_benchmarks.qoblib import Labs\n",
    "\n",
    "dataset = Labs()\n",
    "print(f\"名前: {dataset.name}\")\n",
    "print(f\"モデル: {dataset.model_names}\")\n",
    "print(f\"説明: {dataset.description}\")"
   ]
  },
  {
   "cell_type": "markdown",
   "id": "d8b93842",
   "metadata": {},
   "source": [
    "### 利用可能なインスタンスの探索"
   ]
  },
  {
   "cell_type": "code",
   "execution_count": null,
   "id": "cb34756a",
   "metadata": {},
   "outputs": [],
   "source": [
    "# すべての利用可能なインスタンスを取得\n",
    "for model, instances in dataset.available_instances.items():\n",
    "    print(f\"{model}: {len(instances)} インスタンス\")\n",
    "    for instance in instances[:3]:  # 簡潔にするため最初の3つを表示\n",
    "        print(f\"  - {instance}\")\n",
    "    \n",
    "# 特定のインスタンスが存在するかチェック\n",
    "model_name = \"integer\"\n",
    "instance_name = \"labs002\"\n",
    "if instance_name in dataset.available_instances[model_name]:\n",
    "    print(\"インスタンスが見つかりました！\")"
   ]
  },
  {
   "cell_type": "markdown",
   "id": "aeaf2d1e",
   "metadata": {},
   "source": [
    "### インスタンスとソリューションの読み込み"
   ]
  },
  {
   "cell_type": "code",
   "execution_count": null,
   "id": "b04477c4",
   "metadata": {},
   "outputs": [],
   "source": [
    "# インスタンスとソリューションを読み込み\n",
    "instance, solution = dataset(model_name, instance_name)\n",
    "\n",
    "# ソリューションが利用可能かチェック\n",
    "if solution is not None:\n",
    "    print(f\"ソリューションの目的値: {solution.objective}\")\n",
    "    print(f\"ソリューションは実行可能: {solution.feasible}\")\n",
    "else:\n",
    "    print(\"このインスタンスにはソリューションが利用できません\")"
   ]
  },
  {
   "cell_type": "markdown",
   "id": "428e3100",
   "metadata": {},
   "source": [
    "## 次のトピック\n",
    "\n",
    "- [基本的な使用方法](basic_usage.ipynb) - 一般的なパターンとベストプラクティス\n",
    "- [データセット概要](dataset_overview.ipynb) - 各データセットの詳細情報"
   ]
  }
 ],
 "metadata": {
  "kernelspec": {
   "display_name": "Python 3 (ipykernel)",
   "language": "python",
   "name": "python3"
  },
  "language_info": {
   "codemirror_mode": {
    "name": "ipython",
    "version": 3
   },
   "file_extension": ".py",
   "mimetype": "text/x-python",
   "name": "python",
   "nbconvert_exporter": "python",
   "pygments_lexer": "ipython3",
   "version": "3.9.7"
  }
 },
 "nbformat": 4,
 "nbformat_minor": 5
}
