{
 "cells": [
  {
   "cell_type": "markdown",
   "id": "81772941",
   "metadata": {},
   "source": "# 使用ガイド\n\nこのセクションでは、OMMX Quantum Benchmarksを通じて利用可能な量子最適化ベンチマークデータセットの操作に関する詳細情報を提供します。\n\n## 概要\n\nOMMX Quantum Benchmarksは、OMMX形式に変換された最適化ベンチマークデータセットへのアクセスを提供します。現在、QOBLIBリポジトリから選択されたデータセットを含んでおり、追加のベンチマークソースへの拡張を予定しています。利用可能なデータセットは一貫したインターフェースパターンに従っています：\n\n1. **データセットクラス**：各問題カテゴリには独自のクラスがあります（例：`Marketsplit`、`Labs`、`Portfolio`）\n2. **モデルタイプ**：各データセットは異なるモデル定式化をサポートしています（例：バイナリ線形、二次制約なし）\n3. **インスタンス読み込み**：データセット呼び出しインターフェースを使用して特定の問題インスタンスにアクセスします\n\n## 主要な概念\n\n### データセット\nデータセットは、関連する最適化問題のコレクションを表します。各データセットには以下があります：\n- 固有の名前と説明\n- 複数のモデル定式化\n- 各モデルの利用可能なインスタンス\n- 標準化されたアクセスメソッド\n\n### モデル\n同じ問題タイプの異なる数学的定式化：\n- **バイナリ線形**：線形制約を持つバイナリ変数\n- **バイナリ制約なし**：制約のないバイナリ変数\n- **整数線形**：線形制約を持つ整数変数\n- **二次制約なし**：制約のない二次目的関数\n- **混合整数線形**：連続変数と整数変数の混合\n\n### インスタンス\nデータセット内の特定の問題インスタンス、それぞれに以下があります：\n- 固有の識別子（インスタンス名）\n- OMMX形式の問題データ\n- オプションの最適解または既知の解\n\n## データセットの操作\n\n### 基本的なデータセット情報"
  },
  {
   "cell_type": "code",
   "execution_count": 1,
   "id": "0f05af79",
   "metadata": {},
   "outputs": [
    {
     "name": "stdout",
     "output_type": "stream",
     "text": [
      "Name: 02_labs\n",
      "Models: ['integer', 'quadratic_unconstrained']\n",
      "Description: Labs dataset in ommx format, originally provided by https://git.zib.de/qopt/qoblib-quantum-optimization-benchmarking-library/-/tree/main/02-labs?ref_type=heads.\n"
     ]
    }
   ],
   "source": [
    "from ommx_quantum_benchmarks.qoblib import Labs\n",
    "\n",
    "dataset = Labs()\n",
    "print(f\"Name: {dataset.name}\")\n",
    "print(f\"Models: {dataset.model_names}\")  \n",
    "print(f\"Description: {dataset.description}\")"
   ]
  },
  {
   "cell_type": "markdown",
   "id": "d8b93842",
   "metadata": {},
   "source": "### 利用可能なインスタンスの探索"
  },
  {
   "cell_type": "code",
   "execution_count": 2,
   "id": "cb34756a",
   "metadata": {},
   "outputs": [
    {
     "name": "stdout",
     "output_type": "stream",
     "text": [
      "integer: 99 instances\n",
      "  - labs002\n",
      "  - labs003\n",
      "  - labs004\n",
      "quadratic_unconstrained: 99 instances\n",
      "  - labs002\n",
      "  - labs003\n",
      "  - labs004\n",
      "Instance found!\n"
     ]
    }
   ],
   "source": [
    "# Get all available instances\n",
    "for model, instances in dataset.available_instances.items():\n",
    "    print(f\"{model}: {len(instances)} instances\")\n",
    "    for instance in instances[:3]:  # Show first 3 instances for brevity\n",
    "        print(f\"  - {instance}\")\n",
    "    \n",
    "# Check if specific instance exists\n",
    "model_name = \"integer\"\n",
    "instance_name = \"labs002\"\n",
    "if instance_name in dataset.available_instances[model_name]:\n",
    "    print(\"Instance found!\")"
   ]
  },
  {
   "cell_type": "markdown",
   "id": "aeaf2d1e",
   "metadata": {},
   "source": "### インスタンスと解の読み込み"
  },
  {
   "cell_type": "code",
   "execution_count": 3,
   "id": "b04477c4",
   "metadata": {},
   "outputs": [
    {
     "name": "stdout",
     "output_type": "stream",
     "text": [
      "Solution objective: 1.0\n",
      "Solution feasible: True\n"
     ]
    }
   ],
   "source": [
    "# Load instance and solution\n",
    "instance, solution = dataset(model_name, instance_name)\n",
    "\n",
    "# Check if solution is available\n",
    "if solution is not None:\n",
    "    print(f\"Solution objective: {solution.objective}\")\n",
    "    print(f\"Solution feasible: {solution.feasible}\")\n",
    "else:\n",
    "    print(\"No solution available for this instance\")"
   ]
  },
  {
   "cell_type": "markdown",
   "id": "428e3100",
   "metadata": {},
   "source": "## 次のトピック\n\n- [QOBLIBデータセット](qoblib.ipynb) - 各データセットに関する詳細情報"
  }
 ],
 "metadata": {
  "jupytext": {
   "cell_metadata_filter": "-all",
   "main_language": "python",
   "notebook_metadata_filter": "-all"
  },
  "kernelspec": {
   "display_name": "ommx-oblib",
   "language": "python",
   "name": "python3"
  },
  "language_info": {
   "codemirror_mode": {
    "name": "ipython",
    "version": 3
   },
   "file_extension": ".py",
   "mimetype": "text/x-python",
   "name": "python",
   "nbconvert_exporter": "python",
   "pygments_lexer": "ipython3",
   "version": "3.10.18"
  }
 },
 "nbformat": 4,
 "nbformat_minor": 5
}