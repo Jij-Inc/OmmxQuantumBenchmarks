{
 "cells": [
  {
   "cell_type": "markdown",
   "id": "c1f5f8b4",
   "metadata": {},
   "source": "# リリースノート\n\n## バージョン 0.1.0\n\n**初回リリース - QOBLIBデータセットコレクション**\n\n### 概要\nこの初回リリースでは、OMMX Quantum BenchmarksをOMMX形式の最適化ベンチマークデータセットのコレクションとして確立します。最初のコレクションには、[QOBLIB（Quantum Optimization Benchmarking Library）](https://git.zib.de/qopt/qoblib-quantum-optimization-benchmarking-library)から選択されたデータセットが含まれています。\n\n**範囲**: このリリースはQOBLIBデータセットに焦点を当てており、将来のリリースで追加のベンチマークソースに対応するためのフレームワークが設計されています。\n\n### 機能\n- 量子最適化ベンチマークデータセットにアクセスするためのPython API\n- OMMX形式の変換と標準化\n- 分散データアクセスのためのGitHub Container Registry統合\n- 全データセットカテゴリにわたる一貫したインターフェース\n\n### 現在利用可能なデータ\n**QOBLIBコレクションから**:\n- **Labs** (02): 整数および二次制約なし定式化による99インスタンス\n- **Birkhoff** (03): 整数線形定式化による800インスタンス\n- **Steiner** (04): 整数線形定式化による31インスタンス\n- **Topology** (10): フローMIP、Seidel線形、Seidel二次定式化による16インスタンス\n\n### 帰属\n変換されたすべてのデータは、Thorsten Koch、David E. Bernal Neira、および同僚によって作成された元のQOBLIBリポジトリから派生しており、CC BY 4.0ライセンスの下で提供されています。"
  }
 ],
 "metadata": {
  "kernelspec": {
   "display_name": "Python 3 (ipykernel)",
   "language": "python",
   "name": "python3"
  },
  "language_info": {
   "codemirror_mode": {
    "name": "ipython",
    "version": 3
   },
   "file_extension": ".py",
   "mimetype": "text/x-python",
   "name": "python",
   "nbconvert_exporter": "python",
   "pygments_lexer": "ipython3",
   "version": "3.9.7"
  }
 },
 "nbformat": 4,
 "nbformat_minor": 5
}