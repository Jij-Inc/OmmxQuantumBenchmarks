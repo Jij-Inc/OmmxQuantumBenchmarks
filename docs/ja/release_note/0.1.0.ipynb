{
 "cells": [
  {
   "cell_type": "markdown",
   "id": "8ecdc601",
   "metadata": {},
   "source": "# リリースノート\n\n## バージョン 0.1.0\n\n**初回リリース - QOBLIBデータセットコレクション**\n\n### 概要\nこの初回リリースでは、OMMX Quantum BenchmarksをOMMX形式の最適化ベンチマークデータセットのコレクションとして確立します。最初のコレクションには、[QOBLIB (Quantum Optimization Benchmarking Library)](https://git.zib.de/qopt/qoblib-quantum-optimization-benchmarking-library)から選択されたデータセットが含まれています。\n\n**範囲**：このリリースはQOBLIBデータセットに焦点を当てており、将来のリリースで追加のベンチマークソースに対応できるようフレームワークが設計されています。\n\n### 機能\n- 量子最適化ベンチマークデータセットにアクセスするためのPython API\n- OMMX形式への変換と標準化\n- 分散データアクセスのためのGitHub Container Registry統合\n- 全てのデータセットカテゴリにわたる一貫したインターフェース\n- 使用ガイドとサンプルを含む包括的なドキュメント\n- 日英両言語のドキュメント\n\n### ドキュメント\n- **クイックスタートガイド**：インストール手順と基本的な使用例\n- **使用ガイド**： \n  - QOBLIBコレクションとデータセットアクセスパターン\n- **サンプル**： \n  - QOBLIBとSCIPソルバーの統合\n- **APIリファレンス**：Python APIの完全なドキュメント\n\n### 現在利用可能なデータ\n**QOBLIBコレクションから**：\n- **Marketsplit** (01)：バイナリ線形とバイナリ制約なし定式化用にモデルごとに120インスタンス\n- **Labs** (02)：整数と二次制約なし定式化用にモデルごとに99インスタンス\n- **Birkhoff** (03)：整数線形定式化で800インスタンス\n- **Steiner** (04)：整数線形定式化で31インスタンス\n- **Independent Set** (07)：バイナリ線形とバイナリ制約なし定式化用にモデルごとに42インスタンス\n- **Network** (08)：整数LP定式化で20インスタンス\n- **Routing** (09)：整数線形定式化で55インスタンス\n- **Topology** (10)：フローMIP、Seidel線形、Seidel二次定式化用にモデルごとに16インスタンス\n\n**将来の拡張のためにフレームワークが定義済み**：\n- **Sports** (05)：混合整数線形スポーツスケジューリング問題\n- **Portfolio** (06)：バイナリ二次および二次制約なしポートフォリオ最適化\n\n### 帰属表示\n変換された全てのデータは、CC BY 4.0ライセンスの下、Thorsten Koch、David E. Bernal Neira、Ying Chen、Giorgio Cortiana、Daniel J. Egger、Raoul Heese、Narendra N. Hegade、Alejandro Gomez Cadavid、Rhea Huang、Toshinari Itoko、Thomas Kleinert、Pedro Maciel Xavier、Naeimeh Mohseni、Jhon A. Montanez-Barrera、Koji Nakano、Giacomo Nannicini、Corey O'Meara、Justin Pauckert、Manuel Proissl、Anurag Ramesh、Maximilian Schicker、Noriaki Shimada、Mitsuharu Takeori、Victor Valls、David Van Bulck、Stefan Woerner、Christa Zoufalによって作成された元のQOBLIBリポジトリから派生しています。"
  }
 ],
 "metadata": {
  "jupytext": {
   "cell_metadata_filter": "-all",
   "main_language": "python",
   "notebook_metadata_filter": "-all"
  },
  "language_info": {
   "name": "python"
  }
 },
 "nbformat": 4,
 "nbformat_minor": 5
}