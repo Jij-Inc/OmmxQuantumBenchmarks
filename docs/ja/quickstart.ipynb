{
 "cells": [
  {
   "cell_type": "markdown",
   "id": "cell-0",
   "metadata": {},
   "source": [
    "# クイックスタートガイド\n",
    "\n",
    "このガイドでは、OMMX形式で量子最適化ベンチマークデータセットへの標準化されたアクセスを提供するOMMX Quantum Benchmarksの使い始めをお手伝いします。"
   ]
  },
  {
   "cell_type": "markdown",
   "id": "cell-1",
   "metadata": {},
   "source": [
    "## インストール\n",
    "\n",
    "このパッケージは現在開発中でまだPyPIに公開されていないため、GitHubリポジトリから直接インストールしてください：\n",
    "\n",
    "```bash\n",
    "# リポジトリをクローン\n",
    "git clone https://github.com/Jij-Inc/OMMX-OBLIB.git\n",
    "cd OMMX-OBLIB\n",
    "\n",
    "# pip で開発モードでインストール\n",
    "pip install -e .\n",
    "\n",
    "# または uv で開発モードでインストール\n",
    "uv pip install -e .\n",
    "```\n",
    "\n",
    "別の方法として、クローンせずにGitHubから直接インストールすることもできます：\n",
    "\n",
    "```bash\n",
    "# pip を使用\n",
    "pip install git+https://github.com/Jij-Inc/OMMX-OBLIB.git\n",
    "\n",
    "# uv を使用\n",
    "uv pip install git+https://github.com/Jij-Inc/OMMX-OBLIB.git\n",
    "```"
   ]
  },
  {
   "cell_type": "markdown",
   "id": "cell-2",
   "metadata": {},
   "source": "## 基本的な使用方法\n\nMarketsplitデータセットを使用したシンプルな例から始めましょう："
  },
  {
   "cell_type": "code",
   "execution_count": null,
   "id": "cell-3",
   "metadata": {},
   "outputs": [],
   "source": "from ommx_quantum_benchmarks.qoblib import Marketsplit\n\n# Create a dataset instance\ndataset = Marketsplit()\n\n# Check basic properties\nprint(f\"Dataset name: {dataset.name}\")\nprint(f\"Available models: {dataset.model_names}\")\nprint(f\"Description: {dataset.description}\")"
  },
  {
   "cell_type": "markdown",
   "id": "cell-4",
   "metadata": {},
   "source": "## インスタンスの読み込み\n\n各データセットは複数のインスタンスを含んでいます。特定のインスタンスを読み込んでみましょう："
  },
  {
   "cell_type": "code",
   "execution_count": null,
   "id": "cell-5",
   "metadata": {},
   "outputs": [],
   "source": "# Choose a model and instance\nmodel_name = \"binary_linear\"\ninstance_name = \"ms_03_050_002\"\n\n# Load the instance and solution\ninstance, solution = dataset(model_name, instance_name)\n\nprint(f\"Loaded instance: {instance_name}\")\nprint(f\"Instance type: {type(instance)}\")\nprint(f\"Solution type: {type(solution)}\")"
  },
  {
   "cell_type": "markdown",
   "id": "cell-6",
   "metadata": {},
   "source": "## ソリューションの操作\n\nOMMX Quantum Benchmarksは多くのインスタンスに対してソリューションを提供しています。これらのソリューションを評価し、操作することができます："
  },
  {
   "cell_type": "code",
   "execution_count": null,
   "id": "cell-7",
   "metadata": {},
   "outputs": [],
   "source": "if solution is not None:\n    # Evaluate the solution using the instance\n    evaluated_solution = instance.evaluate(solution.state)\n    \n    print(f\"Original solution objective: {solution.objective}\")\n    print(f\"Evaluated solution objective: {evaluated_solution.objective}\")\n    print(f\"Solution is feasible: {evaluated_solution.feasible}\")\n    \n    # Check if the solutions match\n    objectives_match = solution.objective == evaluated_solution.objective\n    feasibility_matches = solution.feasible == evaluated_solution.feasible\n    \n    print(f\"Objectives match: {objectives_match}\")\n    print(f\"Feasibility matches: {feasibility_matches}\")\nelse:\n    print(\"No solution available for this instance\")"
  },
  {
   "cell_type": "markdown",
   "id": "cell-8",
   "metadata": {},
   "source": "## 利用可能なインスタンスの探索\n\n各データセットは異なるモデルに対して異なる利用可能なインスタンスを持っています："
  },
  {
   "cell_type": "code",
   "execution_count": null,
   "id": "cell-9",
   "metadata": {},
   "outputs": [],
   "source": "# Check available instances for each model\nfor model, instances in dataset.available_instances.items():\n    print(f\"Model '{model}' has {len(instances)} instances:\")\n    # Show first 5 instances as example\n    for instance in instances[:5]:\n        print(f\"  - {instance}\")\n    if len(instances) > 5:\n        print(f\"  ... and {len(instances) - 5} more\")\n    print()"
  },
  {
   "cell_type": "markdown",
   "id": "cell-10",
   "metadata": {},
   "source": "## 異なるデータセットの操作\n\nOMMX Quantum Benchmarksは複数の最適化問題カテゴリへのアクセスを提供します："
  },
  {
   "cell_type": "code",
   "execution_count": null,
   "id": "cell-11",
   "metadata": {},
   "outputs": [],
   "source": "from ommx_quantum_benchmarks.qoblib import (\n    Marketsplit, Labs, Portfolio, IndependentSet, Topology\n)\n\n# Create instances of different datasets\ndatasets = {\n    \"Marketsplit\": Marketsplit(),\n    \"Labs\": Labs(),\n    \"Portfolio\": Portfolio(),\n    \"IndependentSet\": IndependentSet(),\n    \"Topology\": Topology()\n}\n\n# Display information about each dataset\nfor name, ds in datasets.items():\n    print(f\"{name}:\")\n    print(f\"  Name: {ds.name}\")\n    print(f\"  Models: {ds.model_names}\")\n    total_instances = sum(len(instances) for instances in ds.available_instances.values())\n    print(f\"  Total instances: {total_instances}\")\n    print()"
  },
  {
   "cell_type": "markdown",
   "id": "cell-12",
   "metadata": {},
   "source": [
    "## 次のステップ\n",
    "\n",
    "基本を学んだので、次のことができます：\n",
    "\n",
    "1. **[使用ガイド](tutorial/usage/index_usage.ipynb)を探索する** - データセットとインスタンスの操作に関する詳細情報\n",
    "2. **[例](tutorial/examples/index_examples.ipynb)をチェックする** - 異なる問題タイプの実践的な使用例\n",
    "3. **[API リファレンス](autoapi/index)を参照する** - 利用可能なすべてのクラスとメソッドの完全なドキュメント\n",
    "\n",
    "OMMX Quantum Benchmarks で最適化を楽しんでください！"
   ]
  }
 ],
 "metadata": {
  "kernelspec": {
   "display_name": "Python 3 (ipykernel)",
   "language": "python",
   "name": "python3"
  },
  "language_info": {
   "codemirror_mode": {
    "name": "ipython",
    "version": 3
   },
   "file_extension": ".py",
   "mimetype": "text/x-python",
   "name": "python",
   "nbconvert_exporter": "python",
   "pygments_lexer": "ipython3",
   "version": "3.9.7"
  }
 },
 "nbformat": 4,
 "nbformat_minor": 5
}