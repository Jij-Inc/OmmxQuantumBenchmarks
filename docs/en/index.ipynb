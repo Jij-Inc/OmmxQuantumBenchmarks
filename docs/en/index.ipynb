{
 "cells": [
  {
   "cell_type": "markdown",
   "id": "39b4f064",
   "metadata": {},
   "source": [
    "# Welcome to OMMX Quantum Benchmarks\n",
    "\n",
    "OMMX Quantum Benchmarks provides access to quantum optimization benchmark datasets in [OMMX](https://jij-inc.github.io/ommx/en/introduction.html) format for easier integration with quantum and classical optimization workflows.\n",
    "\n",
    "## About This Project\n",
    "\n",
    "This repository collects optimization benchmark datasets and converts them to OMMX (Optimization Model Exchange) format. Currently, the collection includes selected datasets from [QOBLIB (Quantum Optimization Benchmarking Library)](https://git.zib.de/qopt/qoblib-quantum-optimization-benchmarking-library), with plans to expand to additional benchmark sources in the future.\n",
    "\n",
    "**Current Status**: The initial release focuses on converting datasets from QOBLIB. Additional benchmark collections may be added in future releases.\n",
    "\n",
    "## What's Included\n",
    "\n",
    "- **Benchmark Collection**: Quantum optimization datasets converted to OMMX format\n",
    "- **Python API**: Simple interface for accessing benchmark instances\n",
    "- **GitHub Container Registry**: Distributed storage for easy access\n",
    "\n",
    "## Currently Available Datasets\n",
    "\n",
    "### From QOBLIB Collection\n",
    "\n",
    "**Available with instances**:\n",
    "- **Market Split** (`01_marketsplit`) - 160+ instances across binary linear and unconstrained models\n",
    "- **Labs** (`02_labs`) - 99 instances for integer and quadratic unconstrained models\n",
    "\n",
    "**Framework defined for future expansion**:\n",
    "- Birkhoff, Steiner, Sports, Portfolio, Independent Set, Network, Routing, and Topology categories are implemented but may not contain instances yet\n",
    "\n",
    "**Note**: You can check current instance availability for any dataset using the `available_instances` property.\n",
    "\n",
    "### Future Benchmark Sources\n",
    "\n",
    "The framework is designed to accommodate additional benchmark collections beyond QOBLIB as they become available.\n",
    "\n",
    "## Quick Start\n",
    "\n",
    "To get started with OMMX Quantum Benchmarks, please see the [Quick Start Guide](quickstart.ipynb) for installation instructions and basic usage examples.\n",
    "\n",
    "## Learn More\n",
    "\n",
    "Explore our documentation to dive deeper into the benchmark collection capabilities:\n",
    "\n",
    "- [Quick Start Guide](quickstart.ipynb): Installation and basic usage examples\n",
    "- [Usage Guide](tutorial/usage/index_usage.md): Detailed information on working with datasets and instances\n",
    "- [Examples](tutorial/examples/index_examples.md): Practical examples for different problem types\n",
    "- [API Reference](autoapi/index.md): Complete documentation of the Python API\n",
    "\n",
    "## Installation\n",
    "\n",
    "Since this package is currently in development and not yet published on PyPI, please install directly from the GitHub repository:"
   ]
  },
  {
   "cell_type": "code",
   "execution_count": null,
   "id": "83149a22",
   "metadata": {},
   "outputs": [],
   "source": [
    "# Clone the repository\n",
    "git clone https://github.com/Jij-Inc/OMMX-OBLIB.git\n",
    "cd OMMX-OBLIB\n",
    "\n",
    "# Install in development mode with pip\n",
    "pip install -e .\n",
    "\n",
    "# Or install in development mode with uv\n",
    "uv pip install -e ."
   ]
  },
  {
   "cell_type": "markdown",
   "id": "a01e6a27",
   "metadata": {},
   "source": [
    "Alternatively, you can install directly from GitHub without cloning:"
   ]
  },
  {
   "cell_type": "code",
   "execution_count": null,
   "id": "1be22846",
   "metadata": {},
   "outputs": [],
   "source": [
    "# Using pip\n",
    "pip install git+https://github.com/Jij-Inc/OMMX-OBLIB.git\n",
    "\n",
    "# Using uv\n",
    "uv pip install git+https://github.com/Jij-Inc/OMMX-OBLIB.git"
   ]
  },
  {
   "cell_type": "markdown",
   "id": "7aeae262",
   "metadata": {},
   "source": [
    "## Basic Usage"
   ]
  },
  {
   "cell_type": "code",
   "execution_count": null,
   "id": "1c30ac64",
   "metadata": {},
   "outputs": [],
   "source": [
    "%%python\n",
    "from ommx_quantum_benchmarks.qoblib import Marketsplit\n",
    "\n",
    "# Load a dataset\n",
    "dataset = Marketsplit()\n",
    "\n",
    "# Get an instance and solution\n",
    "model_name = \"binary_linear\"\n",
    "instance_name = \"ms_03_050_002\"\n",
    "instance, solution = dataset(model_name, instance_name)\n",
    "\n",
    "# Evaluate the solution\n",
    "evaluated_solution = instance.evaluate(solution.state)\n",
    "print(f\"Objective value: {evaluated_solution.objective}\")\n",
    "print(f\"Feasible: {evaluated_solution.feasible}\")"
   ]
  },
  {
   "cell_type": "markdown",
   "id": "4237c03a",
   "metadata": {},
   "source": [
    "## Attribution\n",
    "\n",
    "This project includes data derived from [QOBLIB - Quantum Optimization Benchmarking Library](https://git.zib.de/qopt/qoblib-quantum-optimization-benchmarking-library):\n",
    "- **Original authors**: Thorsten Koch, David E. Bernal Neira, Ying Chen, Giorgio Cortiana, Daniel J. Egger, Raoul Heese, Narendra N. Hegade, Alejandro Gomez Cadavid, Rhea Huang, Toshinari Itoko, Thomas Kleinert, Pedro Maciel Xavier, Naeimeh Mohseni, Jhon A. Montanez-Barrera, Koji Nakano, Giacomo Nannicini, Corey O'Meara, Justin Pauckert, Manuel Proissl, Anurag Ramesh, Maximilian Schicker, Noriaki Shimada, Mitsuharu Takeori, Victor Valls, David Van Bulck, Stefan Woerner, and Christa Zoufal.\n",
    "- **License**: CC BY 4.0\n",
    "\n",
    "The instance data has been converted to OMMX format with additional modifications as needed.\n",
    "\n",
    "## Support\n",
    "\n",
    "For issues with the benchmark datasets or OMMX Quantum Benchmarks library, please file an issue on our [GitHub repository](https://github.com/Jij-Inc/OmmxQuantumBenchmarks).\n",
    "\n",
    "For questions about the original datasets or problem formulations, please refer to the respective source repositories (e.g., [original QOBLIB repository](https://git.zib.de/qopt/qoblib-quantum-optimization-benchmarking-library) for QOBLIB-derived datasets)."
   ]
  }
 ],
 "metadata": {
  "jupytext": {
   "cell_metadata_filter": "-all",
   "main_language": "bash",
   "notebook_metadata_filter": "-all"
  }
 },
 "nbformat": 4,
 "nbformat_minor": 5
}
