{
 "cells": [
  {
   "cell_type": "markdown",
   "id": "39b4f064",
   "metadata": {},
   "source": [
    "# Welcome to OMMX Quantum Benchmarks\n",
    "\n",
    "OMMX Quantum Benchmarks provides access to quantum optimization benchmark datasets in [OMMX](https://jij-inc.github.io/ommx/en/introduction.html) format for easier integration with quantum and classical optimization workflows.\n",
    "\n",
    "## About This Project\n",
    "\n",
    "This repository collects optimization benchmark datasets and converts them to OMMX (Open Mathematical prograMming eXchange) format. Currently, the collection includes selected datasets from [QOBLIB (Quantum Optimization Benchmarking Library)](https://git.zib.de/qopt/qoblib-quantum-optimization-benchmarking-library), with plans to expand to additional benchmark sources in the future.\n",
    "\n",
    "**Current Status**: The initial release focuses on converting datasets from QOBLIB. Additional benchmark collections may be added in future releases.\n",
    "\n",
    "## What's Included\n",
    "\n",
    "- **Benchmark Collection**: Quantum optimization datasets converted to OMMX format\n",
    "- **Python API**: Simple interface for accessing benchmark instances\n",
    "- **GitHub Container Registry**: Distributed storage for easy access"
   ]
  },
  {
   "cell_type": "markdown",
   "id": "4e55c668",
   "metadata": {},
   "source": [
    "## Currently Available Datasets"
   ]
  },
  {
   "cell_type": "markdown",
   "id": "fd1418d9",
   "metadata": {},
   "source": [
    "### QOBLIB Collection\n",
    "\n",
    "**Available with instances**:\n",
    "- **Marketsplit** (`01_marketsplit`) - 120 instances per model for binary linear and binary unconstrained models\n",
    "- **Labs** (`02_labs`) - 99 instances per model for integer and quadratic unconstrained models\n",
    "- **Birkhoff** (`03_birkhoff`) - 800 instances for integer linear models\n",
    "- **Steiner** (`04_steiner`) - 31 instances for integer linear models\n",
    "- **Independent Set** (`07_independentset`) - 42 instances per model for binary linear and binary unconstrained models\n",
    "- **Network** (`08_network`) - 20 instances for integer LP models\n",
    "- **Routing** (`09_routing`) - 55 instances for integer linear models\n",
    "- **Topology** (`10_topology`) - 16 instances per model for flow MIP, Seidel linear, and Seidel quadratic models\n",
    "\n",
    "**Framework defined for future expansion**:\n",
    "- **Sports** (`05_sports`) - Mixed integer linear sports scheduling problems\n",
    "- **Portfolio** (`06_portfolio`) - Binary quadratic and quadratic unconstrained portfolio optimization\n",
    "\n",
    "**Note**: You can check current instance availability for any dataset using the `available_instances` property.\n",
    "\n",
    "#### Attribution\n",
    "\n",
    "This project includes data derived from [QOBLIB - Quantum Optimization Benchmarking Library](https://git.zib.de/qopt/qoblib-quantum-optimization-benchmarking-library):\n",
    "- **Original authors**: Thorsten Koch, David E. Bernal Neira, Ying Chen, Giorgio Cortiana, Daniel J. Egger, Raoul Heese, Narendra N. Hegade, Alejandro Gomez Cadavid, Rhea Huang, Toshinari Itoko, Thomas Kleinert, Pedro Maciel Xavier, Naeimeh Mohseni, Jhon A. Montanez-Barrera, Koji Nakano, Giacomo Nannicini, Corey O'Meara, Justin Pauckert, Manuel Proissl, Anurag Ramesh, Maximilian Schicker, Noriaki Shimada, Mitsuharu Takeori, Victor Valls, David Van Bulck, Stefan Woerner, and Christa Zoufal.\n",
    "- **License**: CC BY 4.0\n",
    "\n",
    "The instance data has been converted to OMMX format with additional modifications as needed.\n",
    "\n",
    "#### Support\n",
    "\n",
    "For issues with the benchmark datasets or OMMX Quantum Benchmarks library, please file an issue on our [GitHub repository](https://github.com/Jij-Inc/OMMX-OBLIB).\n",
    "\n",
    "For questions about the original datasets or problem formulations, refer to the respective source repositories (e.g., [original QOBLIB repository](https://git.zib.de/qopt/qoblib-quantum-optimization-benchmarking-library) for QOBLIB-derived datasets)."
   ]
  },
  {
   "cell_type": "markdown",
   "id": "a70d1ea6",
   "metadata": {},
   "source": [
    "## Quick Start\n",
    "\n",
    "To get started with OMMX Quantum Benchmarks, see the [Quick Start Guide](quickstart.ipynb) for installation instructions and basic usage examples.\n",
    "\n",
    "## Installation\n",
    "\n",
    "Install this package through pip!\n",
    "\n",
    "```bash\n",
    "# Using uv\n",
    "uv pip install git+https://github.com/Jij-Inc/OmmxQuantumBenchmarks.git\n",
    "\n",
    "# Using pip\n",
    "pip install ommx_quantum_benchmarks\n",
    "```\n",
    "\n",
    "Or, you can install it from github, which is arguably the latest version:\n",
    "\n",
    "```bash\n",
    "# Using uv\n",
    "uv pip install git+https://github.com/Jij-Inc/OmmxQuantumBenchmarks.git\n",
    "\n",
    "# Using pip\n",
    "pip install git+https://github.com/Jij-Inc/OmmxQuantumBenchmarks.git\n",
    "```\n",
    "\n",
    "## Learn More\n",
    "\n",
    "Explore our documentation to learn more about the benchmark collection capabilities:\n",
    "\n",
    "- [Quick Start Guide](quickstart.ipynb): Installation and basic usage examples\n",
    "- [Usage Guide](tutorial/usage/index_usage.ipynb): Detailed information on working with datasets and instances\n",
    "- [Examples](tutorial/examples/index_examples.ipynb): Practical examples for different problem types\n",
    "- [API Reference](autoapi/index): Complete documentation of the Python API"
   ]
  },
  {
   "cell_type": "markdown",
   "id": "2b550407",
   "metadata": {},
   "source": []
  }
 ],
 "metadata": {
  "jupytext": {
   "cell_metadata_filter": "-all",
   "main_language": "bash",
   "notebook_metadata_filter": "-all"
  },
  "kernelspec": {
   "display_name": "ommx-oblib",
   "language": "python",
   "name": "python3"
  },
  "language_info": {
   "codemirror_mode": {
    "name": "ipython",
    "version": 3
   },
   "file_extension": ".py",
   "mimetype": "text/x-python",
   "name": "python",
   "nbconvert_exporter": "python",
   "pygments_lexer": "ipython3",
   "version": "3.10.18"
  }
 },
 "nbformat": 4,
 "nbformat_minor": 5
}
