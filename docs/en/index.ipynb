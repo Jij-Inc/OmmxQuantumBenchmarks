{
 "cells": [
  {
   "cell_type": "markdown",
   "id": "39b4f064",
   "metadata": {},
   "source": "# Welcome to OMMX Quantum Benchmarks\n\nOMMX Quantum Benchmarks provides access to quantum optimization benchmark datasets in [OMMX](https://jij-inc.github.io/ommx/en/introduction.html) format for easier integration with quantum and classical optimization workflows.\n\n## About This Project\n\nThis repository collects optimization benchmark datasets and converts them to OMMX (Open Mathematical prograMming eXchange) format. Currently, the collection includes selected datasets from [QOBLIB (Quantum Optimization Benchmarking Library)](https://git.zib.de/qopt/qoblib-quantum-optimization-benchmarking-library), with plans to expand to additional benchmark sources in the future.\n\n**Current Status**: The initial release focuses on converting datasets from QOBLIB. Additional benchmark collections may be added in future releases.\n\n## What's Included\n\n- **Benchmark Collection**: Quantum optimization datasets converted to OMMX format\n- **Python API**: Simple interface for accessing benchmark instances\n- **GitHub Container Registry**: Distributed storage for easy access\n\n## Currently Available Datasets\n\n### From QOBLIB Collection\n\n**Available with instances**:\n- **Market Split** (`01_marketsplit`) - 160+ instances across binary linear and unconstrained models\n- **Labs** (`02_labs`) - 99 instances for integer and quadratic unconstrained models\n\n**Framework defined for future expansion**:\n- Birkhoff, Steiner, Sports, Portfolio, Independent Set, Network, Routing, and Topology categories are implemented but do not contain instances yet\n\n**Note**: You can check current instance availability for any dataset using the `available_instances` property.\n\n### Future Benchmark Sources\n\nThe framework is designed to accommodate additional benchmark collections beyond QOBLIB as they become available.\n\n## Quick Start\n\nTo get started with OMMX Quantum Benchmarks, see the [Quick Start Guide](quickstart.ipynb) for installation instructions and basic usage examples.\n\n## Learn More\n\nExplore our documentation to learn more about the benchmark collection capabilities:\n\n- [Quick Start Guide](quickstart.ipynb): Installation and basic usage examples\n- [Usage Guide](tutorial/usage/index_usage.ipynb): Detailed information on working with datasets and instances\n- [Examples](tutorial/examples/index_examples.ipynb): Practical examples for different problem types\n- [API Reference](autoapi/index): Complete documentation of the Python API\n\n## Installation\n\nSince this package is currently in development and not yet published on PyPI, install directly from the GitHub repository:\n\n```bash\n# Clone the repository\ngit clone https://github.com/Jij-Inc/OMMX-OBLIB.git\ncd OMMX-OBLIB\n\n# Install in development mode with pip\npip install -e .\n\n# Or install in development mode with uv\nuv pip install -e .\n```\n\nAlternatively, you can install directly from GitHub without cloning:\n\n```bash\n# Using pip\npip install git+https://github.com/Jij-Inc/OMMX-OBLIB.git\n\n# Using uv\nuv pip install git+https://github.com/Jij-Inc/OMMX-OBLIB.git\n```"
  },
  {
   "cell_type": "markdown",
   "id": "7aeae262",
   "metadata": {},
   "source": [
    "## Basic Usage"
   ]
  },
  {
   "cell_type": "code",
   "execution_count": null,
   "id": "1c30ac64",
   "metadata": {},
   "outputs": [],
   "source": [
    "from ommx_quantum_benchmarks.qoblib import Marketsplit\n",
    "\n",
    "# Load a dataset\n",
    "dataset = Marketsplit()\n",
    "\n",
    "# Get an instance and solution\n",
    "model_name = \"binary_linear\"\n",
    "instance_name = \"ms_03_050_002\"\n",
    "instance, solution = dataset(model_name, instance_name)\n",
    "\n",
    "# Evaluate the solution\n",
    "evaluated_solution = instance.evaluate(solution.state)\n",
    "print(f\"Objective value: {evaluated_solution.objective}\")\n",
    "print(f\"Feasible: {evaluated_solution.feasible}\")"
   ]
  },
  {
   "cell_type": "markdown",
   "id": "4237c03a",
   "metadata": {},
   "source": "## Attribution\n\nThis project includes data derived from [QOBLIB - Quantum Optimization Benchmarking Library](https://git.zib.de/qopt/qoblib-quantum-optimization-benchmarking-library):\n- **Original authors**: Thorsten Koch, David E. Bernal Neira, Ying Chen, Giorgio Cortiana, Daniel J. Egger, Raoul Heese, Narendra N. Hegade, Alejandro Gomez Cadavid, Rhea Huang, Toshinari Itoko, Thomas Kleinert, Pedro Maciel Xavier, Naeimeh Mohseni, Jhon A. Montanez-Barrera, Koji Nakano, Giacomo Nannicini, Corey O'Meara, Justin Pauckert, Manuel Proissl, Anurag Ramesh, Maximilian Schicker, Noriaki Shimada, Mitsuharu Takeori, Victor Valls, David Van Bulck, Stefan Woerner, and Christa Zoufal.\n- **License**: CC BY 4.0\n\nThe instance data has been converted to OMMX format with additional modifications as needed.\n\n## Support\n\nFor issues with the benchmark datasets or OMMX Quantum Benchmarks library, please file an issue on our [GitHub repository](https://github.com/Jij-Inc/OMMX-OBLIB).\n\nFor questions about the original datasets or problem formulations, refer to the respective source repositories (e.g., [original QOBLIB repository](https://git.zib.de/qopt/qoblib-quantum-optimization-benchmarking-library) for QOBLIB-derived datasets)."
  }
 ],
 "metadata": {
  "jupytext": {
   "cell_metadata_filter": "-all",
   "main_language": "bash",
   "notebook_metadata_filter": "-all"
  },
  "kernelspec": {
   "display_name": "ommx-oblib",
   "language": "python",
   "name": "python3"
  },
  "language_info": {
   "name": "python",
   "version": "3.10.18"
  }
 },
 "nbformat": 4,
 "nbformat_minor": 5
}