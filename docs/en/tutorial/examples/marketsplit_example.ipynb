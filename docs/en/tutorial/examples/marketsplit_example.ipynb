{
 "cells": [
  {
   "cell_type": "markdown",
   "id": "d4e5097a",
   "metadata": {},
   "source": [
    "# Dataset Usage Example (using Marketsplit)\n",
    "\n",
    "This example demonstrates how to work with datasets in OMMX Quantum Benchmarks using Marketsplit as a representative case.\n",
    "\n",
    "**Important**: The patterns shown here apply to ALL datasets in the collection (Labs, Portfolio, Topology, etc.). Simply replace `Marketsplit` with any other dataset class name - the API is identical across all datasets.\n",
    "\n",
    "## Dataset Overview"
   ]
  },
  {
   "cell_type": "code",
   "execution_count": 2,
   "id": "28d76b55",
   "metadata": {},
   "outputs": [
    {
     "name": "stdout",
     "output_type": "stream",
     "text": [
      "Dataset: 01_marketsplit\n",
      "Description: Marketsplit dataset in ommx format, originally provided by https://git.zib.de/qopt/qoblib-quantum-optimization-benchmarking-library/-/tree/main/01-marketsplit?ref_type=heads.\n",
      "Available models: ['binary_linear', 'binary_unconstrained']\n",
      "binary_linear: 156 instances\n",
      "binary_unconstrained: 156 instances\n"
     ]
    }
   ],
   "source": [
    "from ommx_quantum_benchmarks.qoblib import Marketsplit\n",
    "\n",
    "# Initialize the dataset\n",
    "dataset = Marketsplit()\n",
    "\n",
    "print(f\"Dataset: {dataset.name}\")\n",
    "print(f\"Description: {dataset.description}\")\n",
    "print(f\"Available models: {dataset.model_names}\")\n",
    "\n",
    "# Check available instances\n",
    "for model, instances in dataset.available_instances.items():\n",
    "    print(f\"{model}: {len(instances)} instances\")"
   ]
  },
  {
   "cell_type": "markdown",
   "id": "261b8bf9",
   "metadata": {},
   "source": [
    "## Working with Binary Linear Model"
   ]
  },
  {
   "cell_type": "code",
   "execution_count": null,
   "id": "3fcb40d1",
   "metadata": {},
   "outputs": [],
   "source": [
    "# Load a specific instance\n",
    "model_name = \"binary_linear\"\n",
    "instance_name = \"ms_03_050_002\"\n",
    "\n",
    "instance, solution = dataset(model_name, instance_name)\n",
    "\n",
    "print(f\"Loaded instance: {instance_name}\")\n",
    "print(f\"Instance type: {type(instance)}\")\n",
    "print(f\"Solution available: {solution is not None}\")\n",
    "\n",
    "if solution:\n",
    "    print(f\"Objective value: {solution.objective}\")\n",
    "    print(f\"Feasible: {solution.feasible}\")\n",
    "    print(f\"Number of variables: {len(solution.state.entries)}\")"
   ]
  },
  {
   "cell_type": "markdown",
   "id": "8ced351c",
   "metadata": {},
   "source": [
    "## Solution Verification"
   ]
  },
  {
   "cell_type": "code",
   "execution_count": null,
   "id": "349a1393",
   "metadata": {},
   "outputs": [],
   "source": [
    "if solution is not None:\n",
    "    # Evaluate the solution using the instance\n",
    "    evaluated = instance.evaluate(solution.state)\n",
    "    \n",
    "    print(\"Solution Verification:\")\n",
    "    print(f\"Original objective: {solution.objective}\")\n",
    "    print(f\"Evaluated objective: {evaluated.objective}\")\n",
    "    print(f\"Objectives match: {solution.objective == evaluated.objective}\")\n",
    "    \n",
    "    print(f\"Original feasibility: {solution.feasible}\")  \n",
    "    print(f\"Evaluated feasibility: {evaluated.feasible}\")\n",
    "    print(f\"Feasibility matches: {solution.feasible == evaluated.feasible}\")\n",
    "    \n",
    "    # Check state consistency\n",
    "    state_match = solution.state.entries == evaluated.state.entries\n",
    "    print(f\"States match: {state_match}\")"
   ]
  }
 ],
 "metadata": {
  "jupytext": {
   "cell_metadata_filter": "-all",
   "main_language": "python",
   "notebook_metadata_filter": "-all"
  },
  "kernelspec": {
   "display_name": "ommx-oblib",
   "language": "python",
   "name": "python3"
  },
  "language_info": {
   "codemirror_mode": {
    "name": "ipython",
    "version": 3
   },
   "file_extension": ".py",
   "mimetype": "text/x-python",
   "name": "python",
   "nbconvert_exporter": "python",
   "pygments_lexer": "ipython3",
   "version": "3.10.18"
  }
 },
 "nbformat": 4,
 "nbformat_minor": 5
}
