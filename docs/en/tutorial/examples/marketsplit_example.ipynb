{
 "cells": [
  {
   "cell_type": "markdown",
   "id": "d4e5097a",
   "metadata": {},
   "source": [
    "# Dataset Usage Example (using Marketsplit)\n",
    "\n",
    "This example demonstrates how to work with datasets in OMMX Quantum Benchmarks using Marketsplit as a representative case.\n",
    "\n",
    "**Important**: The patterns shown here apply to ALL datasets in the collection (Labs, Portfolio, Topology, etc.). Simply replace `Marketsplit` with any other dataset class name - the API is identical across all datasets.\n",
    "\n",
    "## Dataset Overview"
   ]
  },
  {
   "cell_type": "code",
   "execution_count": 2,
   "id": "28d76b55",
   "metadata": {},
   "outputs": [
    {
     "name": "stdout",
     "output_type": "stream",
     "text": [
      "Dataset: 01_marketsplit\n",
      "Description: Marketsplit dataset in ommx format, originally provided by https://git.zib.de/qopt/qoblib-quantum-optimization-benchmarking-library/-/tree/main/01-marketsplit?ref_type=heads.\n",
      "Available models: ['binary_linear', 'binary_unconstrained']\n",
      "binary_linear: 156 instances\n",
      "binary_unconstrained: 156 instances\n"
     ]
    }
   ],
   "source": [
    "from ommx_quantum_benchmarks.qoblib import Marketsplit\n",
    "\n",
    "# Initialize the dataset\n",
    "dataset = Marketsplit()\n",
    "\n",
    "print(f\"Dataset: {dataset.name}\")\n",
    "print(f\"Description: {dataset.description}\")\n",
    "print(f\"Available models: {dataset.model_names}\")\n",
    "\n",
    "# Check available instances\n",
    "for model, instances in dataset.available_instances.items():\n",
    "    print(f\"{model}: {len(instances)} instances\")"
   ]
  },
  {
   "cell_type": "markdown",
   "id": "261b8bf9",
   "metadata": {},
   "source": [
    "## Working with Binary Linear Model"
   ]
  },
  {
   "cell_type": "code",
   "execution_count": null,
   "id": "3fcb40d1",
   "metadata": {},
   "outputs": [],
   "source": [
    "# Load a specific instance\n",
    "model_name = \"binary_linear\"\n",
    "instance_name = \"ms_03_050_002\"\n",
    "\n",
    "instance, solution = dataset(model_name, instance_name)\n",
    "\n",
    "print(f\"Loaded instance: {instance_name}\")\n",
    "print(f\"Instance type: {type(instance)}\")\n",
    "print(f\"Solution available: {solution is not None}\")\n",
    "\n",
    "if solution:\n",
    "    print(f\"Objective value: {solution.objective}\")\n",
    "    print(f\"Feasible: {solution.feasible}\")\n",
    "    print(f\"Number of variables: {len(solution.state.entries)}\")"
   ]
  },
  {
   "cell_type": "markdown",
   "id": "8ced351c",
   "metadata": {},
   "source": [
    "## Solution Verification"
   ]
  },
  {
   "cell_type": "code",
   "execution_count": null,
   "id": "349a1393",
   "metadata": {},
   "outputs": [],
   "source": [
    "if solution is not None:\n",
    "    # Evaluate the solution using the instance\n",
    "    evaluated = instance.evaluate(solution.state)\n",
    "    \n",
    "    print(\"Solution Verification:\")\n",
    "    print(f\"Original objective: {solution.objective}\")\n",
    "    print(f\"Evaluated objective: {evaluated.objective}\")\n",
    "    print(f\"Objectives match: {solution.objective == evaluated.objective}\")\n",
    "    \n",
    "    print(f\"Original feasibility: {solution.feasible}\")  \n",
    "    print(f\"Evaluated feasibility: {evaluated.feasible}\")\n",
    "    print(f\"Feasibility matches: {solution.feasible == evaluated.feasible}\")\n",
    "    \n",
    "    # Check state consistency\n",
    "    state_match = solution.state.entries == evaluated.state.entries\n",
    "    print(f\"States match: {state_match}\")"
   ]
  },
  {
   "cell_type": "markdown",
   "id": "9400acf4",
   "metadata": {},
   "source": [
    "## Analyzing Multiple Instances"
   ]
  },
  {
   "cell_type": "code",
   "execution_count": null,
   "id": "59a1a2dd",
   "metadata": {},
   "outputs": [],
   "source": [
    "# Analyze first 5 instances of each size category\n",
    "def analyze_marketsplit_instances():\n",
    "    results = []\n",
    "    \n",
    "    # Group instances by size (extract size from name)\n",
    "    size_groups = {}\n",
    "    for instance_name in dataset.available_instances[\"binary_linear\"]:\n",
    "        # Extract size info from name like \"ms_03_050_002\"\n",
    "        parts = instance_name.split('_')\n",
    "        if len(parts) >= 3:\n",
    "            size_key = f\"{parts[1]}_{parts[2]}\"  # e.g., \"03_050\"\n",
    "            if size_key not in size_groups:\n",
    "                size_groups[size_key] = []\n",
    "            size_groups[size_key].append(instance_name)\n",
    "    \n",
    "    # Analyze one instance from each size group\n",
    "    for size_key, instances in list(size_groups.items())[:5]:\n",
    "        instance_name = instances[0]  # Take first instance of this size\n",
    "        \n",
    "        try:\n",
    "            instance, solution = dataset(\"binary_linear\", instance_name)\n",
    "            \n",
    "            if solution:\n",
    "                evaluated = instance.evaluate(solution.state)\n",
    "                results.append({\n",
    "                    'instance': instance_name,\n",
    "                    'size_category': size_key,\n",
    "                    'objective': solution.objective,\n",
    "                    'feasible': solution.feasible,\n",
    "                    'variables': len(solution.state.entries),\n",
    "                    'verification_passed': (\n",
    "                        solution.objective == evaluated.objective and\n",
    "                        solution.feasible == evaluated.feasible\n",
    "                    )\n",
    "                })\n",
    "                \n",
    "        except Exception as e:\n",
    "            print(f\"Error with {instance_name}: {e}\")\n",
    "    \n",
    "    return results\n",
    "\n",
    "# Run analysis\n",
    "results = analyze_marketsplit_instances()\n",
    "\n",
    "print(\"\\\\nAnalysis Results:\")\n",
    "print(f\"{'Instance':<15} {'Size':<8} {'Variables':<10} {'Objective':<12} {'Feasible':<9} {'Verified':<9}\")\n",
    "print(\"-\" * 70)\n",
    "\n",
    "for r in results:\n",
    "    print(f\"{r['instance']:<15} {r['size_category']:<8} {r['variables']:<10} \"\n",
    "          f\"{r['objective']:<12.2f} {str(r['feasible']):<9} {str(r['verification_passed']):<9}\")"
   ]
  },
  {
   "cell_type": "markdown",
   "id": "07596482",
   "metadata": {},
   "source": [
    "This example demonstrates the key patterns for working with the Marketsplit dataset, including basic usage, solution verification, performance analysis, and robust error handling."
   ]
  }
 ],
 "metadata": {
  "jupytext": {
   "cell_metadata_filter": "-all",
   "main_language": "python",
   "notebook_metadata_filter": "-all"
  },
  "kernelspec": {
   "display_name": "ommx-oblib",
   "language": "python",
   "name": "python3"
  },
  "language_info": {
   "codemirror_mode": {
    "name": "ipython",
    "version": 3
   },
   "file_extension": ".py",
   "mimetype": "text/x-python",
   "name": "python",
   "nbconvert_exporter": "python",
   "pygments_lexer": "ipython3",
   "version": "3.10.18"
  }
 },
 "nbformat": 4,
 "nbformat_minor": 5
}
