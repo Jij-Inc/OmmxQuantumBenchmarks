{
 "cells": [
  {
   "cell_type": "markdown",
   "id": "d4e5097a",
   "metadata": {},
   "source": [
    "# QOBLIB Usage Example\n",
    "\n",
    "This example demonstrates how to work with datasets qoblib in this package."
   ]
  },
  {
   "cell_type": "markdown",
   "id": "e2d75b41",
   "metadata": {},
   "source": [
    "## Common Usage Pattern for QOBLIB Datasets"
   ]
  },
  {
   "cell_type": "markdown",
   "id": "04f1f351",
   "metadata": {},
   "source": [
    "All QOBLIB datasets follow this consistent interface:\n",
    "\n",
    "```python\n",
    "from ommx_quantum_benchmarks.qoblib import DatasetName\n",
    "\n",
    "# Instantiate any dataset\n",
    "dataset = DatasetName()\n",
    "\n",
    "# Check properties\n",
    "print(f\"Name: {dataset.name}\")\n",
    "print(f\"Models: {dataset.model_names}\")\n",
    "print(f\"Available instances: {dataset.available_instances}\")\n",
    "\n",
    "# Load instance and solution (if available)\n",
    "if dataset.available_instances[model_name]:\n",
    "    instance, solution = dataset(model_name, instance_name)\n",
    "```"
   ]
  },
  {
   "cell_type": "markdown",
   "id": "776b9b63",
   "metadata": {},
   "source": [
    "## Marketsplit Example (as a representative case)\n",
    "Hereby, we will use `Marketsplit` dataset as a representative case. You can select a dataset what you want to try among the available dataset (See [Dataset Overview](./../usage/dataset_overview.ipynb))."
   ]
  },
  {
   "cell_type": "code",
   "execution_count": null,
   "id": "28d76b55",
   "metadata": {},
   "outputs": [
    {
     "name": "stdout",
     "output_type": "stream",
     "text": [
      "Dataset: 01_marketsplit\n",
      "Description: Marketsplit dataset in ommx format, originally provided by https://git.zib.de/qopt/qoblib-quantum-optimization-benchmarking-library/-/tree/main/01-marketsplit?ref_type=heads.\n",
      "Available models: ['binary_linear', 'binary_unconstrained']\n",
      "binary_linear: 156 instances\n",
      "binary_unconstrained: 156 instances\n"
     ]
    }
   ],
   "source": [
    "# Import the Marketsplit dataset from the OMMX Quantum Benchmarks library.\n",
    "# You can add other datasets similarly such as Labs and Topology.\n",
    "from ommx_quantum_benchmarks.qoblib import Marketsplit\n",
    "\n",
    "# Initialize the dataset.\n",
    "dataset = Marketsplit()\n",
    "\n",
    "# Show the dataset ovewview.\n",
    "print(f\"Dataset: {dataset.name}\")\n",
    "print(f\"Description: {dataset.description}\")\n",
    "print(f\"Available models: {dataset.model_names}\")\n",
    "\n",
    "# Check available instances.\n",
    "for model, instances in dataset.available_instances.items():\n",
    "    print(f\"{model}: {len(instances)} instances\")"
   ]
  },
  {
   "cell_type": "code",
   "execution_count": 4,
   "id": "3fcb40d1",
   "metadata": {},
   "outputs": [
    {
     "name": "stdout",
     "output_type": "stream",
     "text": [
      "Loaded instance: ms_03_050_002\n",
      "Instance type: <class 'ommx.v1.Instance'>\n",
      "Solution available: True\n",
      "Objective value: 0.0\n",
      "Feasible: True\n",
      "Number of variables: 23\n"
     ]
    }
   ],
   "source": [
    "# Load a specific instance.\n",
    "model_name = \"binary_linear\"\n",
    "instance_name = \"ms_03_050_002\"\n",
    "instance, solution = dataset(model_name, instance_name)\n",
    "\n",
    "# Show the loaded instance details.\n",
    "print(f\"Loaded instance: {instance_name}\")\n",
    "print(f\"Instance type: {type(instance)}\")\n",
    "print(f\"Solution available: {solution is not None}\")\n",
    "\n",
    "# If a solution is available, show its details.\n",
    "if solution:\n",
    "    print(f\"Objective value: {solution.objective}\")\n",
    "    print(f\"Feasible: {solution.feasible}\")\n",
    "    print(f\"Number of variables: {len(solution.state.entries)}\")"
   ]
  },
  {
   "cell_type": "markdown",
   "id": "8ced351c",
   "metadata": {},
   "source": [
    "## Solution Verification"
   ]
  },
  {
   "cell_type": "code",
   "execution_count": null,
   "id": "349a1393",
   "metadata": {},
   "outputs": [
    {
     "name": "stdout",
     "output_type": "stream",
     "text": [
      "Solution Verification:\n",
      "Original objective: 1.0\n",
      "Evaluated objective: 1.0\n",
      "Objectives match: True\n",
      "Original feasibility: True\n",
      "Evaluated feasibility: True\n",
      "Feasibility matches: True\n",
      "States match: True\n"
     ]
    }
   ],
   "source": [
    "# Check solution validity by re-evaluating it.\n",
    "if solution is not None:\n",
    "    # Evaluate the solution using the instance\n",
    "    evaluated = instance.evaluate(solution.state)\n",
    "    \n",
    "    print(\"Solution Verification:\")\n",
    "    print(f\"Original objective: {solution.objective}\")\n",
    "    print(f\"Evaluated objective: {evaluated.objective}\")\n",
    "    print(f\"Objectives match: {solution.objective == evaluated.objective}\")\n",
    "    \n",
    "    print(f\"Original feasibility: {solution.feasible}\")  \n",
    "    print(f\"Evaluated feasibility: {evaluated.feasible}\")\n",
    "    print(f\"Feasibility matches: {solution.feasible == evaluated.feasible}\")\n",
    "    \n",
    "    # Check state consistency\n",
    "    state_match = solution.state.entries == evaluated.state.entries\n",
    "    print(f\"States match: {state_match}\")"
   ]
  }
 ],
 "metadata": {
  "jupytext": {
   "cell_metadata_filter": "-all",
   "main_language": "python",
   "notebook_metadata_filter": "-all"
  },
  "kernelspec": {
   "display_name": "ommx-oblib",
   "language": "python",
   "name": "python3"
  },
  "language_info": {
   "codemirror_mode": {
    "name": "ipython",
    "version": 3
   },
   "file_extension": ".py",
   "mimetype": "text/x-python",
   "name": "python",
   "nbconvert_exporter": "python",
   "pygments_lexer": "ipython3",
   "version": "3.10.18"
  }
 },
 "nbformat": 4,
 "nbformat_minor": 5
}
