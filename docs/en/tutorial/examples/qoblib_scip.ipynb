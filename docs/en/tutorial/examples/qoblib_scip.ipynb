{
 "cells": [
  {
   "cell_type": "markdown",
   "id": "f8691897",
   "metadata": {},
   "source": [
    "# Solve with SCIP using OMMX\n",
    "\n",
    "In this tutorial, we will see how this dataset can be seemlessly used with SCIP (`ommx-pyscipopt-adapter`), which is not a quantum algorithm. However, one of beautiful points of OMMX format is actually that we can seemlessly employ algorithms either quantum or classical."
   ]
  },
  {
   "cell_type": "code",
   "execution_count": 12,
   "id": "c9692d59",
   "metadata": {},
   "outputs": [],
   "source": [
    "# Install ommx-pyscipopt-adapter as needed.\n",
    "# !pip install \"ommx-pyscipopt-adapter\""
   ]
  },
  {
   "cell_type": "code",
   "execution_count": 13,
   "id": "46564719",
   "metadata": {},
   "outputs": [],
   "source": [
    "import ommx_pyscipopt_adapter\n",
    "\n",
    "from ommx_quantum_benchmarks.qoblib import Labs"
   ]
  },
  {
   "cell_type": "markdown",
   "id": "ab316dff",
   "metadata": {},
   "source": [
    "## Loading Data\n",
    "First, we load one data using this library. As a representative example, we will employ `Labs` dataset, `\"labs003\"` instance of `\"quadratic_unconstrained\"` model. Feel free to change the instance, model or dataset. See [qoblib page](./../qoblib.ipynb) for available instances."
   ]
  },
  {
   "cell_type": "code",
   "execution_count": 14,
   "id": "f0b1bfbc",
   "metadata": {},
   "outputs": [
    {
     "name": "stdout",
     "output_type": "stream",
     "text": [
      "Model: integer\n",
      "  Instance: labs002\n",
      "  Instance: labs003\n",
      "  Instance: labs004\n",
      "  Instance: labs005\n",
      "  Instance: labs006\n",
      "Model: quadratic_unconstrained\n",
      "  Instance: labs002\n",
      "  Instance: labs003\n",
      "  Instance: labs004\n",
      "  Instance: labs005\n",
      "  Instance: labs006\n"
     ]
    }
   ],
   "source": [
    "# See the available models and instances.\n",
    "dataset = Labs()\n",
    "\n",
    "for model_name, instance_names in dataset.available_instances.items():\n",
    "    print(f\"Model: {model_name}\")\n",
    "    for instance_name in instance_names[:5]:  # Show only first 5 instances\n",
    "        print(f\"  Instance: {instance_name}\")"
   ]
  },
  {
   "cell_type": "code",
   "execution_count": 15,
   "id": "b18e9376",
   "metadata": {},
   "outputs": [
    {
     "name": "stdout",
     "output_type": "stream",
     "text": [
      "Instance: Instance(raw=<builtins.Instance object at 0x1120e3830>, annotations={'org.ommx.v1.instance.variables': '9', 'org.ommx.qoblib.url': 'https://git.zib.de/qopt/qoblib-quantum-optimization-benchmarking-library/-/tree/main/02-labs?ref_type=heads', 'org.minto.storage': 'instances', 'org.ommx.v1.instance.license': 'CC BY 4.0', 'org.minto.name': 'labs003', 'org.ommx.v1.instance.dataset': 'Low Autocorrelation Binary Sequences (LABS)', 'org.ommx.v1.instance.title': 'labs003', 'org.ommx.v1.instance.authors': 'Thorsten Koch,David E. Bernal Neira,Ying Chen,Giorgio Cortiana,Daniel J. Egger,Raoul Heese,Narendra N. Hegade,Alejandro Gomez Cadavid,Rhea Huang,Toshinari Itoko,Thomas Kleinert,Pedro Maciel Xavier,Naeimeh Mohseni,Jhon A. Montanez-Barrera,Koji Nakano,Giacomo Nannicini,Corey O’Meara,Justin Pauckert,Manuel Proissl,Anurag Ramesh,Maximilian Schicker,Noriaki Shimada,Mitsuharu Takeori,Victor Valls,David Van Bulck,Stefan Woerner,Christa Zoufal', 'org.ommx.v1.instance.constraints': '0', 'org.minto.space': 'experiment'})\n",
      "Given Solution: Solution(raw=<builtins.Solution object at 0x1206c8630>, annotations={'org.minto.storage': 'solutions', 'org.ommx.qoblib.authors': 'Thorsten Koch, David E. Bernal Neira, Ying Chen, Giorgio Cortiana, Daniel J. Egger, Raoul Heese, Narendra N. Hegade, Alejandro Gomez Cadavid, Rhea Huang, Toshinari Itoko, Thomas Kleinert, Pedro Maciel Xavier, Naeimeh Mohseni, Jhon A. Montanez-Barrera, Koji Nakano, Giacomo Nannicini, Corey O’Meara, Justin Pauckert, Manuel Proissl, Anurag Ramesh, Maximilian Schicker, Noriaki Shimada, Mitsuharu Takeori, Victor Valls, David Van Bulck, Stefan Woerner, Christa Zoufal', 'org.ommx.v1.solution.instance': 'sha256:11da1b5ffe097d37e5e16ab3710eb2da0cb565f8980123e7e36912e2fda32192', 'org.minto.space': 'experiment', 'org.minto.name': 'labs003'})\n"
     ]
    }
   ],
   "source": [
    "# Load a specific instance.\n",
    "model_name = \"quadratic_unconstrained\"\n",
    "instance_name = \"labs003\"\n",
    "(instance, solution) = dataset(model_name, instance_name)\n",
    "\n",
    "print(f\"Instance: {instance}\")\n",
    "print(f\"Given Solution: {solution}\")"
   ]
  },
  {
   "cell_type": "markdown",
   "id": "d46f5b69",
   "metadata": {},
   "source": [
    "## Solving using SCIP"
   ]
  },
  {
   "cell_type": "code",
   "execution_count": 16,
   "id": "b7d85ad7",
   "metadata": {},
   "outputs": [
    {
     "name": "stdout",
     "output_type": "stream",
     "text": [
      "Given solution: solution.objective=1.0, obtained_solution.feasible=True\n",
      "Obtained solution: obtained_solution.objective=1.0, obtained_solution.feasible=True\n"
     ]
    }
   ],
   "source": [
    "# Solve with SCIP.\n",
    "obtained_solution = ommx_pyscipopt_adapter.OMMXPySCIPOptAdapter.solve(instance)\n",
    "\n",
    "# Compare the results.\n",
    "print(f\"Given solution: {solution.objective=}, {obtained_solution.feasible=}\")\n",
    "print(f\"Obtained solution: {obtained_solution.objective=}, {obtained_solution.feasible=}\")"
   ]
  }
 ],
 "metadata": {
  "kernelspec": {
   "display_name": "ommx-oblib",
   "language": "python",
   "name": "python3"
  },
  "language_info": {
   "codemirror_mode": {
    "name": "ipython",
    "version": 3
   },
   "file_extension": ".py",
   "mimetype": "text/x-python",
   "name": "python",
   "nbconvert_exporter": "python",
   "pygments_lexer": "ipython3",
   "version": "3.10.18"
  }
 },
 "nbformat": 4,
 "nbformat_minor": 5
}
