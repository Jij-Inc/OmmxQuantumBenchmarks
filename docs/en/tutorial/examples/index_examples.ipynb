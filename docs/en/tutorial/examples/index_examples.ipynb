{
 "cells": [
  {
   "cell_type": "markdown",
   "id": "86e8fccf",
   "metadata": {},
   "source": [
    "# Examples\n",
    "\n",
    "This section provides practical examples for working with OMMX Quantum Benchmarks datasets.\n",
    "\n",
    "**Note**: All datasets from the QOBLIB collection follow the same API pattern. The examples shown here using Marketsplit apply to other QOBLIB datasets (Labs, Portfolio, Topology, etc.) with only the class name and available instances differing.\n",
    "\n",
    "## Representative Example\n",
    "\n",
    "- [Marketsplit Example](marketsplit_example.ipynb) - Complete usage example showing all common patterns\n",
    "\n",
    "## Common Usage Pattern for QOBLIB Datasets\n",
    "\n",
    "All QOBLIB datasets follow this consistent interface:\n",
    "\n",
    "```python\n",
    "from ommx_quantum_benchmarks.qoblib import DatasetName\n",
    "\n",
    "# Instantiate any dataset\n",
    "dataset = DatasetName()\n",
    "\n",
    "# Check properties\n",
    "print(f\"Name: {dataset.name}\")\n",
    "print(f\"Models: {dataset.model_names}\")\n",
    "print(f\"Available instances: {dataset.available_instances}\")\n",
    "\n",
    "# Load instance and solution (if available)\n",
    "if dataset.available_instances[model_name]:\n",
    "    instance, solution = dataset(model_name, instance_name)\n",
    "```"
   ]
  }
 ],
 "metadata": {
  "jupytext": {
   "cell_metadata_filter": "-all",
   "main_language": "python",
   "notebook_metadata_filter": "-all"
  },
  "kernelspec": {
   "display_name": "ommx-oblib",
   "language": "python",
   "name": "python3"
  },
  "language_info": {
   "codemirror_mode": {
    "name": "ipython",
    "version": 3
   },
   "file_extension": ".py",
   "mimetype": "text/x-python",
   "name": "python",
   "nbconvert_exporter": "python",
   "pygments_lexer": "ipython3",
   "version": "3.10.18"
  }
 },
 "nbformat": 4,
 "nbformat_minor": 5
}
