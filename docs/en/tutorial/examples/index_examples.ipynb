{
 "cells": [
  {
   "cell_type": "markdown",
   "id": "86e8fccf",
   "metadata": {},
   "source": [
    "# Examples\n",
    "\n",
    "This section provides practical examples for working with OMMX Quantum Benchmarks datasets.\n",
    "\n",
    "**Note**: All datasets from the QOBLIB collection follow the same API pattern. The examples shown here using Marketsplit apply to other QOBLIB datasets (Labs, Portfolio, Topology, etc.) with only the class name and available instances differing.\n",
    "\n",
    "## Representative Example\n",
    "\n",
    "- [Marketsplit Example](marketsplit_example.md) - Complete usage example showing all common patterns\n",
    "\n",
    "## Common Usage Pattern for QOBLIB Datasets\n",
    "\n",
    "All QOBLIB datasets follow this consistent interface:"
   ]
  },
  {
   "cell_type": "code",
   "execution_count": null,
   "id": "19e17096",
   "metadata": {},
   "outputs": [],
   "source": [
    "from ommx_quantum_benchmarks.qoblib import DatasetName\n",
    "\n",
    "# Instantiate any dataset\n",
    "dataset = DatasetName()\n",
    "\n",
    "# Check properties\n",
    "print(f\"Name: {dataset.name}\")\n",
    "print(f\"Models: {dataset.model_names}\")\n",
    "print(f\"Available instances: {dataset.available_instances}\")\n",
    "\n",
    "# Load instance and solution (if available)\n",
    "if dataset.available_instances[model_name]:\n",
    "    instance, solution = dataset(model_name, instance_name)"
   ]
  },
  {
   "cell_type": "markdown",
   "id": "13fd1dba",
   "metadata": {},
   "source": [
    "## What the Example Covers\n",
    "\n",
    "The Marketsplit example demonstrates all common patterns that apply to QOBLIB datasets:\n",
    "\n",
    "1. **Dataset instantiation and exploration**\n",
    "2. **Instance loading and validation**\n",
    "3. **Solution analysis and verification**\n",
    "4. **Error handling and robustness**\n",
    "5. **Performance considerations**\n",
    "6. **Integration patterns for optimization workflows**\n",
    "\n",
    "These patterns work identically across all QOBLIB dataset classes, making it easy to switch between different QOBLIB problem types while using the same code structure."
   ]
  }
 ],
 "metadata": {
  "jupytext": {
   "cell_metadata_filter": "-all",
   "main_language": "python",
   "notebook_metadata_filter": "-all"
  }
 },
 "nbformat": 4,
 "nbformat_minor": 5
}
