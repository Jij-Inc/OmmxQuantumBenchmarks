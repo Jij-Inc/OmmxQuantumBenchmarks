{
 "cells": [
  {
   "cell_type": "markdown",
   "id": "86e8fccf",
   "metadata": {},
   "source": [
    "# Examples\n",
    "\n",
    "This section provides examples to use this package.\n",
    "**Note**: For now, we have only a part of QOBLIB collections, however, we are planning to add more datasets.\n",
    "\n",
    "- [QOBLIB Example](qoblib_example.ipynb) - Complete usage example showing all common patterns"
   ]
  }
 ],
 "metadata": {
  "jupytext": {
   "cell_metadata_filter": "-all",
   "main_language": "python",
   "notebook_metadata_filter": "-all"
  },
  "kernelspec": {
   "display_name": "ommx-oblib",
   "language": "python",
   "name": "python3"
  },
  "language_info": {
   "codemirror_mode": {
    "name": "ipython",
    "version": 3
   },
   "file_extension": ".py",
   "mimetype": "text/x-python",
   "name": "python",
   "nbconvert_exporter": "python",
   "pygments_lexer": "ipython3",
   "version": "3.10.18"
  }
 },
 "nbformat": 4,
 "nbformat_minor": 5
}
