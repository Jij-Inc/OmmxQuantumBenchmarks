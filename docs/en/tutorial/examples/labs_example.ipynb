{
 "cells": [
  {
   "cell_type": "markdown",
   "id": "d4e5097a",
   "metadata": {},
   "source": [
    "# Dataset Usage Example (using Labs)\n",
    "\n",
    "This example demonstrates how to work with datasets in OMMX Quantum Benchmarks using Labs as a representative case.\n",
    "\n",
    "**Important**: The patterns shown here apply to ALL datasets in the collection (Labs, Portfolio, Topology, etc.). Simply replace `Labs` with any other dataset class name - the API is identical across all datasets.\n",
    "\n",
    "## Dataset Overview"
   ]
  },
  {
   "cell_type": "code",
   "execution_count": 1,
   "id": "28d76b55",
   "metadata": {},
   "outputs": [
    {
     "name": "stdout",
     "output_type": "stream",
     "text": [
      "Dataset: 02_labs\n",
      "Description: Labs dataset in ommx format, originally provided by https://git.zib.de/qopt/qoblib-quantum-optimization-benchmarking-library/-/tree/main/02-labs?ref_type=heads.\n",
      "Available models: ['integer', 'quadratic_unconstrained']\n",
      "integer: 99 instances\n",
      "quadratic_unconstrained: 99 instances\n"
     ]
    }
   ],
   "source": [
    "from ommx_quantum_benchmarks.qoblib import Labs\n",
    "\n",
    "# Initialize the dataset\n",
    "dataset = Labs()\n",
    "\n",
    "print(f\"Dataset: {dataset.name}\")\n",
    "print(f\"Description: {dataset.description}\")\n",
    "print(f\"Available models: {dataset.model_names}\")\n",
    "\n",
    "# Check available instances\n",
    "for model, instances in dataset.available_instances.items():\n",
    "    print(f\"{model}: {len(instances)} instances\")"
   ]
  },
  {
   "cell_type": "markdown",
   "id": "261b8bf9",
   "metadata": {},
   "source": [
    "## Working with Integer Model"
   ]
  },
  {
   "cell_type": "code",
   "execution_count": 2,
   "id": "3fcb40d1",
   "metadata": {},
   "outputs": [
    {
     "name": "stdout",
     "output_type": "stream",
     "text": [
      "Loaded instance: labs002\n",
      "Instance type: <class 'ommx.v1.Instance'>\n",
      "Solution available: True\n",
      "Objective value: 1.0\n",
      "Feasible: True\n",
      "Number of variables: 3\n"
     ]
    }
   ],
   "source": [
    "# Load a specific instance\n",
    "model_name = \"integer\"\n",
    "instance_name = \"labs002\"\n",
    "\n",
    "instance, solution = dataset(model_name, instance_name)\n",
    "\n",
    "print(f\"Loaded instance: {instance_name}\")\n",
    "print(f\"Instance type: {type(instance)}\")\n",
    "print(f\"Solution available: {solution is not None}\")\n",
    "\n",
    "if solution:\n",
    "    print(f\"Objective value: {solution.objective}\")\n",
    "    print(f\"Feasible: {solution.feasible}\")\n",
    "    print(f\"Number of variables: {len(solution.state.entries)}\")"
   ]
  },
  {
   "cell_type": "markdown",
   "id": "8ced351c",
   "metadata": {},
   "source": [
    "## Solution Verification"
   ]
  },
  {
   "cell_type": "code",
   "execution_count": 3,
   "id": "349a1393",
   "metadata": {},
   "outputs": [
    {
     "name": "stdout",
     "output_type": "stream",
     "text": [
      "Solution Verification:\n",
      "Original objective: 1.0\n",
      "Evaluated objective: 1.0\n",
      "Objectives match: True\n",
      "Original feasibility: True\n",
      "Evaluated feasibility: True\n",
      "Feasibility matches: True\n",
      "States match: True\n"
     ]
    }
   ],
   "source": [
    "if solution is not None:\n",
    "    # Evaluate the solution using the instance\n",
    "    evaluated = instance.evaluate(solution.state)\n",
    "    \n",
    "    print(\"Solution Verification:\")\n",
    "    print(f\"Original objective: {solution.objective}\")\n",
    "    print(f\"Evaluated objective: {evaluated.objective}\")\n",
    "    print(f\"Objectives match: {solution.objective == evaluated.objective}\")\n",
    "    \n",
    "    print(f\"Original feasibility: {solution.feasible}\")  \n",
    "    print(f\"Evaluated feasibility: {evaluated.feasible}\")\n",
    "    print(f\"Feasibility matches: {solution.feasible == evaluated.feasible}\")\n",
    "    \n",
    "    # Check state consistency\n",
    "    state_match = solution.state.entries == evaluated.state.entries\n",
    "    print(f\"States match: {state_match}\")"
   ]
  }
 ],
 "metadata": {
  "jupytext": {
   "cell_metadata_filter": "-all",
   "main_language": "python",
   "notebook_metadata_filter": "-all"
  },
  "kernelspec": {
   "display_name": "ommx-oblib",
   "language": "python",
   "name": "python3"
  },
  "language_info": {
   "codemirror_mode": {
    "name": "ipython",
    "version": 3
   },
   "file_extension": ".py",
   "mimetype": "text/x-python",
   "name": "python",
   "nbconvert_exporter": "python",
   "pygments_lexer": "ipython3",
   "version": "3.10.18"
  }
 },
 "nbformat": 4,
 "nbformat_minor": 5
}
