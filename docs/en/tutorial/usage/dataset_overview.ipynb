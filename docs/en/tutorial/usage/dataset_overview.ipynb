{
 "cells": [
  {
   "cell_type": "markdown",
   "id": "42cd215b",
   "metadata": {},
   "source": [
    "# Dataset Overview\n",
    "\n",
    "OMMX Quantum Benchmarks provides access to optimization benchmark datasets converted to OMMX format. This page describes the current status of available dataset categories.\n",
    "\n",
    "**Current Sources**: The initial release includes selected datasets from QOBLIB, with framework designed for expansion to additional benchmark sources in the future.\n",
    "\n",
    "## Market Split (`01_marketsplit`)\n",
    "\n",
    "**Problem Type**: Market segmentation optimization  \n",
    "**Models**: Binary linear, Binary unconstrained  \n",
    "**Instances**: 160+ instances across different sizes\n",
    "\n",
    "Market split problems involve partitioning markets to optimize various objectives while satisfying constraints."
   ]
  },
  {
   "cell_type": "code",
   "execution_count": null,
   "id": "92791b8d",
   "metadata": {},
   "outputs": [],
   "source": "from ommx_quantum_benchmarks.qoblib import Marketsplit\n\ndataset = Marketsplit()\nprint(f\"Available models: {dataset.model_names}\")\n# ['binary_linear', 'binary_unconstrained']"
  },
  {
   "cell_type": "markdown",
   "id": "fd073584",
   "metadata": {},
   "source": [
    "## Labs (`02_labs`)\n",
    "\n",
    "**Problem Type**: Laboratory assignment problems  \n",
    "**Models**: Integer, Quadratic unconstrained  \n",
    "**Instances**: 99 instances (labs002 - labs100)\n",
    "\n",
    "Laboratory problems typically involve resource allocation and scheduling in laboratory environments."
   ]
  },
  {
   "cell_type": "code",
   "execution_count": null,
   "id": "647dec14",
   "metadata": {},
   "outputs": [],
   "source": "from ommx_quantum_benchmarks.qoblib import Labs\n\ndataset = Labs()\nprint(f\"Instance range: {min(dataset.available_instances['integer'])} to {max(dataset.available_instances['integer'])}\")"
  },
  {
   "cell_type": "markdown",
   "id": "704f1da4",
   "metadata": {},
   "source": [
    "## Other Dataset Categories\n",
    "\n",
    "The following dataset categories are defined in the framework but currently contain no instances. These represent problem types that may be expanded in future releases:\n",
    "\n",
    "- **Birkhoff** (`03_birkhoff`) - Integer linear problems related to doubly stochastic matrices\n",
    "- **Steiner** (`04_steiner`) - Integer linear Steiner tree problems\n",
    "- **Sports** (`05_sports`) - Mixed integer linear sports scheduling problems\n",
    "- **Portfolio** (`06_portfolio`) - Binary quadratic and quadratic unconstrained portfolio optimization\n",
    "- **Independent Set** (`07_independent_set`) - Binary linear and unconstrained graph problems\n",
    "- **Network** (`08_network`) - Integer linear network optimization\n",
    "- **Routing** (`09_routing`) - Integer linear vehicle routing problems  \n",
    "- **Topology** (`10_topology`) - Network topology problems with multiple formulations\n",
    "\n",
    "**Note**: These datasets can be instantiated but will return empty instance lists. Check the `available_instances` property to see current availability.\n",
    "\n",
    "## Current Status Summary\n",
    "\n",
    "| Dataset | Models | Instance Count | Status |\n",
    "|---------|--------|----------------|---------|\n",
    "| Marketsplit | 2 | 160+ | ✅ Available |\n",
    "| Labs | 2 | 99 | ✅ Available |\n",
    "| Birkhoff | 1 | 0 | 🚧 Defined, no instances |\n",
    "| Steiner | 1 | 0 | 🚧 Defined, no instances |\n",
    "| Sports | 1 | 0 | 🚧 Defined, no instances |\n",
    "| Portfolio | 2 | 0 | 🚧 Defined, no instances |\n",
    "| IndependentSet | 2 | 0 | 🚧 Defined, no instances |\n",
    "| Network | 1 | 0 | 🚧 Defined, no instances |\n",
    "| Routing | 1 | 0 | 🚧 Defined, no instances |\n",
    "| Topology | 3 | 0 | 🚧 Defined, no instances |\n",
    "\n",
    "**Legend**: \n",
    "- ✅ Available: Instances have been converted and are accessible\n",
    "- 🚧 Defined, no instances: Dataset classes exist but no instances are currently available"
   ]
  }
 ],
 "metadata": {
  "jupytext": {
   "cell_metadata_filter": "-all",
   "main_language": "python",
   "notebook_metadata_filter": "-all"
  }
 },
 "nbformat": 4,
 "nbformat_minor": 5
}