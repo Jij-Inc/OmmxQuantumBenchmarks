{
 "cells": [
  {
   "cell_type": "markdown",
   "id": "54e94352",
   "metadata": {},
   "source": [
    "# Dataset Overview\n",
    "\n",
    "OMMX Quantum Benchmarks provides access to optimization benchmark datasets converted to OMMX format. This page describes the current status of available dataset categories.\n",
    "\n",
    "**Current Sources**: The initial release includes datasets from QOBLIB, with framework designed for expansion to additional benchmark sources in the future.\n",
    "\n",
    "## Marketsplit (`01_marketsplit`)\n",
    "\n",
    "**Problem Type**: Market split optimization problems  \n",
    "**Models**: Binary linear, Binary unconstrained  \n",
    "**Instances**: 120 instances per model (ms_03_050_002 - ms_15_200_003)"
   ]
  },
  {
   "cell_type": "code",
   "execution_count": 1,
   "id": "5d4ra9e9t5i",
   "metadata": {},
   "outputs": [
    {
     "name": "stdout",
     "output_type": "stream",
     "text": [
      "Available models: ['binary_linear', 'binary_unconstrained']\n",
      "binary_linear: 156 instances\n",
      "binary_unconstrained: 156 instances\n"
     ]
    }
   ],
   "source": [
    "from ommx_quantum_benchmarks.qoblib import Marketsplit\n",
    "\n",
    "dataset = Marketsplit()\n",
    "print(f\"Available models: {dataset.model_names}\")\n",
    "for model in dataset.model_names:\n",
    "    instances = dataset.available_instances[model]\n",
    "    print(f\"{model}: {len(instances)} instances\")"
   ]
  },
  {
   "cell_type": "markdown",
   "id": "fd073584",
   "metadata": {},
   "source": [
    "## Labs (`02_labs`)\n",
    "\n",
    "**Problem Type**: Low autocorrelation binary sequences  \n",
    "**Models**: Integer, Quadratic unconstrained  \n",
    "**Instances**: 99 instances (labs002 - labs100)"
   ]
  },
  {
   "cell_type": "code",
   "execution_count": 2,
   "id": "647dec14",
   "metadata": {},
   "outputs": [
    {
     "name": "stdout",
     "output_type": "stream",
     "text": [
      "Available models: ['integer', 'quadratic_unconstrained']\n",
      "integer: 99 instances\n",
      "quadratic_unconstrained: 99 instances\n"
     ]
    }
   ],
   "source": [
    "from ommx_quantum_benchmarks.qoblib import Labs\n",
    "\n",
    "dataset = Labs()\n",
    "print(f\"Available models: {dataset.model_names}\")\n",
    "for model in dataset.model_names:\n",
    "    instances = dataset.available_instances[model]\n",
    "    print(f\"{model}: {len(instances)} instances\")"
   ]
  },
  {
   "cell_type": "markdown",
   "id": "704f1da4",
   "metadata": {},
   "source": [
    "## Birkhoff (`03_birkhoff`)\n",
    "\n",
    "**Problem Type**: Minimum birkhoff decomposition  \n",
    "**Models**: Integer linear  \n",
    "**Instances**: 800 instances (bhD-3-001 - bhS-6-100)"
   ]
  },
  {
   "cell_type": "code",
   "execution_count": 3,
   "id": "yt34ivrq2v",
   "metadata": {},
   "outputs": [
    {
     "name": "stdout",
     "output_type": "stream",
     "text": [
      "Available models: ['integer_linear']\n",
      "integer_linear: 800 instances\n"
     ]
    }
   ],
   "source": [
    "from ommx_quantum_benchmarks.qoblib import Birkhoff\n",
    "\n",
    "dataset = Birkhoff()\n",
    "print(f\"Available models: {dataset.model_names}\")\n",
    "for model in dataset.model_names:\n",
    "    instances = dataset.available_instances[model]\n",
    "    print(f\"{model}: {len(instances)} instances\")"
   ]
  },
  {
   "cell_type": "markdown",
   "id": "srqvnex133",
   "metadata": {},
   "source": [
    "## Steiner (`04_steiner`)\n",
    "\n",
    "**Problem Type**: Steiner tree packing problem  \n",
    "**Models**: Integer linear  \n",
    "**Instances**: 31 instances (stp_s020_l2_t3_h2_rs24098 - stp_s040_l2_t4_h3_rs123)"
   ]
  },
  {
   "cell_type": "code",
   "execution_count": 4,
   "id": "2rs94wyke07",
   "metadata": {},
   "outputs": [
    {
     "name": "stdout",
     "output_type": "stream",
     "text": [
      "Available models: ['integer_linear']\n",
      "integer_linear: 31 instances\n"
     ]
    }
   ],
   "source": [
    "from ommx_quantum_benchmarks.qoblib import Steiner\n",
    "\n",
    "dataset = Steiner()\n",
    "print(f\"Available models: {dataset.model_names}\")\n",
    "for model in dataset.model_names:\n",
    "    instances = dataset.available_instances[model]\n",
    "    print(f\"{model}: {len(instances)} instances\")"
   ]
  },
  {
   "cell_type": "markdown",
   "id": "n0vhnnrkmla",
   "metadata": {},
   "source": [
    "## Independent Set (`07_independentset`)\n",
    "\n",
    "**Problem Type**: Maximum independent set problems  \n",
    "**Models**: Binary linear, Binary unconstrained  \n",
    "**Instances**: 42 instances per model (various graph instances)"
   ]
  },
  {
   "cell_type": "code",
   "execution_count": 5,
   "id": "xeptziz9bhb",
   "metadata": {},
   "outputs": [
    {
     "name": "stdout",
     "output_type": "stream",
     "text": [
      "Available models: ['binary_linear', 'binary_unconstrained']\n",
      "binary_linear: 42 instances\n",
      "binary_unconstrained: 42 instances\n"
     ]
    }
   ],
   "source": [
    "from ommx_quantum_benchmarks.qoblib import IndependentSet\n",
    "\n",
    "dataset = IndependentSet()\n",
    "print(f\"Available models: {dataset.model_names}\")\n",
    "for model in dataset.model_names:\n",
    "    instances = dataset.available_instances[model]\n",
    "    print(f\"{model}: {len(instances)} instances\")"
   ]
  },
  {
   "cell_type": "markdown",
   "id": "yxby698ncy",
   "metadata": {},
   "source": [
    "## Network (`08_network`)\n",
    "\n",
    "**Problem Type**: Network design  \n",
    "**Models**: Integer LP  \n",
    "**Instances**: 20 instances (network05 - network24)"
   ]
  },
  {
   "cell_type": "code",
   "execution_count": 6,
   "id": "dbrrgdj7y6q",
   "metadata": {},
   "outputs": [
    {
     "name": "stdout",
     "output_type": "stream",
     "text": [
      "Available models: ['integer_lp']\n",
      "integer_lp: 20 instances\n"
     ]
    }
   ],
   "source": [
    "from ommx_quantum_benchmarks.qoblib import Network\n",
    "\n",
    "dataset = Network()\n",
    "print(f\"Available models: {dataset.model_names}\")\n",
    "for model in dataset.model_names:\n",
    "    instances = dataset.available_instances[model]\n",
    "    print(f\"{model}: {len(instances)} instances\")"
   ]
  },
  {
   "cell_type": "markdown",
   "id": "lvuk9ohbl4",
   "metadata": {},
   "source": [
    "## Routing (`09_routing`)\n",
    "\n",
    "**Problem Type**: Vehicle routing  \n",
    "**Models**: Integer linear  \n",
    "**Instances**: 55 instances (XSH-n20-k4-01 - XSH-n20-k4-55)"
   ]
  },
  {
   "cell_type": "code",
   "execution_count": 7,
   "id": "courpzrv8hd",
   "metadata": {},
   "outputs": [
    {
     "name": "stdout",
     "output_type": "stream",
     "text": [
      "Available models: ['integer_linear']\n",
      "integer_linear: 55 instances\n"
     ]
    }
   ],
   "source": [
    "from ommx_quantum_benchmarks.qoblib import Routing\n",
    "\n",
    "dataset = Routing()\n",
    "print(f\"Available models: {dataset.model_names}\")\n",
    "for model in dataset.model_names:\n",
    "    instances = dataset.available_instances[model]\n",
    "    print(f\"{model}: {len(instances)} instances\")"
   ]
  },
  {
   "cell_type": "markdown",
   "id": "mynxdaz9bc7",
   "metadata": {},
   "source": [
    "## Topology (`10_topology`)\n",
    "\n",
    "**Problem Type**: Topology design  \n",
    "**Models**: Flow MIP, Seidel linear, Seidel quadratic  \n",
    "**Instances**: 16 instances per model (topology_15_3 - topology_50_4)"
   ]
  },
  {
   "cell_type": "code",
   "execution_count": 8,
   "id": "gngmnigjefn",
   "metadata": {},
   "outputs": [
    {
     "name": "stdout",
     "output_type": "stream",
     "text": [
      "Available models: ['flow_mip', 'seidel_linear', 'seidel_quadratic']\n",
      "flow_mip: 16 instances\n",
      "seidel_linear: 16 instances\n",
      "seidel_quadratic: 16 instances\n"
     ]
    }
   ],
   "source": [
    "from ommx_quantum_benchmarks.qoblib import Topology\n",
    "\n",
    "dataset = Topology()\n",
    "print(f\"Available models: {dataset.model_names}\")\n",
    "for model in dataset.model_names:\n",
    "    instances = dataset.available_instances[model]\n",
    "    print(f\"{model}: {len(instances)} instances\")"
   ]
  },
  {
   "cell_type": "markdown",
   "id": "d6fce736",
   "metadata": {},
   "source": [
    "## Other Dataset Categories\n",
    "\n",
    "The following dataset categories are defined in the framework but currently contain no instances. These represent problem types that may be expanded in future releases:\n",
    "\n",
    "- **Sports** (`05_sports`) - Mixed integer linear sports scheduling problems\n",
    "- **Portfolio** (`06_portfolio`) - Binary quadratic and quadratic unconstrained portfolio optimization\n",
    "\n",
    "**Note**: These datasets can be instantiated but will return empty instance lists. Check the `available_instances` property to see current availability.\n",
    "\n",
    "## Current Status Summary\n",
    "\n",
    "| Dataset | Models | Instance Count | Status |\n",
    "|---------|--------|----------------|---------|\n",
    "| Marketsplit | 2 | 120 per model | ✅ Available |\n",
    "| Labs | 2 | 99 per model | ✅ Available |\n",
    "| Birkhoff | 1 | 800 | ✅ Available |\n",
    "| Steiner | 1 | 31 | ✅ Available |\n",
    "| Sports | 1 | 0 | 🚧 Defined, no instances |\n",
    "| Portfolio | 2 | 0 | 🚧 Defined, no instances |\n",
    "| IndependentSet | 2 | 42 per model | ✅ Available |\n",
    "| Network | 1 | 20 | ✅ Available |\n",
    "| Routing | 1 | 55 | ✅ Available |\n",
    "| Topology | 3 | 16 per model | ✅ Available |\n",
    "\n",
    "**Legend**: \n",
    "- ✅ Available: Instances have been converted and are accessible\n",
    "- 🚧 Defined, no instances: Dataset classes exist but no instances are currently available"
   ]
  }
 ],
 "metadata": {
  "jupytext": {
   "cell_metadata_filter": "-all",
   "main_language": "python",
   "notebook_metadata_filter": "-all"
  },
  "kernelspec": {
   "display_name": "ommx-oblib",
   "language": "python",
   "name": "python3"
  },
  "language_info": {
   "codemirror_mode": {
    "name": "ipython",
    "version": 3
   },
   "file_extension": ".py",
   "mimetype": "text/x-python",
   "name": "python",
   "nbconvert_exporter": "python",
   "pygments_lexer": "ipython3",
   "version": "3.10.18"
  }
 },
 "nbformat": 4,
 "nbformat_minor": 5
}
