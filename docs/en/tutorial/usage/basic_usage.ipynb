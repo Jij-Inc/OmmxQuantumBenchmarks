{
 "cells": [
  {
   "cell_type": "markdown",
   "id": "e4207927",
   "metadata": {},
   "source": [
    "# Basic Usage\n",
    "\n",
    "This page covers common usage patterns and best practices when working with OMMX OBLIB.\n",
    "\n",
    "## Dataset Instantiation\n",
    "\n",
    "All dataset classes follow the same pattern:"
   ]
  },
  {
   "cell_type": "code",
   "execution_count": null,
   "id": "1107e1c3",
   "metadata": {},
   "outputs": [],
   "source": [
    "from ommx_quantum_benchmarks.qoblib import Marketsplit, Labs, Portfolio\n",
    "\n",
    "# Create dataset instances\n",
    "marketsplit = Marketsplit()\n",
    "labs = Labs()  \n",
    "portfolio = Portfolio()"
   ]
  },
  {
   "cell_type": "markdown",
   "id": "91526d1b",
   "metadata": {},
   "source": [
    "## Accessing Dataset Properties"
   ]
  },
  {
   "cell_type": "code",
   "execution_count": null,
   "id": "0f9f551c",
   "metadata": {},
   "outputs": [],
   "source": [
    "dataset = Marketsplit()\n",
    "\n",
    "# Basic information\n",
    "print(f\"Dataset ID: {dataset.name}\")\n",
    "print(f\"Description: {dataset.description}\")\n",
    "print(f\"Available models: {dataset.model_names}\")\n",
    "\n",
    "# Container registry information\n",
    "print(f\"Base URL: {dataset.base_url}\")\n",
    "print(f\"Model URLs: {dataset.model_url}\")"
   ]
  },
  {
   "cell_type": "markdown",
   "id": "11e87cb6",
   "metadata": {},
   "source": [
    "## Instance Management\n",
    "\n",
    "### Listing Available Instances"
   ]
  },
  {
   "cell_type": "code",
   "execution_count": null,
   "id": "a387cc5f",
   "metadata": {},
   "outputs": [],
   "source": [
    "# Get all instances for all models\n",
    "for model_name, instances in dataset.available_instances.items():\n",
    "    print(f\"Model '{model_name}': {len(instances)} instances\")\n",
    "    \n",
    "# Get instances for specific model\n",
    "binary_linear_instances = dataset.available_instances[\"binary_linear\"]\n",
    "print(f\"Binary linear instances: {binary_linear_instances[:5]}\")  # First 5"
   ]
  },
  {
   "cell_type": "markdown",
   "id": "eb9cef30",
   "metadata": {},
   "source": [
    "### Loading Specific Instances"
   ]
  },
  {
   "cell_type": "code",
   "execution_count": null,
   "id": "e0d01754",
   "metadata": {},
   "outputs": [],
   "source": [
    "# Load instance and solution\n",
    "model_name = \"binary_linear\"\n",
    "instance_name = \"ms_03_050_002\"\n",
    "\n",
    "try:\n",
    "    instance, solution = dataset(model_name, instance_name)\n",
    "    print(\"Successfully loaded instance and solution\")\n",
    "except FileNotFoundError as e:\n",
    "    print(f\"Instance not found: {e}\")\n",
    "except ValueError as e:\n",
    "    print(f\"Invalid model name: {e}\")"
   ]
  },
  {
   "cell_type": "markdown",
   "id": "865b319b",
   "metadata": {},
   "source": [
    "## Working with Solutions\n",
    "\n",
    "### Solution Validation"
   ]
  },
  {
   "cell_type": "code",
   "execution_count": null,
   "id": "c4482a85",
   "metadata": {},
   "outputs": [],
   "source": [
    "if solution is not None:\n",
    "    # Evaluate solution using the instance\n",
    "    evaluated = instance.evaluate(solution.state)\n",
    "    \n",
    "    # Compare original and evaluated solutions\n",
    "    obj_match = solution.objective == evaluated.objective\n",
    "    feas_match = solution.feasible == evaluated.feasible\n",
    "    state_match = solution.state.entries == evaluated.state.entries\n",
    "    \n",
    "    print(f\"Objective values match: {obj_match}\")\n",
    "    print(f\"Feasibility matches: {feas_match}\")\n",
    "    print(f\"State entries match: {state_match}\")"
   ]
  },
  {
   "cell_type": "markdown",
   "id": "73428c02",
   "metadata": {},
   "source": [
    "### Accessing Solution Data"
   ]
  },
  {
   "cell_type": "code",
   "execution_count": null,
   "id": "77041d5f",
   "metadata": {},
   "outputs": [],
   "source": [
    "if solution is not None:\n",
    "    print(f\"Objective value: {solution.objective}\")\n",
    "    print(f\"Is feasible: {solution.feasible}\")\n",
    "    print(f\"Number of variables: {len(solution.state.entries)}\")\n",
    "    \n",
    "    # Access variable assignments\n",
    "    for entry in solution.state.entries:\n",
    "        print(f\"Variable {entry.id}: {entry.value}\")"
   ]
  },
  {
   "cell_type": "markdown",
   "id": "6ba87511",
   "metadata": {},
   "source": [
    "## Error Handling Best Practices\n",
    "\n",
    "### Handle Missing Instances"
   ]
  },
  {
   "cell_type": "code",
   "execution_count": null,
   "id": "7c90e191",
   "metadata": {},
   "outputs": [],
   "source": [
    "def safe_load_instance(dataset, model_name, instance_name):\n",
    "    try:\n",
    "        return dataset(model_name, instance_name)\n",
    "    except FileNotFoundError:\n",
    "        print(f\"Instance {instance_name} not found in model {model_name}\")\n",
    "        # Show available alternatives\n",
    "        available = dataset.available_instances.get(model_name, [])\n",
    "        if available:\n",
    "            print(f\"Available instances: {available[:3]}...\")\n",
    "        return None, None\n",
    "    except ValueError as e:\n",
    "        print(f\"Invalid model name: {e}\")\n",
    "        print(f\"Available models: {dataset.model_names}\")\n",
    "        return None, None"
   ]
  },
  {
   "cell_type": "markdown",
   "id": "a1b35c3f",
   "metadata": {},
   "source": [
    "### Validate Model Names"
   ]
  },
  {
   "cell_type": "code",
   "execution_count": null,
   "id": "aaa079b9",
   "metadata": {},
   "outputs": [],
   "source": [
    "def validate_model(dataset, model_name):\n",
    "    if model_name not in dataset.model_names:\n",
    "        raise ValueError(f\"Model '{model_name}' not available. \"\n",
    "                        f\"Choose from: {dataset.model_names}\")\n",
    "    return True"
   ]
  },
  {
   "cell_type": "markdown",
   "id": "a2e8b82a",
   "metadata": {},
   "source": [
    "## Performance Tips\n",
    "\n",
    "### Reuse Dataset Instances"
   ]
  },
  {
   "cell_type": "code",
   "execution_count": null,
   "id": "0d61d331",
   "metadata": {},
   "outputs": [],
   "source": [
    "# Good: Reuse dataset instance\n",
    "dataset = Marketsplit()\n",
    "instances = []\n",
    "for instance_name in [\"ms_03_050_002\", \"ms_03_050_005\", \"ms_03_050_007\"]:\n",
    "    instance, solution = dataset(\"binary_linear\", instance_name)\n",
    "    instances.append((instance, solution))\n",
    "\n",
    "# Avoid: Creating new dataset instances repeatedly\n",
    "for instance_name in instance_names:\n",
    "    dataset = Marketsplit()  # Inefficient!\n",
    "    instance, solution = dataset(\"binary_linear\", instance_name)"
   ]
  },
  {
   "cell_type": "markdown",
   "id": "6f6188bf",
   "metadata": {},
   "source": [
    "### Batch Processing"
   ]
  },
  {
   "cell_type": "code",
   "execution_count": null,
   "id": "f7e8b637",
   "metadata": {},
   "outputs": [],
   "source": [
    "def load_all_instances(dataset, model_name, max_instances=None):\n",
    "    \\\"\\\"\\\"Load all available instances for a model.\\\"\\\"\\\"\n",
    "    instances = dataset.available_instances.get(model_name, [])\n",
    "    if max_instances:\n",
    "        instances = instances[:max_instances]\n",
    "    \n",
    "    loaded = []\n",
    "    for instance_name in instances:\n",
    "        try:\n",
    "            instance, solution = dataset(model_name, instance_name)\n",
    "            loaded.append((instance_name, instance, solution))\n",
    "        except Exception as e:\n",
    "            print(f\"Failed to load {instance_name}: {e}\")\n",
    "    \n",
    "    return loaded"
   ]
  }
 ],
 "metadata": {
  "jupytext": {
   "cell_metadata_filter": "-all",
   "main_language": "python",
   "notebook_metadata_filter": "-all"
  }
 },
 "nbformat": 4,
 "nbformat_minor": 5
}
