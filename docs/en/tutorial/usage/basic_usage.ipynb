{
 "cells": [
  {
   "cell_type": "markdown",
   "id": "e4207927",
   "metadata": {},
   "source": [
    "# Basic Usage\n",
    "\n",
    "This page covers common usage patterns and best practices when working with QOBLIB in OMMX format. Please refer [OMMX focumentation](https://jij-inc.github.io/ommx/en/introduction.html) as well."
   ]
  },
  {
   "cell_type": "markdown",
   "id": "f2d952dd",
   "metadata": {},
   "source": [
    "## Dataset Instantiation\n",
    "\n",
    "All dataset classes follow the same pattern:"
   ]
  },
  {
   "cell_type": "code",
   "execution_count": null,
   "id": "1107e1c3",
   "metadata": {},
   "outputs": [],
   "source": [
    "from ommx_quantum_benchmarks.qoblib import Marketsplit\n",
    "\n",
    "# Create dataset instance\n",
    "marketsplit = Marketsplit()"
   ]
  },
  {
   "cell_type": "markdown",
   "id": "91526d1b",
   "metadata": {},
   "source": [
    "## Accessing Dataset Properties"
   ]
  },
  {
   "cell_type": "code",
   "execution_count": null,
   "id": "0f9f551c",
   "metadata": {},
   "outputs": [],
   "source": [
    "dataset = Marketsplit()\n",
    "\n",
    "# Basic information\n",
    "print(f\"Dataset ID: {dataset.name}\")\n",
    "print(f\"Description: {dataset.description}\")\n",
    "print(f\"Available models: {dataset.model_names}\")\n",
    "\n",
    "# Container registry information\n",
    "print(f\"Base URL: {dataset.base_url}\")"
   ]
  },
  {
   "cell_type": "markdown",
   "id": "11e87cb6",
   "metadata": {},
   "source": [
    "## Instance Management\n",
    "\n",
    "### Listing Available Instances"
   ]
  },
  {
   "cell_type": "code",
   "execution_count": null,
   "id": "a387cc5f",
   "metadata": {},
   "outputs": [],
   "source": [
    "# Get all instances for all models\n",
    "for model_name, instances in dataset.available_instances.items():\n",
    "    print(f\"Model '{model_name}': {len(instances)} instances\")\n",
    "    \n",
    "# Get instances for specific model\n",
    "binary_linear_instances = dataset.available_instances[\"binary_linear\"]\n",
    "print(f\"Binary linear instances: {binary_linear_instances[:5]}\")  # First 5"
   ]
  },
  {
   "cell_type": "markdown",
   "id": "eb9cef30",
   "metadata": {},
   "source": [
    "### Loading Specific Instances"
   ]
  },
  {
   "cell_type": "code",
   "execution_count": null,
   "id": "e0d01754",
   "metadata": {},
   "outputs": [],
   "source": [
    "# Load instance and solution\n",
    "model_name = \"binary_linear\"\n",
    "instance_name = \"ms_03_050_002\"\n",
    "\n",
    "instance, solution = dataset(model_name, instance_name)\n",
    "print(\"Successfully loaded instance and solution\")"
   ]
  },
  {
   "cell_type": "markdown",
   "id": "865b319b",
   "metadata": {},
   "source": [
    "## Working with Solutions\n",
    "\n",
    "### Solution Validation"
   ]
  },
  {
   "cell_type": "code",
   "execution_count": null,
   "id": "c4482a85",
   "metadata": {},
   "outputs": [],
   "source": [
    "if solution is not None:\n",
    "    # Evaluate solution using the instance\n",
    "    evaluated = instance.evaluate(solution.state)\n",
    "    \n",
    "    # Compare original and evaluated solutions\n",
    "    obj_match = solution.objective == evaluated.objective\n",
    "    feas_match = solution.feasible == evaluated.feasible\n",
    "    state_match = solution.state.entries == evaluated.state.entries\n",
    "    \n",
    "    print(f\"Objective values match: {obj_match}\")\n",
    "    print(f\"Feasibility matches: {feas_match}\")\n",
    "    print(f\"State entries match: {state_match}\")"
   ]
  },
  {
   "cell_type": "markdown",
   "id": "73428c02",
   "metadata": {},
   "source": [
    "### Accessing Solution Data"
   ]
  },
  {
   "cell_type": "code",
   "execution_count": null,
   "id": "77041d5f",
   "metadata": {},
   "outputs": [],
   "source": [
    "if solution is not None:\n",
    "    print(f\"Objective value: {solution.objective}\")\n",
    "    print(f\"Is feasible: {solution.feasible}\")\n",
    "    print(f\"Number of variables: {len(solution.state.entries)}\")\n",
    "    \n",
    "    # Access variable assignments\n",
    "    for id, entry in solution.state.entries.items():\n",
    "        print(f\"Variable {id}: {entry}\")"
   ]
  },
  {
   "cell_type": "markdown",
   "id": "a5f225ed",
   "metadata": {},
   "source": [
    "## Note about Annotations\n",
    "The downloaded instance includes various annotations accessible via the `annotations` property.\n",
    "\n",
    "| Annotation | Property | Description |\n",
    "| --- | --- | --- |\n",
    "| `org.ommx.v1.instance.title` | `title` | The name of the instance |\n",
    "| `org.ommx.v1.instance.license` | `license` | The license of the dataset |\n",
    "| `org.ommx.v1.instance.dataset` | `dataset` | The name of the dataset to which this instance belongs |\n",
    "| `org.ommx.v1.instance.authors` | `authors` | The authors of the instnce |\n",
    "| `org.ommx.v1.instance.variables` | `num_variables` | The total nuimber of decision variables in the instance |\n",
    "| `org.ommx.v1.instance.constraints` | `num_constraints` | The total number of constraint conditions in the instance |\n",
    "\n",
    "So does solution.\n",
    "\n",
    "| Annotation | Property | Description |\n",
    "| --- | --- | --- |\n",
    "| `org.ommx.v1.solution.instance` | `instance` | The digest of the instance to which this solution applies |\n",
    "| `org.ommx.v1.solution.authors` | `authors` | The authors of the solution |"
   ]
  }
 ],
 "metadata": {
  "jupytext": {
   "cell_metadata_filter": "-all",
   "main_language": "python",
   "notebook_metadata_filter": "-all"
  },
  "kernelspec": {
   "display_name": "ommx-oblib",
   "language": "python",
   "name": "python3"
  },
  "language_info": {
   "codemirror_mode": {
    "name": "ipython",
    "version": 3
   },
   "file_extension": ".py",
   "mimetype": "text/x-python",
   "name": "python",
   "nbconvert_exporter": "python",
   "pygments_lexer": "ipython3",
   "version": "3.10.18"
  }
 },
 "nbformat": 4,
 "nbformat_minor": 5
}
