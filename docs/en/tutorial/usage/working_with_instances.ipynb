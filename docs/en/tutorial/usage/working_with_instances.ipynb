{
 "cells": [
  {
   "cell_type": "markdown",
   "id": "212d9762",
   "metadata": {},
   "source": [
    "# Working with Instances\n",
    "\n",
    "This guide covers advanced techniques for working with OMMX instances and solutions.\n",
    "\n",
    "## Understanding OMMX Format\n",
    "\n",
    "OMMX (Optimization Model Exchange) instances contain:\n",
    "- **Variables**: Decision variables with domains and bounds\n",
    "- **Objective**: Function to minimize or maximize  \n",
    "- **Constraints**: Feasibility conditions\n",
    "- **Metadata**: Problem information and annotations\n",
    "\n",
    "## Accessing Instance Data\n",
    "\n",
    "### Instance Properties"
   ]
  },
  {
   "cell_type": "code",
   "execution_count": null,
   "id": "c375a4d1",
   "metadata": {},
   "outputs": [],
   "source": "from ommx_quantum_benchmarks.qoblib import Marketsplit\n\ndataset = Marketsplit()\ninstance, solution = dataset(\"binary_linear\", \"ms_03_050_002\")\n\n# Basic instance information\nprint(f\"Instance type: {type(instance)}\")\nprint(f\"Has objective: {hasattr(instance, 'objective')}\")\nprint(f\"Has constraints: {hasattr(instance, 'constraints')}\")"
  },
  {
   "cell_type": "markdown",
   "id": "e5239846",
   "metadata": {},
   "source": [
    "### Variable Information"
   ]
  },
  {
   "cell_type": "code",
   "execution_count": null,
   "id": "16b527b1",
   "metadata": {},
   "outputs": [],
   "source": "# Access instance variables (implementation depends on OMMX structure)\n# This is a conceptual example - actual API may differ\nif hasattr(instance, 'variables'):\n    print(f\"Number of variables: {len(instance.variables)}\")\n    for var in instance.variables[:5]:  # First 5 variables\n        print(f\"Variable: {var}\")"
  },
  {
   "cell_type": "markdown",
   "id": "a5987603",
   "metadata": {},
   "source": [
    "## Solution Analysis\n",
    "\n",
    "### Solution Structure"
   ]
  },
  {
   "cell_type": "code",
   "execution_count": null,
   "id": "d4a53741",
   "metadata": {},
   "outputs": [],
   "source": "if solution is not None:\n    print(f\"Objective value: {solution.objective}\")\n    print(f\"Feasible: {solution.feasible}\")  \n    print(f\"State entries: {len(solution.state.entries)}\")\n    \n    # Examine variable assignments\n    for i, entry in enumerate(solution.state.entries[:10]):\n        print(f\"Variable {entry.id} = {entry.value}\")\n        if i >= 9:  # Limit output\n            break"
  },
  {
   "cell_type": "markdown",
   "id": "6cde7f04",
   "metadata": {},
   "source": [
    "### Solution Evaluation"
   ]
  },
  {
   "cell_type": "code",
   "execution_count": null,
   "id": "e003b6d9",
   "metadata": {},
   "outputs": [],
   "source": "# Evaluate solution with the instance\nevaluated = instance.evaluate(solution.state)\n\nprint(\"Comparison:\")\nprint(f\"Original objective: {solution.objective}\")\nprint(f\"Evaluated objective: {evaluated.objective}\")\nprint(f\"Difference: {abs(solution.objective - evaluated.objective)}\")\n\n# Check feasibility\nprint(f\"Original feasible: {solution.feasible}\")\nprint(f\"Evaluated feasible: {evaluated.feasible}\")"
  },
  {
   "cell_type": "markdown",
   "id": "9d173d6f",
   "metadata": {},
   "source": [
    "## Advanced Usage Patterns\n",
    "\n",
    "### Batch Loading with Error Handling"
   ]
  },
  {
   "cell_type": "code",
   "execution_count": null,
   "id": "cd48c0a4",
   "metadata": {},
   "outputs": [],
   "source": "def load_instances_safely(dataset, model_name, instance_names):\n    \\\"\\\"\\\"Load multiple instances with comprehensive error handling.\\\"\\\"\\\"\n    results = {}\n    errors = {}\n    \n    for name in instance_names:\n        try:\n            instance, solution = dataset(model_name, name)\n            results[name] = {\n                'instance': instance,\n                'solution': solution,\n                'has_solution': solution is not None\n            }\n        except Exception as e:\n            errors[name] = str(e)\n    \n    return results, errors\n\n# Usage\nmarketsplit = Marketsplit()\ninstance_names = [\"ms_03_050_002\", \"ms_03_050_005\", \"ms_04_050_001\"]\nresults, errors = load_instances_safely(marketsplit, \"binary_linear\", instance_names)\n\nprint(f\"Loaded: {len(results)} instances\")\nprint(f\"Errors: {len(errors)} instances\")"
  },
  {
   "cell_type": "markdown",
   "id": "405deb46",
   "metadata": {},
   "source": [
    "### Solution Quality Analysis"
   ]
  },
  {
   "cell_type": "code",
   "execution_count": null,
   "id": "73773424",
   "metadata": {},
   "outputs": [],
   "source": "def analyze_solution_quality(dataset, model_name, instance_names):\n    \\\"\\\"\\\"Analyze solution quality across multiple instances.\\\"\\\"\\\"\n    analysis = []\n    \n    for name in instance_names:\n        try:\n            instance, solution = dataset(model_name, name)\n            if solution is None:\n                continue\n                \n            evaluated = instance.evaluate(solution.state)\n            \n            # Check consistency\n            obj_consistent = abs(solution.objective - evaluated.objective) < 1e-10\n            feas_consistent = solution.feasible == evaluated.feasible\n            \n            analysis.append({\n                'instance': name,\n                'objective': solution.objective,\n                'feasible': solution.feasible,\n                'obj_consistent': obj_consistent,\n                'feas_consistent': feas_consistent,\n                'num_variables': len(solution.state.entries)\n            })\n            \n        except Exception as e:\n            print(f\"Error processing {name}: {e}\")\n    \n    return analysis\n\n# Usage and analysis\nresults = analyze_solution_quality(\n    marketsplit, \n    \"binary_linear\", \n    marketsplit.available_instances[\"binary_linear\"][:10]\n)\n\n# Summary statistics\ntotal = len(results)\nconsistent_obj = sum(1 for r in results if r['obj_consistent'])\nconsistent_feas = sum(1 for r in results if r['feas_consistent'])\nfeasible_count = sum(1 for r in results if r['feasible'])\n\nprint(f\"Total instances analyzed: {total}\")\nprint(f\"Objective consistency: {consistent_obj}/{total}\")\nprint(f\"Feasibility consistency: {consistent_feas}/{total}\")\nprint(f\"Feasible solutions: {feasible_count}/{total}\")"
  },
  {
   "cell_type": "markdown",
   "id": "8211b279",
   "metadata": {},
   "source": [
    "### Performance Benchmarking Setup"
   ]
  },
  {
   "cell_type": "code",
   "execution_count": null,
   "id": "9fb0b456",
   "metadata": {},
   "outputs": [],
   "source": "import time\n\ndef benchmark_loading_time(dataset, model_name, num_instances=10):\n    \\\"\\\"\\\"Benchmark instance loading performance.\\\"\\\"\\\"\n    available = dataset.available_instances[model_name]\n    test_instances = available[:num_instances]\n    \n    times = []\n    for instance_name in test_instances:\n        start = time.time()\n        try:\n            instance, solution = dataset(model_name, instance_name)\n            load_time = time.time() - start\n            times.append(load_time)\n        except Exception as e:\n            print(f\"Failed to load {instance_name}: {e}\")\n    \n    if times:\n        avg_time = sum(times) / len(times)\n        print(f\"Average loading time: {avg_time:.3f} seconds\")\n        print(f\"Total time for {len(times)} instances: {sum(times):.3f} seconds\")\n        print(f\"Min time: {min(times):.3f}s, Max time: {max(times):.3f}s\")\n    \n    return times\n\n# Benchmark different datasets\ndatasets = {\n    'Marketsplit': Marketsplit(),\n    'Labs': Labs()\n}\n\nfor name, dataset in datasets.items():\n    print(f\"\\\\nBenchmarking {name}:\")\n    if dataset.available_instances:\n        model = list(dataset.available_instances.keys())[0]\n        benchmark_loading_time(dataset, model, 5)\n    else:\n        print(\"No instances available\")"
  },
  {
   "cell_type": "markdown",
   "id": "009341b7",
   "metadata": {},
   "source": [
    "## Integration with Optimization Solvers\n",
    "\n",
    "### Preparing Data for External Solvers"
   ]
  },
  {
   "cell_type": "code",
   "execution_count": null,
   "id": "ce687d03",
   "metadata": {},
   "outputs": [],
   "source": "def extract_problem_data(instance):\n    \\\"\\\"\\\"Extract problem data for use with external solvers.\\\"\\\"\\\"\n    # This is conceptual - actual implementation depends on OMMX structure\n    problem_data = {\n        'variables': [],\n        'objective': None,\n        'constraints': [],\n        'bounds': []\n    }\n    \n    # Extract variable information\n    # if hasattr(instance, 'variables'):\n    #     for var in instance.variables:\n    #         problem_data['variables'].append({\n    #             'name': var.name,\n    #             'type': var.type,  # binary, integer, continuous\n    #             'bounds': (var.lower_bound, var.upper_bound)\n    #         })\n    \n    return problem_data\n\n# Usage\ninstance, _ = marketsplit(\"binary_linear\", \"ms_03_050_002\")\n# problem_data = extract_problem_data(instance)\n# print(f\"Extracted data: {problem_data}\")"
  },
  {
   "cell_type": "markdown",
   "id": "7d805637",
   "metadata": {},
   "source": [
    "This advanced guide should help you work effectively with OMMX instances and solutions for research and optimization tasks."
   ]
  }
 ],
 "metadata": {
  "jupytext": {
   "cell_metadata_filter": "-all",
   "main_language": "python",
   "notebook_metadata_filter": "-all"
  }
 },
 "nbformat": 4,
 "nbformat_minor": 5
}