{
 "cells": [
  {
   "cell_type": "markdown",
   "id": "d4e5097a",
   "metadata": {},
   "source": [
    "# QOBLIB Overview\n",
    "\n",
    "This example demonstrates how to work with datasets qoblib in this package."
   ]
  },
  {
   "cell_type": "markdown",
   "id": "470ef640",
   "metadata": {},
   "source": [
    "## Current Status Summary\n",
    "\n",
    "| Dataset | Models | Instance Count | Status |\n",
    "|---------|--------|----------------|---------|\n",
    "| Marketsplit | 2 | 120 per model | ✅ Available |\n",
    "| Labs | 2 | 99 per model | ✅ Available |\n",
    "| Birkhoff | 1 | 800 | ✅ Available |\n",
    "| Steiner | 1 | 31 | ✅ Available |\n",
    "| Sports | 1 | 0 | 🚧 Defined, no instances |\n",
    "| Portfolio | 2 | 0 | 🚧 Defined, no instances |\n",
    "| IndependentSet | 2 | 42 per model | ✅ Available |\n",
    "| Network | 1 | 20 | ✅ Available |\n",
    "| Routing | 1 | 55 | ✅ Available |\n",
    "| Topology | 3 | 16 per model | ✅ Available |\n",
    "\n",
    "**Legend**: \n",
    "- ✅ Available: Instances have been converted and are accessible\n",
    "- 🚧 Defined, no instances: Dataset classes exist but no instances are currently available"
   ]
  },
  {
   "cell_type": "markdown",
   "id": "04f1f351",
   "metadata": {},
   "source": [
    "## Common Usage Pattern for QOBLIB Datasets\n",
    "\n",
    "All QOBLIB datasets follow this consistent interface:\n",
    "\n",
    "```python\n",
    "from ommx_quantum_benchmarks.qoblib import DatasetName\n",
    "\n",
    "# Instantiate any dataset\n",
    "dataset = DatasetName()\n",
    "\n",
    "# Check properties\n",
    "print(f\"Name: {dataset.name}\")\n",
    "print(f\"Models: {dataset.model_names}\")\n",
    "print(f\"Available instances: {dataset.available_instances}\")\n",
    "\n",
    "# Load instance and solution (if available)\n",
    "if dataset.available_instances[model_name]:\n",
    "    instance, solution = dataset(model_name, instance_name)\n",
    "```"
   ]
  },
  {
   "cell_type": "markdown",
   "id": "57b6dda2",
   "metadata": {},
   "source": [
    "## Individual Datasets"
   ]
  },
  {
   "cell_type": "markdown",
   "id": "03a7ca6d",
   "metadata": {},
   "source": [
    "### Marketsplit (`01_marketsplit`)\n",
    "\n",
    "**Problem Type**: Market split optimization problems  \n",
    "**Models**: Binary linear, Binary unconstrained  \n",
    "**Instances**: 120 instances per model (ms_03_050_002 - ms_15_200_003)"
   ]
  },
  {
   "cell_type": "code",
   "execution_count": 23,
   "id": "c00ca97c",
   "metadata": {},
   "outputs": [
    {
     "name": "stdout",
     "output_type": "stream",
     "text": [
      "Available models: ['binary_linear', 'binary_unconstrained']\n",
      "binary_linear: 156 instances\n",
      "binary_unconstrained: 156 instances\n",
      "Instance type: <class 'ommx.v1.Instance'>\n",
      "The number of variables: 23\n",
      "The number of constraints: 3\n",
      "Solution available: True\n",
      "Objective value: 0.0\n",
      "Feasible: True\n",
      "Number of variables: 23\n"
     ]
    }
   ],
   "source": [
    "from ommx_quantum_benchmarks.qoblib import Marketsplit\n",
    "\n",
    "dataset = Marketsplit()\n",
    "print(f\"Available models: {dataset.model_names}\")\n",
    "for model in dataset.model_names:\n",
    "    instances = dataset.available_instances[model]\n",
    "    print(f\"{model}: {len(instances)} instances\")\n",
    "\n",
    "(instance, solution) = dataset(\"binary_linear\", \"ms_03_050_002\")\n",
    "# Show the info.\n",
    "print(f\"Instance type: {type(instance)}\")\n",
    "print(f\"The number of variables: {instance.num_variables}\")\n",
    "print(f\"The number of constraints: {instance.num_constraints}\")\n",
    "print(f\"Solution available: {solution is not None}\")\n",
    "# If a solution is available, show its details.\n",
    "if solution:\n",
    "    print(f\"Objective value: {solution.objective}\")\n",
    "    print(f\"Feasible: {solution.feasible}\")\n",
    "    print(f\"Number of variables: {len(solution.state.entries)}\")"
   ]
  },
  {
   "cell_type": "markdown",
   "id": "539bd0e3",
   "metadata": {},
   "source": [
    "### Labs (`02_labs`)\n",
    "\n",
    "**Problem Type**: Low autocorrelation binary sequences  \n",
    "**Models**: Integer, Quadratic unconstrained  \n",
    "**Instances**: 99 instances (labs002 - labs100)"
   ]
  },
  {
   "cell_type": "code",
   "execution_count": 32,
   "id": "ad9813c0",
   "metadata": {},
   "outputs": [
    {
     "name": "stdout",
     "output_type": "stream",
     "text": [
      "Available models: ['integer', 'quadratic_unconstrained']\n",
      "integer: 99 instances\n",
      "quadratic_unconstrained: 99 instances\n",
      "Instance type: <class 'ommx.v1.Instance'>\n",
      "The number of variables: 3\n",
      "The number of constraints: 1\n",
      "Solution available: True\n",
      "Objective value: 1.0\n",
      "Feasible: True\n",
      "Number of variables: 3\n"
     ]
    }
   ],
   "source": [
    "from ommx_quantum_benchmarks.qoblib import Labs\n",
    "\n",
    "dataset = Labs()\n",
    "print(f\"Available models: {dataset.model_names}\")\n",
    "for model in dataset.model_names:\n",
    "    instances = dataset.available_instances[model]\n",
    "    print(f\"{model}: {len(instances)} instances\")\n",
    "\n",
    "(instance, solution) = dataset(\"integer\", \"labs002\")\n",
    "# Show the info.\n",
    "print(f\"Instance type: {type(instance)}\")\n",
    "print(f\"The number of variables: {instance.num_variables}\")\n",
    "print(f\"The number of constraints: {instance.num_constraints}\")\n",
    "print(f\"Solution available: {solution is not None}\")\n",
    "# If a solution is available, show its details.\n",
    "if solution:\n",
    "    print(f\"Objective value: {solution.objective}\")\n",
    "    print(f\"Feasible: {solution.feasible}\")\n",
    "    print(f\"Number of variables: {len(solution.state.entries)}\")"
   ]
  },
  {
   "cell_type": "markdown",
   "id": "bbf6ea00",
   "metadata": {},
   "source": [
    "### Birkhoff (`03_birkhoff`)\n",
    "\n",
    "**Problem Type**: Minimum birkhoff decomposition  \n",
    "**Models**: Integer linear  \n",
    "**Instances**: 800 instances (bhD-3-001 - bhS-6-100)"
   ]
  },
  {
   "cell_type": "code",
   "execution_count": 25,
   "id": "76b48cf1",
   "metadata": {},
   "outputs": [
    {
     "name": "stdout",
     "output_type": "stream",
     "text": [
      "Available models: ['integer_linear']\n",
      "integer_linear: 800 instances\n",
      "Instance type: <class 'ommx.v1.Instance'>\n",
      "The number of variables: 12\n",
      "The number of constraints: 16\n",
      "Solution available: True\n",
      "Objective value: 5.0\n",
      "Feasible: True\n",
      "Number of variables: 12\n"
     ]
    }
   ],
   "source": [
    "from ommx_quantum_benchmarks.qoblib import Birkhoff\n",
    "\n",
    "dataset = Birkhoff()\n",
    "print(f\"Available models: {dataset.model_names}\")\n",
    "for model in dataset.model_names:\n",
    "    instances = dataset.available_instances[model]\n",
    "    print(f\"{model}: {len(instances)} instances\")\n",
    "\n",
    "(instance, solution) = dataset(\"integer_linear\", \"bhD-3-001\")\n",
    "# Show the info.\n",
    "print(f\"Instance type: {type(instance)}\")\n",
    "print(f\"The number of variables: {instance.num_variables}\")\n",
    "print(f\"The number of constraints: {instance.num_constraints}\")\n",
    "print(f\"Solution available: {solution is not None}\")\n",
    "# If a solution is available, show its details.\n",
    "if solution:\n",
    "    print(f\"Objective value: {solution.objective}\")\n",
    "    print(f\"Feasible: {solution.feasible}\")\n",
    "    print(f\"Number of variables: {len(solution.state.entries)}\")"
   ]
  },
  {
   "cell_type": "markdown",
   "id": "922c1cd1",
   "metadata": {},
   "source": [
    "### Steiner (`04_steiner`)\n",
    "\n",
    "**Problem Type**: Steiner tree packing problem  \n",
    "**Models**: Integer linear  \n",
    "**Instances**: 31 instances (stp_s020_l2_t3_h2_rs24098 - stp_s040_l2_t4_h3_rs123)"
   ]
  },
  {
   "cell_type": "code",
   "execution_count": 26,
   "id": "46eaa1d3",
   "metadata": {},
   "outputs": [
    {
     "name": "stdout",
     "output_type": "stream",
     "text": [
      "Available models: ['integer_linear']\n",
      "integer_linear: 31 instances\n",
      "Instance type: <class 'ommx.v1.Instance'>\n",
      "The number of variables: 78476\n",
      "The number of constraints: 41381\n",
      "Solution available: True\n",
      "Objective value: 228.0\n",
      "Feasible: True\n",
      "Number of variables: 78476\n"
     ]
    }
   ],
   "source": [
    "from ommx_quantum_benchmarks.qoblib import Steiner\n",
    "\n",
    "dataset = Steiner()\n",
    "print(f\"Available models: {dataset.model_names}\")\n",
    "for model in dataset.model_names:\n",
    "    instances = dataset.available_instances[model]\n",
    "    print(f\"{model}: {len(instances)} instances\")\n",
    "\n",
    "(instance, solution) = dataset(\"integer_linear\", \"stp_s020_l2_t3_h2_rs24098\")\n",
    "# Show the info.\n",
    "print(f\"Instance type: {type(instance)}\")\n",
    "print(f\"The number of variables: {instance.num_variables}\")\n",
    "print(f\"The number of constraints: {instance.num_constraints}\")\n",
    "print(f\"Solution available: {solution is not None}\")\n",
    "# If a solution is available, show its details.\n",
    "if solution:\n",
    "    print(f\"Objective value: {solution.objective}\")\n",
    "    print(f\"Feasible: {solution.feasible}\")\n",
    "    print(f\"Number of variables: {len(solution.state.entries)}\")"
   ]
  },
  {
   "cell_type": "markdown",
   "id": "01571d05",
   "metadata": {},
   "source": [
    "### Sports (`05_sports`)\n",
    "\n",
    "**Problem Type**: Sports scheduling problems  \n",
    "**Models**: Mixed integer linear  \n",
    "**Instances**: 0 instances at the moment"
   ]
  },
  {
   "cell_type": "markdown",
   "id": "39729a42",
   "metadata": {},
   "source": [
    "### Portfolio (`06_portfolio`)\n",
    "\n",
    "**Problem Type**: Portfolio optimisation  \n",
    "**Models**: Binary quadratic and quadratic unconstrained  \n",
    "**Instances**: 0 instances at the moment"
   ]
  },
  {
   "cell_type": "markdown",
   "id": "ce767ba5",
   "metadata": {},
   "source": [
    "### Independent Set (`07_independentset`)\n",
    "\n",
    "**Problem Type**: Maximum independent set problems  \n",
    "**Models**: Binary linear, Binary unconstrained  \n",
    "**Instances**: 42 instances per model"
   ]
  },
  {
   "cell_type": "code",
   "execution_count": 27,
   "id": "2317c35b",
   "metadata": {},
   "outputs": [
    {
     "name": "stdout",
     "output_type": "stream",
     "text": [
      "Available models: ['binary_linear', 'binary_unconstrained']\n",
      "binary_linear: 42 instances\n",
      "binary_unconstrained: 42 instances\n",
      "Instance type: <class 'ommx.v1.Instance'>\n",
      "The number of variables: 52\n",
      "The number of constraints: 454\n",
      "Solution available: True\n",
      "Objective value: 13.0\n",
      "Feasible: True\n",
      "Number of variables: 52\n"
     ]
    }
   ],
   "source": [
    "from ommx_quantum_benchmarks.qoblib import IndependentSet\n",
    "\n",
    "dataset = IndependentSet()\n",
    "print(f\"Available models: {dataset.model_names}\")\n",
    "for model in dataset.model_names:\n",
    "    instances = dataset.available_instances[model]\n",
    "    print(f\"{model}: {len(instances)} instances\")\n",
    "\n",
    "(instance, solution) = dataset(\"binary_linear\", \"aves-sparrow-social\")\n",
    "# Show the info.\n",
    "print(f\"Instance type: {type(instance)}\")\n",
    "print(f\"The number of variables: {instance.num_variables}\")\n",
    "print(f\"The number of constraints: {instance.num_constraints}\")\n",
    "print(f\"Solution available: {solution is not None}\")\n",
    "# If a solution is available, show its details.\n",
    "if solution:\n",
    "    print(f\"Objective value: {solution.objective}\")\n",
    "    print(f\"Feasible: {solution.feasible}\")\n",
    "    print(f\"Number of variables: {len(solution.state.entries)}\")"
   ]
  },
  {
   "cell_type": "markdown",
   "id": "b9477b9e",
   "metadata": {},
   "source": [
    "### Network (`08_network`)\n",
    "\n",
    "**Problem Type**: Network design  \n",
    "**Models**: Integer LP  \n",
    "**Instances**: 20 instances"
   ]
  },
  {
   "cell_type": "code",
   "execution_count": 28,
   "id": "cd904859",
   "metadata": {},
   "outputs": [
    {
     "name": "stdout",
     "output_type": "stream",
     "text": [
      "Available models: ['integer_lp']\n",
      "integer_lp: 20 instances\n",
      "Instance type: <class 'ommx.v1.Instance'>\n",
      "The number of variables: 151\n",
      "The number of constraints: 130\n",
      "Solution available: True\n",
      "Objective value: 65500.0\n",
      "Feasible: True\n",
      "Number of variables: 151\n"
     ]
    }
   ],
   "source": [
    "from ommx_quantum_benchmarks.qoblib import Network\n",
    "\n",
    "dataset = Network()\n",
    "print(f\"Available models: {dataset.model_names}\")\n",
    "for model in dataset.model_names:\n",
    "    instances = dataset.available_instances[model]\n",
    "    print(f\"{model}: {len(instances)} instances\")\n",
    "\n",
    "(instance, solution) = dataset(\"integer_lp\", \"network05\")\n",
    "# Show the info.\n",
    "print(f\"Instance type: {type(instance)}\")\n",
    "print(f\"The number of variables: {instance.num_variables}\")\n",
    "print(f\"The number of constraints: {instance.num_constraints}\")\n",
    "print(f\"Solution available: {solution is not None}\")\n",
    "# If a solution is available, show its details.\n",
    "if solution:\n",
    "    print(f\"Objective value: {solution.objective}\")\n",
    "    print(f\"Feasible: {solution.feasible}\")\n",
    "    print(f\"Number of variables: {len(solution.state.entries)}\")"
   ]
  },
  {
   "cell_type": "markdown",
   "id": "f79fa203",
   "metadata": {},
   "source": [
    "### Routing (`09_routing`)\n",
    "\n",
    "**Problem Type**: Vehicle routing  \n",
    "**Models**: Integer linear  \n",
    "**Instances**: 55 instances"
   ]
  },
  {
   "cell_type": "code",
   "execution_count": 29,
   "id": "b4051709",
   "metadata": {},
   "outputs": [
    {
     "name": "stdout",
     "output_type": "stream",
     "text": [
      "Available models: ['integer_linear']\n",
      "integer_linear: 55 instances\n",
      "Instance type: <class 'ommx.v1.Instance'>\n",
      "The number of variables: 462\n",
      "The number of constraints: 483\n",
      "Solution available: True\n",
      "Objective value: 646.0\n",
      "Feasible: True\n",
      "Number of variables: 462\n"
     ]
    }
   ],
   "source": [
    "from ommx_quantum_benchmarks.qoblib import Routing\n",
    "\n",
    "dataset = Routing()\n",
    "print(f\"Available models: {dataset.model_names}\")\n",
    "for model in dataset.model_names:\n",
    "    instances = dataset.available_instances[model]\n",
    "    print(f\"{model}: {len(instances)} instances\")\n",
    "\n",
    "(instance, solution) = dataset(\"integer_linear\", \"XSH-n20-k4-01\")\n",
    "# Show the info.\n",
    "print(f\"Instance type: {type(instance)}\")\n",
    "print(f\"The number of variables: {instance.num_variables}\")\n",
    "print(f\"The number of constraints: {instance.num_constraints}\")\n",
    "print(f\"Solution available: {solution is not None}\")\n",
    "# If a solution is available, show its details.\n",
    "if solution:\n",
    "    print(f\"Objective value: {solution.objective}\")\n",
    "    print(f\"Feasible: {solution.feasible}\")\n",
    "    print(f\"Number of variables: {len(solution.state.entries)}\")"
   ]
  },
  {
   "cell_type": "markdown",
   "id": "05e24140",
   "metadata": {},
   "source": [
    "### Topology (`10_topology`)\n",
    "\n",
    "**Problem Type**: Topology design  \n",
    "**Models**: Flow MIP, Seidel linear, Seidel quadratic  \n",
    "**Instances**: 16 instances per model"
   ]
  },
  {
   "cell_type": "code",
   "execution_count": 30,
   "id": "650461c0",
   "metadata": {},
   "outputs": [
    {
     "name": "stdout",
     "output_type": "stream",
     "text": [
      "Available models: ['flow_mip', 'seidel_linear', 'seidel_quadratic']\n",
      "flow_mip: 16 instances\n",
      "seidel_linear: 16 instances\n",
      "seidel_quadratic: 16 instances\n",
      "Instance type: <class 'ommx.v1.Instance'>\n",
      "The number of variables: 51076\n",
      "The number of constraints: 23850\n",
      "Solution available: True\n",
      "Objective value: 3.0\n",
      "Feasible: True\n",
      "Number of variables: 51076\n"
     ]
    }
   ],
   "source": [
    "from ommx_quantum_benchmarks.qoblib import Topology\n",
    "\n",
    "dataset = Topology()\n",
    "print(f\"Available models: {dataset.model_names}\")\n",
    "for model in dataset.model_names:\n",
    "    instances = dataset.available_instances[model]\n",
    "    print(f\"{model}: {len(instances)} instances\")\n",
    "\n",
    "(instance, solution) = dataset(\"flow_mip\", \"topology_15_3\")\n",
    "# Show the info.\n",
    "print(f\"Instance type: {type(instance)}\")\n",
    "print(f\"The number of variables: {instance.num_variables}\")\n",
    "print(f\"The number of constraints: {instance.num_constraints}\")\n",
    "print(f\"Solution available: {solution is not None}\")\n",
    "# If a solution is available, show its details.\n",
    "if solution:\n",
    "    print(f\"Objective value: {solution.objective}\")\n",
    "    print(f\"Feasible: {solution.feasible}\")\n",
    "    print(f\"Number of variables: {len(solution.state.entries)}\")"
   ]
  },
  {
   "cell_type": "markdown",
   "id": "c024ddc6",
   "metadata": {},
   "source": [
    "## Note about Annotations\n",
    "The downloaded instance includes various annotations accessible via the `annotations` property.\n",
    "\n",
    "| Annotation | Property | Description |\n",
    "| --- | --- | --- |\n",
    "| `org.ommx.v1.instance.title` | `title` | The name of the instance |\n",
    "| `org.ommx.v1.instance.license` | `license` | The license of the dataset |\n",
    "| `org.ommx.v1.instance.dataset` | `dataset` | The name of the dataset to which this instance belongs |\n",
    "| `org.ommx.v1.instance.authors` | `authors` | The authors of the instnce |\n",
    "| `org.ommx.v1.instance.variables` | `num_variables` | The total nuimber of decision variables in the instance |\n",
    "| `org.ommx.v1.instance.constraints` | `num_constraints` | The total number of constraint conditions in the instance |\n",
    "\n",
    "So does solution.\n",
    "\n",
    "| Annotation | Property | Description |\n",
    "| --- | --- | --- |\n",
    "| `org.ommx.v1.solution.instance` | `instance` | The digest of the instance to which this solution applies |"
   ]
  }
 ],
 "metadata": {
  "jupytext": {
   "cell_metadata_filter": "-all",
   "main_language": "python",
   "notebook_metadata_filter": "-all"
  },
  "kernelspec": {
   "display_name": "ommx-oblib",
   "language": "python",
   "name": "python3"
  },
  "language_info": {
   "codemirror_mode": {
    "name": "ipython",
    "version": 3
   },
   "file_extension": ".py",
   "mimetype": "text/x-python",
   "name": "python",
   "nbconvert_exporter": "python",
   "pygments_lexer": "ipython3",
   "version": "3.10.18"
  }
 },
 "nbformat": 4,
 "nbformat_minor": 5
}
