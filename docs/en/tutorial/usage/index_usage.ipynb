{
 "cells": [
  {
   "cell_type": "markdown",
   "id": "81772941",
   "metadata": {},
   "source": [
    "# Usage Guide\n",
    "\n",
    "This section provides detailed information about working with the quantum optimization benchmark datasets available through OMMX Quantum Benchmarks.\n",
    "\n",
    "## Overview\n",
    "\n",
    "OMMX Quantum Benchmarks provides access to optimization benchmark datasets converted to OMMX format. Currently, this includes selected datasets from the QOBLIB repository, with plans to expand to additional benchmark sources. The available datasets follow a consistent interface pattern:\n",
    "\n",
    "1. **Dataset Classes**: Each problem category has its own class (e.g., `Marketsplit`, `Labs`, `Portfolio`)\n",
    "2. **Model Types**: Each dataset supports different model formulations (e.g., binary linear, quadratic unconstrained)\n",
    "3. **Instance Loading**: Access specific problem instances using the dataset call interface\n",
    "4. **Solution Evaluation**: Verify and work with provided optimal or near-optimal solutions\n",
    "\n",
    "## Key Concepts\n",
    "\n",
    "### Datasets\n",
    "A dataset represents a collection of related optimization problems. Each dataset has:\n",
    "- A unique name and description\n",
    "- Multiple model formulations\n",
    "- Available instances for each model\n",
    "- Standardized access methods\n",
    "\n",
    "### Models\n",
    "Different mathematical formulations of the same problem type:\n",
    "- **Binary Linear**: Binary variables with linear constraints\n",
    "- **Binary Unconstrained**: Binary variables without constraints  \n",
    "- **Integer Linear**: Integer variables with linear constraints\n",
    "- **Quadratic Unconstrained**: Quadratic objective without constraints\n",
    "- **Mixed Integer Linear**: Mix of continuous and integer variables\n",
    "\n",
    "### Instances\n",
    "Specific problem instances within a dataset, each with:\n",
    "- Unique identifier (instance name)\n",
    "- Problem data in OMMX format\n",
    "- Optional optimal or best-known solution\n",
    "\n",
    "## Working with Datasets\n",
    "\n",
    "### Basic Dataset Information"
   ]
  },
  {
   "cell_type": "code",
   "execution_count": null,
   "id": "0f05af79",
   "metadata": {},
   "outputs": [],
   "source": [
    "from ommx_quantum_benchmarks.qoblib import Marketsplit\n",
    "\n",
    "dataset = Marketsplit()\n",
    "print(f\"Name: {dataset.name}\")\n",
    "print(f\"Models: {dataset.model_names}\")  \n",
    "print(f\"Description: {dataset.description}\")"
   ]
  },
  {
   "cell_type": "markdown",
   "id": "d8b93842",
   "metadata": {},
   "source": [
    "### Exploring Available Instances"
   ]
  },
  {
   "cell_type": "code",
   "execution_count": null,
   "id": "cb34756a",
   "metadata": {},
   "outputs": [],
   "source": [
    "# Get all available instances\n",
    "for model, instances in dataset.available_instances.items():\n",
    "    print(f\"{model}: {len(instances)} instances\")\n",
    "    \n",
    "# Check if specific instance exists\n",
    "model_name = \"binary_linear\"\n",
    "if \"ms_03_050_002\" in dataset.available_instances[model_name]:\n",
    "    print(\"Instance found!\")"
   ]
  },
  {
   "cell_type": "markdown",
   "id": "aeaf2d1e",
   "metadata": {},
   "source": [
    "### Loading Instances and Solutions"
   ]
  },
  {
   "cell_type": "code",
   "execution_count": null,
   "id": "b04477c4",
   "metadata": {},
   "outputs": [],
   "source": [
    "# Load instance and solution\n",
    "instance, solution = dataset(model_name, instance_name)\n",
    "\n",
    "# Check if solution is available\n",
    "if solution is not None:\n",
    "    print(f\"Solution objective: {solution.objective}\")\n",
    "    print(f\"Solution feasible: {solution.feasible}\")\n",
    "else:\n",
    "    print(\"No solution available for this instance\")"
   ]
  },
  {
   "cell_type": "markdown",
   "id": "428e3100",
   "metadata": {},
   "source": [
    "## Next Topics\n",
    "\n",
    "- [Basic Usage](basic_usage.md) - Common patterns and best practices\n",
    "- [Dataset Overview](dataset_overview.md) - Detailed information about each dataset\n",
    "- [Working with Instances](working_with_instances.md) - Advanced instance manipulation"
   ]
  }
 ],
 "metadata": {
  "jupytext": {
   "cell_metadata_filter": "-all",
   "main_language": "python",
   "notebook_metadata_filter": "-all"
  }
 },
 "nbformat": 4,
 "nbformat_minor": 5
}
