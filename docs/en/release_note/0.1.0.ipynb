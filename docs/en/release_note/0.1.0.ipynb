{
 "cells": [
  {
   "cell_type": "markdown",
   "id": "8ecdc601",
   "metadata": {},
   "source": [
    "# Release Notes\n",
    "\n",
    "## Version 0.1.0\n",
    "\n",
    "**Initial Release - QOBLIB Dataset Collection**\n",
    "\n",
    "### Overview\n",
    "This initial release establishes OMMX Quantum Benchmarks as a collection of optimization benchmark datasets in OMMX format. The first collection includes selected datasets from the [QOBLIB (Quantum Optimization Benchmarking Library)](https://git.zib.de/qopt/qoblib-quantum-optimization-benchmarking-library).\n",
    "\n",
    "**Scope**: This release focuses on QOBLIB datasets, with framework designed to accommodate additional benchmark sources in future releases.\n",
    "\n",
    "### Features\n",
    "- Python API for accessing quantum optimization benchmark datasets\n",
    "- OMMX format conversion and standardization\n",
    "- GitHub Container Registry integration for distributed data access\n",
    "- Consistent interface across all dataset categories\n",
    "- Comprehensive documentation with usage guides and examples\n",
    "- Bilingual documentation (English and Japanese)\n",
    "\n",
    "### Documentation\n",
    "- **Quick Start Guide**: Installation instructions and basic usage examples\n",
    "- **Usage Guide**: \n",
    "  - QOBLIB collections and dataset access patterns\n",
    "- **Examples**: \n",
    "  - QOBLIB with SCIP solver integration\n",
    "- **API Reference**: Complete documentation of the Python API\n",
    "\n",
    "### Currently Available Data\n",
    "**From QOBLIB Collection**:\n",
    "- **Marketsplit** (01): 120 instances per model for binary linear and binary unconstrained formulations\n",
    "- **Labs** (02): 99 instances per model for integer and quadratic unconstrained formulations\n",
    "- **Birkhoff** (03): 800 instances with integer linear formulations\n",
    "- **Steiner** (04): 31 instances with integer linear formulations\n",
    "- **Independent Set** (07): 42 instances per model for binary linear and binary unconstrained formulations\n",
    "- **Network** (08): 20 instances for integer LP formulations\n",
    "- **Routing** (09): 55 instances for integer linear formulations\n",
    "- **Topology** (10): 16 instances per model for flow MIP, Seidel linear, and Seidel quadratic formulations\n",
    "\n",
    "**Framework Defined for Future Expansion**:\n",
    "- **Sports** (05): Mixed integer linear sports scheduling problems\n",
    "- **Portfolio** (06): Binary quadratic and quadratic unconstrained portfolio optimization\n",
    "\n",
    "### Attribution\n",
    "All converted data is derived from the original QOBLIB repository created by Thorsten Koch, David E. Bernal Neira, Ying Chen, Giorgio Cortiana, Daniel J. Egger, Raoul Heese, Narendra N. Hegade, Alejandro Gomez Cadavid, Rhea Huang, Toshinari Itoko, Thomas Kleinert, Pedro Maciel Xavier, Naeimeh Mohseni, Jhon A. Montanez-Barrera, Koji Nakano, Giacomo Nannicini, Corey O'Meara, Justin Pauckert, Manuel Proissl, Anurag Ramesh, Maximilian Schicker, Noriaki Shimada, Mitsuharu Takeori, Victor Valls, David Van Bulck, Stefan Woerner, and Christa Zoufal, licensed under CC BY 4.0."
   ]
  }
 ],
 "metadata": {
  "jupytext": {
   "cell_metadata_filter": "-all",
   "main_language": "python",
   "notebook_metadata_filter": "-all"
  },
  "language_info": {
   "name": "python"
  }
 },
 "nbformat": 4,
 "nbformat_minor": 5
}
