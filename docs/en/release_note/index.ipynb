{
 "cells": [
  {
   "cell_type": "markdown",
   "id": "8ecdc601",
   "metadata": {},
   "source": "# Release Notes\n\n## Version 0.1.0\n\n**Initial Release - QOBLIB Dataset Collection**\n\n### Overview\nThis initial release establishes OMMX Quantum Benchmarks as a collection of optimization benchmark datasets in OMMX format. The first collection includes selected datasets from the [QOBLIB (Quantum Optimization Benchmarking Library)](https://git.zib.de/qopt/qoblib-quantum-optimization-benchmarking-library).\n\n**Scope**: This release focuses on QOBLIB datasets, with framework designed to accommodate additional benchmark sources in future releases.\n\n### Features\n- Python API for accessing quantum optimization benchmark datasets\n- OMMX format conversion and standardization\n- GitHub Container Registry integration for distributed data access\n- Consistent interface across all dataset categories\n\n### Currently Available Data\n**From QOBLIB Collection**:\n- **Labs** (02): 99 instances with integer and quadratic unconstrained formulations\n- **Birkhoff** (03): 800 instances with integer linear formulations\n- **Steiner** (04): 31 instances with integer linear formulations\n- **Topology** (10): 16 instances with flow MIP, Seidel linear, and Seidel quadratic formulations\n\n### Attribution\nAll converted data is derived from the original QOBLIB repository created by Thorsten Koch, David E. Bernal Neira, and colleagues, licensed under CC BY 4.0."
  }
 ],
 "metadata": {
  "jupytext": {
   "cell_metadata_filter": "-all",
   "main_language": "python",
   "notebook_metadata_filter": "-all"
  }
 },
 "nbformat": 4,
 "nbformat_minor": 5
}