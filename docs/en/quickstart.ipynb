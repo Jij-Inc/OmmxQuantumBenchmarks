{
 "cells": [
  {
   "cell_type": "markdown",
   "metadata": {},
   "source": [
    "# Quick Start Guide\n",
    "\n",
    "This guide will help you get started with OMMX Quantum Benchmarks, which provides standardized access to quantum optimization benchmark datasets in OMMX format."
   ]
  },
  {
   "cell_type": "markdown",
   "metadata": {},
   "source": [
    "## Installation\n",
    "\n",
    "Since this package is currently in development and not yet published on PyPI, install directly from the GitHub repository:\n",
    "\n",
    "```bash\n",
    "# Clone the repository\n",
    "git clone https://github.com/Jij-Inc/OmmxQuantumBenchmarks.git\n",
    "cd OmmxQuantumBenchmarks\n",
    "\n",
    "# Install in development mode with pip\n",
    "pip install -e .\n",
    "\n",
    "# Or install in development mode with uv\n",
    "uv pip install -e .\n",
    "```\n",
    "\n",
    "Alternatively, you can install directly from GitHub without cloning:\n",
    "\n",
    "```bash\n",
    "# Using pip\n",
    "pip install git+https://github.com/Jij-Inc/OmmxQuantumBenchmarks.git\n",
    "\n",
    "# Using uv\n",
    "uv pip install git+https://github.com/Jij-Inc/OmmxQuantumBenchmarks.git\n",
    "```"
   ]
  },
  {
   "cell_type": "markdown",
   "metadata": {},
   "source": [
    "## Basic Usage\n",
    "\n",
    "Let's start with a simple example using the Marketsplit dataset:"
   ]
  },
  {
   "cell_type": "code",
   "execution_count": 1,
   "metadata": {},
   "outputs": [
    {
     "name": "stdout",
     "output_type": "stream",
     "text": [
      "Dataset name: 02_labs\n",
      "Available models: ['integer', 'quadratic_unconstrained']\n",
      "Description: Labs dataset in ommx format, originally provided by https://git.zib.de/qopt/qoblib-quantum-optimization-benchmarking-library/-/tree/main/02-labs?ref_type=heads.\n"
     ]
    }
   ],
   "source": [
    "from ommx_quantum_benchmarks.qoblib import Labs\n",
    "\n",
    "# Create a dataset instance\n",
    "dataset = Labs()\n",
    "\n",
    "# Check basic properties\n",
    "print(f\"Dataset name: {dataset.name}\")\n",
    "print(f\"Available models: {dataset.model_names}\")\n",
    "print(f\"Description: {dataset.description}\")"
   ]
  },
  {
   "cell_type": "markdown",
   "metadata": {},
   "source": [
    "## Loading an Instance\n",
    "\n",
    "Each dataset contains multiple instances. Let's load a specific instance:"
   ]
  },
  {
   "cell_type": "code",
   "execution_count": 2,
   "metadata": {},
   "outputs": [
    {
     "name": "stdout",
     "output_type": "stream",
     "text": [
      "Loaded instance: labs002\n",
      "Instance type: <class 'ommx.v1.Instance'>\n",
      "Solution type: <class 'ommx.v1.Solution'>\n"
     ]
    }
   ],
   "source": [
    "# Choose a model and instance\n",
    "model_name = \"integer\"\n",
    "instance_name = \"labs002\"\n",
    "\n",
    "# Load the instance and solution\n",
    "instance, solution = dataset(model_name, instance_name)\n",
    "\n",
    "print(f\"Loaded instance: {instance_name}\")\n",
    "print(f\"Instance type: {type(instance)}\")\n",
    "print(f\"Solution type: {type(solution)}\")"
   ]
  },
  {
   "cell_type": "markdown",
   "metadata": {},
   "source": [
    "## Working with Solutions\n",
    "\n",
    "OMMX Quantum Benchmarks provides solutions for many instances. You can evaluate and work with these solutions:"
   ]
  },
  {
   "cell_type": "code",
   "execution_count": 3,
   "metadata": {},
   "outputs": [
    {
     "name": "stdout",
     "output_type": "stream",
     "text": [
      "Original solution objective: 1.0\n",
      "Evaluated solution objective: 1.0\n",
      "Solution is feasible: True\n",
      "Objectives match: True\n",
      "Feasibility matches: True\n"
     ]
    }
   ],
   "source": [
    "if solution is not None:\n",
    "    # Evaluate the solution using the instance\n",
    "    evaluated_solution = instance.evaluate(solution.state)\n",
    "    \n",
    "    print(f\"Original solution objective: {solution.objective}\")\n",
    "    print(f\"Evaluated solution objective: {evaluated_solution.objective}\")\n",
    "    print(f\"Solution is feasible: {evaluated_solution.feasible}\")\n",
    "    \n",
    "    # Check if the solutions match\n",
    "    objectives_match = solution.objective == evaluated_solution.objective\n",
    "    feasibility_matches = solution.feasible == evaluated_solution.feasible\n",
    "    \n",
    "    print(f\"Objectives match: {objectives_match}\")\n",
    "    print(f\"Feasibility matches: {feasibility_matches}\")\n",
    "else:\n",
    "    print(\"No solution available for this instance\")"
   ]
  },
  {
   "cell_type": "markdown",
   "metadata": {},
   "source": [
    "## Exploring Available Instances\n",
    "\n",
    "Each dataset has different available instances for different models:"
   ]
  },
  {
   "cell_type": "code",
   "execution_count": 4,
   "metadata": {},
   "outputs": [
    {
     "name": "stdout",
     "output_type": "stream",
     "text": [
      "Model 'integer' has 99 instances:\n",
      "  - labs002\n",
      "  - labs003\n",
      "  - labs004\n",
      "  - labs005\n",
      "  - labs006\n",
      "  ... and 94 more\n",
      "\n",
      "Model 'quadratic_unconstrained' has 99 instances:\n",
      "  - labs002\n",
      "  - labs003\n",
      "  - labs004\n",
      "  - labs005\n",
      "  - labs006\n",
      "  ... and 94 more\n",
      "\n"
     ]
    }
   ],
   "source": [
    "# Check available instances for each model\n",
    "for model, instances in dataset.available_instances.items():\n",
    "    print(f\"Model '{model}' has {len(instances)} instances:\")\n",
    "    # Show first 5 instances as example\n",
    "    for instance in instances[:5]:\n",
    "        print(f\"  - {instance}\")\n",
    "    if len(instances) > 5:\n",
    "        print(f\"  ... and {len(instances) - 5} more\")\n",
    "    print()"
   ]
  },
  {
   "cell_type": "markdown",
   "metadata": {},
   "source": [
    "## Working with Different Datasets\n",
    "\n",
    "OMMX Quantum Benchmarks provides access to multiple optimization problem categories:"
   ]
  },
  {
   "cell_type": "code",
   "execution_count": 5,
   "metadata": {},
   "outputs": [
    {
     "name": "stdout",
     "output_type": "stream",
     "text": [
      "Marketsplit:\n",
      "  Name: 01_marketsplit\n",
      "  Models: ['binary_linear', 'binary_unconstrained']\n",
      "  Total instances: 0\n",
      "\n",
      "Labs:\n",
      "  Name: 02_labs\n",
      "  Models: ['integer', 'quadratic_unconstrained']\n",
      "  Total instances: 198\n",
      "\n",
      "Portfolio:\n",
      "  Name: 06_portfolio\n",
      "  Models: ['binary_quadratic', 'quadratic_unconstrained']\n",
      "  Total instances: 0\n",
      "\n",
      "IndependentSet:\n",
      "  Name: 07_independent_set\n",
      "  Models: ['binary_linear', 'binary_unconstrained']\n",
      "  Total instances: 0\n",
      "\n",
      "Topology:\n",
      "  Name: 10_topology\n",
      "  Models: ['flow_mip', 'seidel_linear', 'seidel_quadratic']\n",
      "  Total instances: 0\n",
      "\n"
     ]
    }
   ],
   "source": [
    "from ommx_quantum_benchmarks.qoblib import (\n",
    "    Marketsplit, Labs, Portfolio, IndependentSet, Topology\n",
    ")\n",
    "\n",
    "# Create instances of different datasets\n",
    "datasets = {\n",
    "    \"Marketsplit\": Marketsplit(),\n",
    "    \"Labs\": Labs(),\n",
    "    \"Portfolio\": Portfolio(),\n",
    "    \"IndependentSet\": IndependentSet(),\n",
    "    \"Topology\": Topology()\n",
    "}\n",
    "\n",
    "# Display information about each dataset\n",
    "for name, ds in datasets.items():\n",
    "    print(f\"{name}:\")\n",
    "    print(f\"  Name: {ds.name}\")\n",
    "    print(f\"  Models: {ds.model_names}\")\n",
    "    total_instances = sum(len(instances) for instances in ds.available_instances.values())\n",
    "    print(f\"  Total instances: {total_instances}\")\n",
    "    print()"
   ]
  },
  {
   "cell_type": "markdown",
   "metadata": {},
   "source": [
    "## Next Steps\n",
    "\n",
    "Now that you've learned the basics, you can:\n",
    "\n",
    "1. **Explore the [Usage Guide](tutorial/usage/index_usage.ipynb)** for more detailed information about working with datasets and instances\n",
    "2. **Check out [Examples](tutorial/examples/index_examples.ipynb)** for practical use cases with different problem types\n",
    "3. **Browse the [API Reference](autoapi/index)** for complete documentation of all available classes and methods\n",
    "\n",
    "Happy optimizing with OMMX Quantum Benchmarks!"
   ]
  }
 ],
 "metadata": {
  "kernelspec": {
   "display_name": "ommx-oblib",
   "language": "python",
   "name": "python3"
  },
  "language_info": {
   "codemirror_mode": {
    "name": "ipython",
    "version": 3
   },
   "file_extension": ".py",
   "mimetype": "text/x-python",
   "name": "python",
   "nbconvert_exporter": "python",
   "pygments_lexer": "ipython3",
   "version": "3.10.18"
  }
 },
 "nbformat": 4,
 "nbformat_minor": 4
}
