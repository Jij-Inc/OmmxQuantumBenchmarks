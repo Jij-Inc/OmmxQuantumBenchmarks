{
 "cells": [
  {
   "cell_type": "code",
   "execution_count": 1,
   "id": "a565ebf3-3266-4eff-92c9-492068cc57e1",
   "metadata": {},
   "outputs": [],
   "source": [
    "import jijmodeling as jm\n",
    "import numpy as np\n",
    "import ommx\n",
    "\n",
    "def create_problem():\n",
    "    \"\"\"\n",
    "    Create the JijModeling problem definition.\n",
    "    \"\"\"\n",
    "    # Define placeholders for model parameters\n",
    "    msize = jm.Placeholder(\"msize\", description=\"Size of the square matrix (n x n)\")\n",
    "    scale = jm.Placeholder(\"scale\", description=\"Scaling factor for the decomposition\")\n",
    "\n",
    "    # Define sets and parameter placeholders\n",
    "    J = jm.Placeholder(\"J\", ndim=1, description=\"Index set for matrix rows and columns\")\n",
    "    A_mn = jm.Placeholder(\"A\", ndim=2, description=\"Target matrix to decompose (scaled doubly stochastic)\")\n",
    "    P_i = jm.Placeholder(\"P\", ndim=3, description=\"Set of 3D permutation matrices (|I| x msize x msize)\")\n",
    "    I = jm.Placeholder(\"I\", ndim=1, description=\"Index set for permutations\")\n",
    "\n",
    "    # Define decision variables\n",
    "    x = jm.IntegerVar(\"x\", shape=(I.shape[0],), lower_bound=0, upper_bound=scale,\n",
    "                    description=\"Integer weights for each permutation matrix\")\n",
    "    z = jm.BinaryVar(\"z\", shape=(I.shape[0],),\n",
    "                    description=\"Binary activation variable for each permutation matrix\")\n",
    "\n",
    "    # Create the optimization problem\n",
    "    problem = jm.Problem(\"Birkhoff Integer Decomposition\", sense=jm.ProblemSense.MINIMIZE)\n",
    "\n",
    "    # Define index element i\n",
    "    i = jm.Element(\"i\", belong_to=I)\n",
    "\n",
    "    # Objective: minimize the number of permutation matrices used (i.e., number of active z[i])\n",
    "    problem += jm.sum(i, z[i])\n",
    "\n",
    "    # Constraint c1: sum of all weights equals the given scale\n",
    "    problem += jm.Constraint(\"c1\", jm.sum(i, x[i]) == scale)\n",
    "\n",
    "    # Constraint c2: for all matrix elements (m,n), the weighted sum of permutation matrices equals the target matrix a3\n",
    "    # This enforces A = sum_i x[i] * P_i[i]\n",
    "    m = jm.Element(\"m\", belong_to=J)\n",
    "    n = jm.Element(\"n\", belong_to=J)\n",
    "    problem += jm.Constraint(\"c2\", jm.sum(i, x[i] * P_i[i, m, n]) == A_mn[m, n], forall=[m, n])\n",
    "\n",
    "    # Constraint c3: x[i] > 0 implies z[i] = 1 (linking integer variable with binary)\n",
    "    # Enforces: x[i] <= scale * z[i]\n",
    "    problem += jm.Constraint(\"c3\", x[i] <= scale * z[i], forall=[i])\n",
    "\n",
    "    return problem"
   ]
  },
  {
   "cell_type": "code",
   "execution_count": 2,
   "id": "7731705e-2774-4232-9e87-1f94f6d9063b",
   "metadata": {},
   "outputs": [
    {
     "data": {
      "text/latex": [
       "$$\\begin{array}{cccc}\\text{Problem:} & \\text{Birkhoff Integer Decomposition} & & \\\\& & \\min \\quad \\displaystyle \\sum_{i \\in I} z_{i} & \\\\\\text{{s.t.}} & & & \\\\ & \\text{c1} & \\displaystyle \\sum_{i \\in I} x_{i} = scale &  \\\\ & \\text{c2} & \\displaystyle \\sum_{i \\in I} x_{i} \\cdot P_{i, m, n} = A_{m, n} & \\forall m \\in J \\forall n \\in J \\\\ & \\text{c3} & \\displaystyle x_{i} \\leq scale \\cdot z_{i} & \\forall i \\in I \\\\\\text{{where}} & & & \\\\& z & 1\\text{-dim binary variable}& \\text{Binary activation variable for each permutation matrix}\\\\& x & 1\\text{-dim integer variable}& \\text{Integer weights for each permutation matrix}\\\\ & & \\text{lower bound: }0 & \\\\ & & \\text{upper bound: }scale & \\\\\\end{array}$$"
      ],
      "text/plain": [
       "<jijmodeling.Problem at 0x12297c200>"
      ]
     },
     "execution_count": 2,
     "metadata": {},
     "output_type": "execute_result"
    }
   ],
   "source": [
    "problem= create_problem()\n",
    "problem"
   ]
  },
  {
   "cell_type": "code",
   "execution_count": 3,
   "id": "3837c1c7-5f27-4e37-918a-cda2b0a5d202",
   "metadata": {},
   "outputs": [],
   "source": [
    "def permutation_to_matrix(perm):\n",
    "    n= len(perm)\n",
    "    matrix =[[0]*n for _ in range(n)]\n",
    "    for i in range(n):\n",
    "        matrix[i][perm[i]-1]=1\n",
    "    return matrix\n",
    "def convert_all_permutations(perms):\n",
    "    return[permutation_to_matrix(p) for p in perms]"
   ]
  },
  {
   "cell_type": "code",
   "execution_count": 14,
   "id": "ba3d7b6f-6c7c-4e27-871f-c065b8bd044e",
   "metadata": {},
   "outputs": [
    {
     "data": {
      "text/plain": [
       "{'msize': 3,\n",
       " 'scale': 1000,\n",
       " 'J': array([0, 1, 2]),\n",
       " 'A': array([[916,  84,   0],\n",
       "        [ 84, 457, 459],\n",
       "        [  0, 459, 541]]),\n",
       " 'P': [[[1, 0, 0], [0, 1, 0], [0, 0, 1]],\n",
       "  [[1, 0, 0], [0, 0, 1], [0, 1, 0]],\n",
       "  [[0, 1, 0], [1, 0, 0], [0, 0, 1]],\n",
       "  [[0, 1, 0], [0, 0, 1], [1, 0, 0]],\n",
       "  [[0, 0, 1], [1, 0, 0], [0, 1, 0]],\n",
       "  [[0, 0, 1], [0, 1, 0], [1, 0, 0]]],\n",
       " 'I': array([0, 1, 2, 3, 4, 5])}"
      ]
     },
     "execution_count": 14,
     "metadata": {},
     "output_type": "execute_result"
    }
   ],
   "source": [
    "import numpy as np\n",
    "instance_data = {\n",
    "    \"msize\": 3,\n",
    "    \"scale\": 1000,\n",
    "    \"J\": np.arange(0, 3),\n",
    "    \"A\": np.array([[916, 84, 0], [84, 457, 459], [0, 459, 541]]),\n",
    "    \"P\": convert_all_permutations(np.array([[1, 2, 3], [1, 3, 2], [2, 1, 3], [2, 3, 1], [3, 1, 2], [3, 2, 1]])),\n",
    "    \"I\": np.arange(0, 6) #{1,...,6}\n",
    "}\n",
    "instance_data"
   ]
  },
  {
   "cell_type": "code",
   "execution_count": 4,
   "id": "30f6841e-0f7e-462c-8c16-ebcc32a7bee1",
   "metadata": {},
   "outputs": [
    {
     "data": {
      "text/plain": [
       "{'msize': 3,\n",
       " 'scale': 1000,\n",
       " 'J': array([0, 1, 2]),\n",
       " 'A': array([[  0, 492, 508],\n",
       "        [636, 315,  49],\n",
       "        [364, 193, 443]]),\n",
       " 'P': [[[0, 1, 0], [1, 0, 0], [0, 0, 1]],\n",
       "  [[0, 0, 1], [1, 0, 0], [0, 1, 0]],\n",
       "  [[0, 1, 0], [1, 0, 0], [0, 0, 1]],\n",
       "  [[0, 0, 1], [0, 1, 0], [1, 0, 0]],\n",
       "  [[0, 1, 0], [1, 0, 0], [0, 0, 1]],\n",
       "  [[0, 1, 0], [1, 0, 0], [0, 0, 1]],\n",
       "  [[0, 1, 0], [0, 0, 1], [1, 0, 0]],\n",
       "  [[0, 1, 0], [0, 0, 1], [1, 0, 0]],\n",
       "  [[0, 0, 1], [1, 0, 0], [0, 1, 0]]],\n",
       " 'I': array([0, 1, 2, 3, 4, 5, 6, 7, 8])}"
      ]
     },
     "execution_count": 4,
     "metadata": {},
     "output_type": "execute_result"
    }
   ],
   "source": [
    "instance_data = {\n",
    "    \"msize\": 3,\n",
    "    \"scale\": 1000,\n",
    "    \"J\": np.arange(0, 3),\n",
    "    \"A\": np.array([[0, 492, 508],[ 636, 315, 49],[ 364, 193, 443]]),\n",
    "    \"P\": convert_all_permutations(np.array([\n",
    "      [2, 1, 3],[ 3, 1, 2],[ 2, 1, 3],[ 3, 2, 1],[ 2, 1, 3],[ 2, 1, 3],[ 2, 3, 1], [2, 3, 1],[ 3,\n",
    "      1, 2]\n",
    "    ])),\n",
    "    \"I\": np.arange(0, 9) #{1,...,msize!}\n",
    "}\n",
    "instance_data"
   ]
  },
  {
   "cell_type": "code",
   "execution_count": 5,
   "id": "1cf81da5-910e-4fea-a8d2-26f4133a0943",
   "metadata": {},
   "outputs": [],
   "source": [
    "ommx.v1.Instance = jm.Interpreter(instance_data).eval_problem(problem)"
   ]
  },
  {
   "cell_type": "code",
   "execution_count": 6,
   "id": "d8e4b3b5-1fc6-4616-8a65-c0496acfe67e",
   "metadata": {},
   "outputs": [
    {
     "data": {
      "text/plain": [
       "Function(x0 + x1 + x2 + x3 + x4 + x5 + x6 + x7 + x8)"
      ]
     },
     "execution_count": 6,
     "metadata": {},
     "output_type": "execute_result"
    }
   ],
   "source": [
    "ommx.v1.Instance.objective"
   ]
  },
  {
   "cell_type": "code",
   "execution_count": 7,
   "id": "8e891e14-557e-4ef2-991f-0962d4af9922",
   "metadata": {},
   "outputs": [
    {
     "name": "stdout",
     "output_type": "stream",
     "text": [
      "solution.objective=4.0, solution.feasible=True\n"
     ]
    }
   ],
   "source": [
    "import ommx_pyscipopt_adapter as scip_ad\n",
    "solution = scip_ad.OMMXPySCIPOptAdapter.solve(ommx.v1.Instance)\n",
    "print(f\"{solution.objective=}, {solution.feasible=}\")"
   ]
  },
  {
   "cell_type": "code",
   "execution_count": null,
   "id": "6809d94e-6f86-4dc2-b567-44876c860d4a",
   "metadata": {},
   "outputs": [],
   "source": []
  }
 ],
 "metadata": {
  "kernelspec": {
   "display_name": "Python 3 (ipykernel)",
   "language": "python",
   "name": "python3"
  },
  "language_info": {
   "codemirror_mode": {
    "name": "ipython",
    "version": 3
   },
   "file_extension": ".py",
   "mimetype": "text/x-python",
   "name": "python",
   "nbconvert_exporter": "python",
   "pygments_lexer": "ipython3",
   "version": "3.10.6"
  }
 },
 "nbformat": 4,
 "nbformat_minor": 5
}
